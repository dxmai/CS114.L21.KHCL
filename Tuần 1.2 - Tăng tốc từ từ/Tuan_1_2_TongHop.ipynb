{
  "nbformat": 4,
  "nbformat_minor": 0,
  "metadata": {
    "colab": {
      "name": "Tuan_1_2_TongHop.ipynb",
      "provenance": [],
      "authorship_tag": "ABX9TyMr+XnaGM2CKPJwAdC5uCat",
      "include_colab_link": true
    },
    "kernelspec": {
      "name": "python3",
      "display_name": "Python 3"
    },
    "language_info": {
      "name": "python"
    }
  },
  "cells": [
    {
      "cell_type": "markdown",
      "metadata": {
        "id": "view-in-github",
        "colab_type": "text"
      },
      "source": [
        "<a href=\"https://colab.research.google.com/github/dxmai/CS114.L21.KHCL/blob/main/Tu%E1%BA%A7n%201.2%20-%20T%C4%83ng%20t%E1%BB%91c%20t%E1%BB%AB%20t%E1%BB%AB/Tuan_1_2_TongHop.ipynb\" target=\"_parent\"><img src=\"https://colab.research.google.com/assets/colab-badge.svg\" alt=\"Open In Colab\"/></a>"
      ]
    },
    {
      "cell_type": "markdown",
      "metadata": {
        "id": "UQOlhFVyQDFL"
      },
      "source": [
        "SỐ AMSTRONG"
      ]
    },
    {
      "cell_type": "code",
      "metadata": {
        "id": "C0rGYnyQPydD"
      },
      "source": [
        "so = input()\n",
        "\n",
        "luyThua = len(so)\n",
        "length = 0\n",
        "sum = 0\n",
        "\n",
        "while (length < len(so)):\n",
        "    temp = int(so[length])\n",
        "    sum += pow(temp, luyThua)\n",
        "    length += 1\n",
        "\n",
        "if int(so) == sum:\n",
        "    print(\"True\")\n",
        "else:\n",
        "    print(\"False\")"
      ],
      "execution_count": null,
      "outputs": []
    },
    {
      "cell_type": "markdown",
      "metadata": {
        "id": "3u7qKTEDQKW7"
      },
      "source": [
        "RẠP PHIM"
      ]
    },
    {
      "cell_type": "code",
      "metadata": {
        "id": "Y1MbX6EyQMhp"
      },
      "source": [
        "n, m, canh = map(int, input().split())\n",
        "\n",
        "chieuDai = 1\n",
        "chieuRong = 1\n",
        "\n",
        "while (canh * chieuDai < n):\n",
        "    chieuDai += 1\n",
        "\n",
        "while (canh * chieuRong < m):\n",
        "    chieuRong += 1\n",
        "\n",
        "print(chieuDai * chieuRong)"
      ],
      "execution_count": null,
      "outputs": []
    },
    {
      "cell_type": "markdown",
      "metadata": {
        "id": "uN653-5eQRJD"
      },
      "source": [
        "GỌT DƯA"
      ]
    },
    {
      "cell_type": "code",
      "metadata": {
        "id": "uoWaXxsJQVRr"
      },
      "source": [
        "kg = int(input())\n",
        "\n",
        "if kg % 2 == 0 and kg != 2:\n",
        "    print(\"YES\")\n",
        "else:\n",
        "    print(\"NO\")"
      ],
      "execution_count": null,
      "outputs": []
    },
    {
      "cell_type": "markdown",
      "metadata": {
        "id": "YASnsJw8QiXL"
      },
      "source": [
        "XẾP DOMINO"
      ]
    },
    {
      "cell_type": "code",
      "metadata": {
        "id": "vBVaD1ATQkpr"
      },
      "source": [
        "m, n = map(int, input().split())\n",
        "\n",
        "tongHinhVuong = m * n\n",
        "\n",
        "domino = tongHinhVuong // 2\n",
        "print(domino)"
      ],
      "execution_count": null,
      "outputs": []
    }
  ]
}