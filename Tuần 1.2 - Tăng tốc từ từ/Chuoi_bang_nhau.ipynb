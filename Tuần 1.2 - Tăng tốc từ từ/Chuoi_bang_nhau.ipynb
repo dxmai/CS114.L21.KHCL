{
  "nbformat": 4,
  "nbformat_minor": 0,
  "metadata": {
    "colab": {
      "name": "Chuoi_bang_nhau.ipynb",
      "provenance": [],
      "authorship_tag": "ABX9TyNgbWGox81Swt197zJxiBH5",
      "include_colab_link": true
    },
    "kernelspec": {
      "name": "python3",
      "display_name": "Python 3"
    },
    "language_info": {
      "name": "python"
    }
  },
  "cells": [
    {
      "cell_type": "markdown",
      "metadata": {
        "id": "view-in-github",
        "colab_type": "text"
      },
      "source": [
        "<a href=\"https://colab.research.google.com/github/dxmai/CS114.L21.KHCL/blob/main/Tu%E1%BA%A7n%201.2%20-%20T%C4%83ng%20t%E1%BB%91c%20t%E1%BB%AB%20t%E1%BB%AB/Chuoi_bang_nhau.ipynb\" target=\"_parent\"><img src=\"https://colab.research.google.com/assets/colab-badge.svg\" alt=\"Open In Colab\"/></a>"
      ]
    },
    {
      "cell_type": "markdown",
      "metadata": {
        "id": "NSPRlH2XR2CV"
      },
      "source": [
        "CHUỖI BẰNG NHAU"
      ]
    },
    {
      "cell_type": "code",
      "metadata": {
        "id": "3RmE-Wn3RzaD"
      },
      "source": [
        "soTestcase = int(input())\n",
        "count = 0\n",
        "while (count < soTestcase):\n",
        "    array1 = [0] * 26\n",
        "    array2 = [0] * 26\n",
        "    string1 = input()\n",
        "    string2 = input()\n",
        "\n",
        "    for i in string1:\n",
        "        array1[ord(i) - ord('a')] += 1\n",
        "\n",
        "    for j in string2:\n",
        "        array2[ord(j) - ord('a')] += 1\n",
        "\n",
        "    index = 0\n",
        "    flag = False\n",
        "    while(index < len(array1)):\n",
        "        if array1[index] != 0 and array2[index] != 0:\n",
        "            flag = True\n",
        "            break\n",
        "        index += 1\n",
        "\n",
        "    if flag:\n",
        "        print(\"YES\")\n",
        "    else:\n",
        "        print(\"NO\")\n",
        "\n",
        "    count += 1"
      ],
      "execution_count": null,
      "outputs": []
    }
  ]
}