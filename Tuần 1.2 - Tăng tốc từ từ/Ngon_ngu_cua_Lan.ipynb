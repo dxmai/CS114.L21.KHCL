{
  "nbformat": 4,
  "nbformat_minor": 0,
  "metadata": {
    "colab": {
      "name": "Ngon_ngu_cua_Lan.ipynb",
      "provenance": [],
      "authorship_tag": "ABX9TyMyU92oswr5ywc9R//wETJN",
      "include_colab_link": true
    },
    "kernelspec": {
      "name": "python3",
      "display_name": "Python 3"
    },
    "language_info": {
      "name": "python"
    }
  },
  "cells": [
    {
      "cell_type": "markdown",
      "metadata": {
        "id": "view-in-github",
        "colab_type": "text"
      },
      "source": [
        "<a href=\"https://colab.research.google.com/github/dxmai/CS114.L21.KHCL/blob/main/Tu%E1%BA%A7n%201.2%20-%20T%C4%83ng%20t%E1%BB%91c%20t%E1%BB%AB%20t%E1%BB%AB/Ngon_ngu_cua_Lan.ipynb\" target=\"_parent\"><img src=\"https://colab.research.google.com/assets/colab-badge.svg\" alt=\"Open In Colab\"/></a>"
      ]
    },
    {
      "cell_type": "markdown",
      "metadata": {
        "id": "YLoPEMUnRXVj"
      },
      "source": [
        "NGÔN NGỮ CỦA LAN"
      ]
    },
    {
      "cell_type": "code",
      "metadata": {
        "id": "1Q7K0FCZRODg"
      },
      "source": [
        "string = input()\n",
        "subStrings = string.split(\" \")\n",
        "\n",
        "nam = ['lios', 'etr', 'initis'] #theo thứ tự tính từ + danh từ + động từ\n",
        "nu = ['liala', 'etra', 'inites']\n",
        "\n",
        "def KiemTra(array, word):\n",
        "    index = 0\n",
        "    flag = False\n",
        "    for i in array:\n",
        "        if word.endswith(i):\n",
        "            flag = True\n",
        "            break\n",
        "        index += 1\n",
        "    return index, flag\n",
        "\n",
        "flag = True\n",
        "checkNam = False\n",
        "checkNu = False\n",
        "pre = 0\n",
        "countNoun = 0\n",
        "for i in subStrings:\n",
        "    viTri, dungSai = KiemTra(nam, i)\n",
        "    if dungSai == False:\n",
        "        viTri, dungSai = KiemTra(nu, i)\n",
        "        if dungSai == False:\n",
        "            flag = False\n",
        "        else:\n",
        "            checkNu = True\n",
        "            if pre > viTri or (pre == 1 and viTri == 1):\n",
        "                flag = False\n",
        "            else:\n",
        "                pre = viTri\n",
        "                if viTri == 1:\n",
        "                    countNoun += 1\n",
        "    else:\n",
        "        checkNam = True\n",
        "        if pre > viTri or (pre == 1 and viTri == 1):\n",
        "            flag = False\n",
        "        else:\n",
        "            pre = viTri\n",
        "            if viTri == 1:\n",
        "                countNoun += 1\n",
        "\n",
        "if flag:\n",
        "    if len(subStrings) == 1 or ((checkNu != checkNam) and countNoun == 1):\n",
        "        print(\"YES\")\n",
        "    else:\n",
        "        print(\"NO\")\n",
        "else:\n",
        "    print(\"NO\")"
      ],
      "execution_count": null,
      "outputs": []
    }
  ]
}