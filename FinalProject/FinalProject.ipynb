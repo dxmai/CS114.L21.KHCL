{
  "nbformat": 4,
  "nbformat_minor": 0,
  "metadata": {
    "colab": {
      "name": "FinalProject.ipynb",
      "provenance": [],
      "authorship_tag": "ABX9TyN5Ae3YyxVOgA7h/A07Y0Qu",
      "include_colab_link": true
    },
    "kernelspec": {
      "name": "python3",
      "display_name": "Python 3"
    },
    "language_info": {
      "name": "python"
    }
  },
  "cells": [
    {
      "cell_type": "markdown",
      "metadata": {
        "id": "view-in-github",
        "colab_type": "text"
      },
      "source": [
        "<a href=\"https://colab.research.google.com/github/dxmai/CS114.L21.KHCL/blob/main/FinalProject/FinalProject.ipynb\" target=\"_parent\"><img src=\"https://colab.research.google.com/assets/colab-badge.svg\" alt=\"Open In Colab\"/></a>"
      ]
    },
    {
      "cell_type": "code",
      "metadata": {
        "id": "e7_vkHnQSm-U"
      },
      "source": [
        "import pandas as pd\n",
        "import json"
      ],
      "execution_count": 2,
      "outputs": []
    },
    {
      "cell_type": "code",
      "metadata": {
        "colab": {
          "base_uri": "https://localhost:8080/",
          "height": 421
        },
        "id": "GTPmt4fFTQ8l",
        "outputId": "f20c387f-a182-4323-e43f-52f54d79bb14"
      },
      "source": [
        "newnatural = pd.read_json('https://raw.githubusercontent.com/dxmai/CS114.L21.KHCL/main/FinalProject/Dataset/naturalnews.json')\n",
        "newnatural"
      ],
      "execution_count": 4,
      "outputs": [
        {
          "output_type": "execute_result",
          "data": {
            "text/html": [
              "<div>\n",
              "<style scoped>\n",
              "    .dataframe tbody tr th:only-of-type {\n",
              "        vertical-align: middle;\n",
              "    }\n",
              "\n",
              "    .dataframe tbody tr th {\n",
              "        vertical-align: top;\n",
              "    }\n",
              "\n",
              "    .dataframe thead th {\n",
              "        text-align: right;\n",
              "    }\n",
              "</style>\n",
              "<table border=\"1\" class=\"dataframe\">\n",
              "  <thead>\n",
              "    <tr style=\"text-align: right;\">\n",
              "      <th></th>\n",
              "      <th>headline</th>\n",
              "      <th>article_link</th>\n",
              "      <th>is_fake</th>\n",
              "    </tr>\n",
              "  </thead>\n",
              "  <tbody>\n",
              "    <tr>\n",
              "      <th>0</th>\n",
              "      <td>SNITCH SOCIETY: Biden calls on Americans to be...</td>\n",
              "      <td>2021-06-16-biden-calls-americans-betray-friend...</td>\n",
              "      <td>1</td>\n",
              "    </tr>\n",
              "    <tr>\n",
              "      <th>1</th>\n",
              "      <td>Who are the “unindicted co-conspirators” in Ja...</td>\n",
              "      <td>2021-06-16-who-are-the-unindicted-co-conspirat...</td>\n",
              "      <td>1</td>\n",
              "    </tr>\n",
              "    <tr>\n",
              "      <th>2</th>\n",
              "      <td>Tucker: Jan. 6 “insurrection” organizers were ...</td>\n",
              "      <td>2021-06-16-tucker-jan-6-insurrection-organizer...</td>\n",
              "      <td>1</td>\n",
              "    </tr>\n",
              "    <tr>\n",
              "      <th>3</th>\n",
              "      <td>Just two investment firms – Vanguard and Black...</td>\n",
              "      <td>2021-06-16-investment-firms-vanguard-blackrock...</td>\n",
              "      <td>1</td>\n",
              "    </tr>\n",
              "    <tr>\n",
              "      <th>4</th>\n",
              "      <td>Since Covid-19 vaccines are said to be free fo...</td>\n",
              "      <td>2021-06-16-covid19-vaccines-free-but-not-vital...</td>\n",
              "      <td>1</td>\n",
              "    </tr>\n",
              "    <tr>\n",
              "      <th>...</th>\n",
              "      <td>...</td>\n",
              "      <td>...</td>\n",
              "      <td>...</td>\n",
              "    </tr>\n",
              "    <tr>\n",
              "      <th>34639</th>\n",
              "      <td>EXCLUSIVE: Health Ranger launches new independ...</td>\n",
              "      <td>2016-06-03-exclusive-health-ranger-launches-ne...</td>\n",
              "      <td>1</td>\n",
              "    </tr>\n",
              "    <tr>\n",
              "      <th>34640</th>\n",
              "      <td>Pro-abortion activists, college students incre...</td>\n",
              "      <td>2016-06-03-pro-abortion-activists-college-stud...</td>\n",
              "      <td>1</td>\n",
              "    </tr>\n",
              "    <tr>\n",
              "      <th>34641</th>\n",
              "      <td>Why does the mainstream media censor citizen s...</td>\n",
              "      <td>2016-06-03-why-does-the-mainstream-media-censo...</td>\n",
              "      <td>1</td>\n",
              "    </tr>\n",
              "    <tr>\n",
              "      <th>34642</th>\n",
              "      <td>Flashback: Local pharmacies donate free vitami...</td>\n",
              "      <td>2016-06-03-44248.html</td>\n",
              "      <td>1</td>\n",
              "    </tr>\n",
              "    <tr>\n",
              "      <th>34643</th>\n",
              "      <td>Exploring the anti-inflammatory properties of ...</td>\n",
              "      <td>-0001-11-30-anti-inflammatory-ability-of-gac-f...</td>\n",
              "      <td>1</td>\n",
              "    </tr>\n",
              "  </tbody>\n",
              "</table>\n",
              "<p>34644 rows × 3 columns</p>\n",
              "</div>"
            ],
            "text/plain": [
              "                                                headline  ... is_fake\n",
              "0      SNITCH SOCIETY: Biden calls on Americans to be...  ...       1\n",
              "1      Who are the “unindicted co-conspirators” in Ja...  ...       1\n",
              "2      Tucker: Jan. 6 “insurrection” organizers were ...  ...       1\n",
              "3      Just two investment firms – Vanguard and Black...  ...       1\n",
              "4      Since Covid-19 vaccines are said to be free fo...  ...       1\n",
              "...                                                  ...  ...     ...\n",
              "34639  EXCLUSIVE: Health Ranger launches new independ...  ...       1\n",
              "34640  Pro-abortion activists, college students incre...  ...       1\n",
              "34641  Why does the mainstream media censor citizen s...  ...       1\n",
              "34642  Flashback: Local pharmacies donate free vitami...  ...       1\n",
              "34643  Exploring the anti-inflammatory properties of ...  ...       1\n",
              "\n",
              "[34644 rows x 3 columns]"
            ]
          },
          "metadata": {
            "tags": []
          },
          "execution_count": 4
        }
      ]
    }
  ]
}