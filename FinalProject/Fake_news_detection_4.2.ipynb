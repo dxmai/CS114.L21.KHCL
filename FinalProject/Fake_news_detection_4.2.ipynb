{
  "nbformat": 4,
  "nbformat_minor": 0,
  "metadata": {
    "colab": {
      "name": "Fake_news_detection.ipynb",
      "provenance": [],
      "collapsed_sections": []
    },
    "kernelspec": {
      "display_name": "Python 3",
      "name": "python3"
    },
    "language_info": {
      "name": "python"
    }
  },
  "cells": [
    {
      "cell_type": "markdown",
      "metadata": {
        "id": "-rTI64iSrmdp"
      },
      "source": [
        "# Import thư viện\n"
      ]
    },
    {
      "cell_type": "code",
      "metadata": {
        "id": "DMl_IqvKrIBf"
      },
      "source": [
        "import time\n",
        "\n",
        "from sklearn.naive_bayes import MultinomialNB\n",
        "from sklearn.linear_model import  LogisticRegression\n",
        "from sklearn import svm\n",
        "from sklearn.metrics import confusion_matrix, accuracy_score, classification_report\n",
        "\n",
        "from sklearn.feature_extraction.text import CountVectorizer\n",
        "from sklearn.feature_extraction.text import TfidfTransformer\n",
        "from sklearn.feature_extraction.text import TfidfVectorizer\n",
        "\n",
        "from sklearn.pipeline import Pipeline\n",
        "\n",
        "from sklearn.model_selection import KFold\n",
        "\n",
        "import numpy as np\n",
        "import seaborn as sb\n",
        "\n",
        "import matplotlib.pyplot as plt\n",
        "\n",
        "import pandas as pd\n",
        "import pickle"
      ],
      "execution_count": null,
      "outputs": []
    },
    {
      "cell_type": "code",
      "metadata": {
        "colab": {
          "base_uri": "https://localhost:8080/"
        },
        "id": "j0uCC8x7A3mr",
        "outputId": "74fc2ff4-9298-4143-ad1a-24d6de6115e3"
      },
      "source": [
        "#Liên kết colab với google drive\n",
        "from google.colab import drive\n",
        "drive.mount('/content/drive')"
      ],
      "execution_count": null,
      "outputs": [
        {
          "output_type": "stream",
          "text": [
            "Drive already mounted at /content/drive; to attempt to forcibly remount, call drive.mount(\"/content/drive\", force_remount=True).\n"
          ],
          "name": "stdout"
        }
      ]
    },
    {
      "cell_type": "code",
      "metadata": {
        "colab": {
          "base_uri": "https://localhost:8080/"
        },
        "id": "46JeM2s8A-CW",
        "outputId": "4f11f83a-7f0f-45a5-f57b-f5e483e1da3b"
      },
      "source": [
        "#Di chuyển đến folder chưa dataset\n",
        "%cd \"/content/drive/MyDrive/Colab Notebooks/Fake_News_Detection\""
      ],
      "execution_count": null,
      "outputs": [
        {
          "output_type": "stream",
          "text": [
            "/content/drive/MyDrive/Colab Notebooks/Fake_News_Detection\n"
          ],
          "name": "stdout"
        }
      ]
    },
    {
      "cell_type": "code",
      "metadata": {
        "colab": {
          "base_uri": "https://localhost:8080/",
          "height": 417
        },
        "id": "XiwgjJvnsusa",
        "outputId": "eb851112-ee17-44c7-c9e0-55e747cd04ee"
      },
      "source": [
        "#Lấy data từ file train.json\n",
        "train = pd.read_json('train.json')\n",
        "train"
      ],
      "execution_count": null,
      "outputs": [
        {
          "output_type": "execute_result",
          "data": {
            "text/html": [
              "<div>\n",
              "<style scoped>\n",
              "    .dataframe tbody tr th:only-of-type {\n",
              "        vertical-align: middle;\n",
              "    }\n",
              "\n",
              "    .dataframe tbody tr th {\n",
              "        vertical-align: top;\n",
              "    }\n",
              "\n",
              "    .dataframe thead th {\n",
              "        text-align: right;\n",
              "    }\n",
              "</style>\n",
              "<table border=\"1\" class=\"dataframe\">\n",
              "  <thead>\n",
              "    <tr style=\"text-align: right;\">\n",
              "      <th></th>\n",
              "      <th>text</th>\n",
              "      <th>is_fake</th>\n",
              "    </tr>\n",
              "  </thead>\n",
              "  <tbody>\n",
              "    <tr>\n",
              "      <th>0</th>\n",
              "      <td>45 rarely seen anything get noticed bff kept t...</td>\n",
              "      <td>0</td>\n",
              "    </tr>\n",
              "    <tr>\n",
              "      <th>1</th>\n",
              "      <td>initially passing chazchop seattle mayor jenny...</td>\n",
              "      <td>1</td>\n",
              "    </tr>\n",
              "    <tr>\n",
              "      <th>2</th>\n",
              "      <td>always put personal spin story sway thinkingfl...</td>\n",
              "      <td>1</td>\n",
              "    </tr>\n",
              "    <tr>\n",
              "      <th>3</th>\n",
              "      <td>mean talk capitalism economic system might see...</td>\n",
              "      <td>0</td>\n",
              "    </tr>\n",
              "    <tr>\n",
              "      <th>4</th>\n",
              "      <td>questions easily answer one joe biden stance s...</td>\n",
              "      <td>1</td>\n",
              "    </tr>\n",
              "    <tr>\n",
              "      <th>...</th>\n",
              "      <td>...</td>\n",
              "      <td>...</td>\n",
              "    </tr>\n",
              "    <tr>\n",
              "      <th>388439</th>\n",
              "      <td>official much evidence lockdowns harmful flori...</td>\n",
              "      <td>1</td>\n",
              "    </tr>\n",
              "    <tr>\n",
              "      <th>388440</th>\n",
              "      <td>go bankrupt two ways gradually suddenly</td>\n",
              "      <td>1</td>\n",
              "    </tr>\n",
              "    <tr>\n",
              "      <th>388441</th>\n",
              "      <td>career spans acting fronting two fashion busin...</td>\n",
              "      <td>0</td>\n",
              "    </tr>\n",
              "    <tr>\n",
              "      <th>388442</th>\n",
              "      <td>crashhackeri think picture selfsufficient repo...</td>\n",
              "      <td>1</td>\n",
              "    </tr>\n",
              "    <tr>\n",
              "      <th>388443</th>\n",
              "      <td>man slammed vehicle girlfriend mobile home wed...</td>\n",
              "      <td>0</td>\n",
              "    </tr>\n",
              "  </tbody>\n",
              "</table>\n",
              "<p>388444 rows × 2 columns</p>\n",
              "</div>"
            ],
            "text/plain": [
              "                                                     text  is_fake\n",
              "0       45 rarely seen anything get noticed bff kept t...        0\n",
              "1       initially passing chazchop seattle mayor jenny...        1\n",
              "2       always put personal spin story sway thinkingfl...        1\n",
              "3       mean talk capitalism economic system might see...        0\n",
              "4       questions easily answer one joe biden stance s...        1\n",
              "...                                                   ...      ...\n",
              "388439  official much evidence lockdowns harmful flori...        1\n",
              "388440            go bankrupt two ways gradually suddenly        1\n",
              "388441  career spans acting fronting two fashion busin...        0\n",
              "388442  crashhackeri think picture selfsufficient repo...        1\n",
              "388443  man slammed vehicle girlfriend mobile home wed...        0\n",
              "\n",
              "[388444 rows x 2 columns]"
            ]
          },
          "metadata": {
            "tags": []
          },
          "execution_count": 4
        }
      ]
    },
    {
      "cell_type": "code",
      "metadata": {
        "id": "oRUhxCL-suzO"
      },
      "source": [
        "#Lấy data từ file test.json\n",
        "test = pd.read_json('test.json')"
      ],
      "execution_count": null,
      "outputs": []
    },
    {
      "cell_type": "markdown",
      "metadata": {
        "id": "oYTHF86MkKge"
      },
      "source": [
        "# Features extraction"
      ]
    },
    {
      "cell_type": "code",
      "metadata": {
        "id": "2VAlSFecyCs9"
      },
      "source": [
        "#Bag of Words technique\n",
        "countV = CountVectorizer()"
      ],
      "execution_count": null,
      "outputs": []
    },
    {
      "cell_type": "code",
      "metadata": {
        "id": "0ZeAqYFSjBov"
      },
      "source": [
        "#TFIDF with n-grams technique\n",
        "tfidf_ngram = TfidfVectorizer(stop_words='english',ngram_range=(1,2),use_idf=True,smooth_idf=True)"
      ],
      "execution_count": null,
      "outputs": []
    },
    {
      "cell_type": "markdown",
      "metadata": {
        "id": "u9iN_Gwjth4f"
      },
      "source": [
        "# K-fold cross validation"
      ]
    },
    {
      "cell_type": "code",
      "metadata": {
        "id": "gPc4VxD5tlr-"
      },
      "source": [
        "#Khởi tạo hàm K-fold cross validation với đối tượng truyền vào là model\n",
        "def cross_validation_train_data(classifier):\n",
        "    \n",
        "    #Train data được chia thành 10 folds, 9 folds để train và 1 fold còn lại để test model\n",
        "    k_fold = KFold(n_splits=10)\n",
        "    scores = []\n",
        "    train_time = []\n",
        "    test_time = []\n",
        "    confusion = np.array([[0,0],[0,0]])\n",
        "    \n",
        "    #Dừng lại cho đến khi tất cả 10 folds trong train data đều được sử dụng để test model\n",
        "    for train_ind, test_ind in k_fold.split(train):\n",
        "        train_text = train.iloc[train_ind]['text'] \n",
        "        train_y = train.iloc[train_ind]['is_fake']\n",
        "    \n",
        "        test_text = train.iloc[test_ind]['text']\n",
        "        test_y = train.iloc[test_ind]['is_fake']\n",
        "        \n",
        "        #Train model\n",
        "        start_train_time = time.time()\n",
        "        classifier.fit(train_text,train_y)\n",
        "        end_train_time = time.time()\n",
        "        total_train_time = end_train_time - start_train_time\n",
        "        train_time.append(total_train_time)\n",
        "\n",
        "        #Test model\n",
        "        start_test_time = time.time()\n",
        "        predictions = classifier.predict(test_text)\n",
        "        end_test_time = time.time()\n",
        "        total_test_time = end_test_time - start_test_time\n",
        "        test_time.append(total_test_time)\n",
        "        \n",
        "        confusion += confusion_matrix(test_y,predictions)\n",
        "        #Giá trị accuracy sẽ được cộng dồn tại mỗi lần test để tính giá trị accuracy trung bình\n",
        "        score = accuracy_score(test_y,predictions)\n",
        "        scores.append(score)\n",
        "    \n",
        "    return (print('Total statements classified:', len(train)),\n",
        "    print('Score:', sum(scores)/len(scores)),\n",
        "    print('Training time: ', sum(train_time), 'seconds'),\n",
        "    print('Testing time: ', sum(test_time), 'seconds'),\n",
        "    print('score length', len(scores)),\n",
        "    print('Confusion matrix:'),\n",
        "    print(confusion))"
      ],
      "execution_count": null,
      "outputs": []
    },
    {
      "cell_type": "markdown",
      "metadata": {
        "id": "fcbiuIwksqYP"
      },
      "source": [
        "# Logistic Regression "
      ]
    },
    {
      "cell_type": "code",
      "metadata": {
        "id": "q5MZ8hCqNVD7"
      },
      "source": [
        "#Logistic Regression - Bag of Words\n",
        "logR_pipeline = Pipeline([\n",
        "        ('LogRCV', countV),\n",
        "        ('LogR_clf', LogisticRegression(max_iter= 1000))\n",
        "        ])"
      ],
      "execution_count": null,
      "outputs": []
    },
    {
      "cell_type": "code",
      "metadata": {
        "colab": {
          "base_uri": "https://localhost:8080/"
        },
        "id": "ekI0Ybg3NyVa",
        "outputId": "1a38763a-8c47-4f5d-e991-4f8a4f8ec32a"
      },
      "source": [
        "cross_validation_train_data(logR_pipeline)"
      ],
      "execution_count": null,
      "outputs": [
        {
          "output_type": "stream",
          "text": [
            "Total statements classified: 388444\n",
            "Score: 0.8615527584891615\n",
            "Training time:  1624.5513825416565 seconds\n",
            "Testing time:  18.328423976898193 seconds\n",
            "score length 10\n",
            "Confusion matrix:\n",
            "[[177480  25669]\n",
            " [ 28110 157185]]\n"
          ],
          "name": "stdout"
        },
        {
          "output_type": "execute_result",
          "data": {
            "text/plain": [
              "(None, None, None, None, None, None, None)"
            ]
          },
          "metadata": {
            "tags": []
          },
          "execution_count": 20
        }
      ]
    },
    {
      "cell_type": "code",
      "metadata": {
        "id": "o_cPHCJa2dDx"
      },
      "source": [
        "#training model\n",
        "start_train_time = time.time()\n",
        "logR_pipeline.fit(train['text'],train['is_fake'])\n",
        "end_train_time = time.time()\n",
        "total_train_time = end_train_time - start_train_time\n",
        "\n",
        "#testing model với \"test data\"\n",
        "start_test_time = time.time()\n",
        "predicted_LogR = logR_pipeline.predict(test['text'])\n",
        "end_test_time = time.time()\n",
        "total_test_time = end_test_time - start_test_time"
      ],
      "execution_count": null,
      "outputs": []
    },
    {
      "cell_type": "code",
      "metadata": {
        "colab": {
          "base_uri": "https://localhost:8080/",
          "height": 514
        },
        "id": "SrvLnB-9sBVC",
        "outputId": "757694f0-0449-4b5e-c77e-ee06925c0edb"
      },
      "source": [
        "#In ra giá trị accuracy và confusion matrix sau khi testing model \n",
        "score = accuracy_score(test['is_fake'], predicted_LogR)\n",
        "print(\"Accuracy score ~\", round(score * 100, 2))\n",
        "\n",
        "print(classification_report(test['is_fake'], predicted_LogR))\n",
        "print('Training time: ', total_train_time, 'seconds'),\n",
        "print('Testing time: ', total_test_time, 'seconds'),\n",
        "\n",
        "matrix = confusion_matrix(test['is_fake'], predicted_LogR)\n",
        "sb.heatmap(matrix, annot=True, fmt=\"d\")\n",
        "plt.title('Confusion Matrix')\n",
        "plt.xlabel('Predicted')\n",
        "plt.ylabel('True')\n",
        "\n",
        "np.mean(predicted_LogR == test['is_fake'])"
      ],
      "execution_count": null,
      "outputs": [
        {
          "output_type": "stream",
          "text": [
            "Accuracy score ~ 86.35\n",
            "              precision    recall  f1-score   support\n",
            "\n",
            "           0       0.86      0.88      0.87     50789\n",
            "           1       0.86      0.85      0.86     46323\n",
            "\n",
            "    accuracy                           0.86     97112\n",
            "   macro avg       0.86      0.86      0.86     97112\n",
            "weighted avg       0.86      0.86      0.86     97112\n",
            "\n",
            "Training time:  201.15094876289368 seconds\n",
            "Testing time:  4.701231002807617 seconds\n"
          ],
          "name": "stdout"
        },
        {
          "output_type": "execute_result",
          "data": {
            "text/plain": [
              "0.8634978169536206"
            ]
          },
          "metadata": {
            "tags": []
          },
          "execution_count": 22
        },
        {
          "output_type": "display_data",
          "data": {
            "image/png": "[encoded data removed]",
            "text/plain": [
              "<Figure size 432x288 with 2 Axes>"
            ]
          },
          "metadata": {
            "tags": []
          }
        }
      ]
    },
    {
      "cell_type": "code",
      "metadata": {
        "id": "xz-ax4H6riau"
      },
      "source": [
        "#Lưu model thành file sav để có thể sử dụng mà không cần phải train lại model\n",
        "filename = 'logR_pipeline.sav'\n",
        "pickle.dump(logR_pipeline, open(filename, 'wb'))"
      ],
      "execution_count": null,
      "outputs": []
    },
    {
      "cell_type": "code",
      "metadata": {
        "id": "4S6GEqAMskoL"
      },
      "source": [
        "#Logistic Regression - tfidf-ngrams\n",
        "logR_pipeline_ngram = Pipeline([\n",
        "        ('LogR_tfidf', tfidf_ngram),\n",
        "        ('LogR_clf',LogisticRegression(penalty=\"l2\",C=1, max_iter=1000))\n",
        "        ])"
      ],
      "execution_count": null,
      "outputs": []
    },
    {
      "cell_type": "code",
      "metadata": {
        "colab": {
          "base_uri": "https://localhost:8080/"
        },
        "id": "e_r25wARuUbK",
        "outputId": "452a2eb4-964e-4ab6-e73a-abc242f99107"
      },
      "source": [
        "cross_validation_train_data(logR_pipeline_ngram)"
      ],
      "execution_count": null,
      "outputs": [
        {
          "output_type": "stream",
          "text": [
            "Total statements classified: 388444\n",
            "Score: 0.8638285055029469\n",
            "Training time:  3919.6952288150787 seconds\n",
            "Testing time:  48.012319803237915 seconds\n",
            "score length 10\n",
            "Confusion matrix:\n",
            "[[182904  20245]\n",
            " [ 32650 152645]]\n"
          ],
          "name": "stdout"
        },
        {
          "output_type": "execute_result",
          "data": {
            "text/plain": [
              "(None, None, None, None, None, None, None)"
            ]
          },
          "metadata": {
            "tags": []
          },
          "execution_count": 25
        }
      ]
    },
    {
      "cell_type": "code",
      "metadata": {
        "id": "sukmBA6p21Wz"
      },
      "source": [
        "start_train_time = time.time()\n",
        "logR_pipeline_ngram.fit(train['text'],train['is_fake'])\n",
        "end_train_time = time.time()\n",
        "total_train_time = end_train_time - start_train_time\n",
        "\n",
        "start_test_time = time.time()\n",
        "predicted_LogR_ngram = logR_pipeline_ngram.predict(test['text'])\n",
        "end_test_time = time.time()\n",
        "total_test_time = end_test_time - start_test_time"
      ],
      "execution_count": null,
      "outputs": []
    },
    {
      "cell_type": "code",
      "metadata": {
        "colab": {
          "base_uri": "https://localhost:8080/",
          "height": 514
        },
        "id": "YuegTEoZsRQg",
        "outputId": "926d6d75-da15-4776-d0b9-7d9d01d394c5"
      },
      "source": [
        "score = accuracy_score(test['is_fake'], predicted_LogR_ngram)\n",
        "print(\"Accuracy score ~\", round(score * 100, 2))\n",
        "\n",
        "print(classification_report(test['is_fake'], predicted_LogR_ngram))\n",
        "print('Training time: ', total_train_time, 'seconds'),\n",
        "print('Testing time: ', total_test_time, 'seconds'),\n",
        "\n",
        "matrix = confusion_matrix(test['is_fake'], predicted_LogR_ngram)\n",
        "sb.heatmap(matrix, annot=True, fmt=\"d\")\n",
        "plt.title('Confusion Matrix')\n",
        "plt.xlabel('Predicted')\n",
        "plt.ylabel('True')\n",
        "\n",
        "np.mean(predicted_LogR_ngram == test['is_fake'])"
      ],
      "execution_count": null,
      "outputs": [
        {
          "output_type": "stream",
          "text": [
            "Accuracy score ~ 86.67\n",
            "              precision    recall  f1-score   support\n",
            "\n",
            "           0       0.85      0.90      0.88     50789\n",
            "           1       0.88      0.83      0.86     46323\n",
            "\n",
            "    accuracy                           0.87     97112\n",
            "   macro avg       0.87      0.86      0.87     97112\n",
            "weighted avg       0.87      0.87      0.87     97112\n",
            "\n",
            "Training time:  585.3364894390106 seconds\n",
            "Testing time:  11.409071683883667 seconds\n"
          ],
          "name": "stdout"
        },
        {
          "output_type": "execute_result",
          "data": {
            "text/plain": [
              "0.866659115248373"
            ]
          },
          "metadata": {
            "tags": []
          },
          "execution_count": 27
        },
        {
          "output_type": "display_data",
          "data": {
            "image/png": "[encoded data removed]",
            "text/plain": [
              "<Figure size 432x288 with 2 Axes>"
            ]
          },
          "metadata": {
            "tags": []
          }
        }
      ]
    },
    {
      "cell_type": "code",
      "metadata": {
        "id": "5CZTaCvurtwp"
      },
      "source": [
        "#Lưu model thành file sav để có thể sử dụng mà không cần phải train lại model\n",
        "filename = 'logR_pipeline_ngram.sav'\n",
        "pickle.dump(logR_pipeline_ngram, open(filename, 'wb'))"
      ],
      "execution_count": null,
      "outputs": []
    },
    {
      "cell_type": "markdown",
      "metadata": {
        "id": "cek5Q2PUvBFM"
      },
      "source": [
        "# SVM"
      ]
    },
    {
      "cell_type": "code",
      "metadata": {
        "id": "5sjlSwvhvDnf"
      },
      "source": [
        "#SVM - Bag of Words\n",
        "svm_pipeline = Pipeline([\n",
        "        ('svmCV', countV),\n",
        "        ('svm_clf', svm.LinearSVC(max_iter=10000))\n",
        "        ])"
      ],
      "execution_count": 23,
      "outputs": []
    },
    {
      "cell_type": "code",
      "metadata": {
        "id": "dt9XauQevmon",
        "colab": {
          "base_uri": "https://localhost:8080/"
        },
        "outputId": "0e2cbd8a-0e62-410f-f0cd-818163da4095"
      },
      "source": [
        "cross_validation_train_data(svm_pipeline)"
      ],
      "execution_count": 24,
      "outputs": [
        {
          "output_type": "stream",
          "text": [
            "Total statements classified: 388444\n",
            "Score: 0.8463150370060829\n",
            "Training time:  4766.610652446747 seconds\n",
            "Testing time:  18.959606885910034 seconds\n",
            "score length 10\n",
            "Confusion matrix:\n",
            "[[175990  27159]\n",
            " [ 32539 152756]]\n"
          ],
          "name": "stdout"
        },
        {
          "output_type": "execute_result",
          "data": {
            "text/plain": [
              "(None, None, None, None, None, None, None)"
            ]
          },
          "metadata": {
            "tags": []
          },
          "execution_count": 24
        }
      ]
    },
    {
      "cell_type": "code",
      "metadata": {
        "id": "x1J6c9DF6mOL"
      },
      "source": [
        "start_train_time = time.time()\n",
        "svm_pipeline.fit(train['text'],train['is_fake'])\n",
        "end_train_time = time.time()\n",
        "total_train_time = end_train_time - start_train_time\n",
        "\n",
        "start_test_time = time.time()\n",
        "predicted_svm = svm_pipeline.predict(test['text'])\n",
        "end_test_time = time.time()\n",
        "total_test_time = end_test_time - start_test_time\n",
        "#7m"
      ],
      "execution_count": 25,
      "outputs": []
    },
    {
      "cell_type": "code",
      "metadata": {
        "id": "OvhTQLQx7AMq",
        "colab": {
          "base_uri": "https://localhost:8080/",
          "height": 514
        },
        "outputId": "2dd1443c-5231-4d44-cfba-bc4fa74e9413"
      },
      "source": [
        "score = accuracy_score(test['is_fake'], predicted_svm)\n",
        "print(\"Accuracy score ~\", round(score * 100, 2))\n",
        "\n",
        "print(classification_report(test['is_fake'], predicted_svm))\n",
        "print('Training time: ', total_train_time, 'seconds'),\n",
        "print('Testing time: ', total_test_time, 'seconds'),\n",
        "\n",
        "matrix = confusion_matrix(test['is_fake'], predicted_svm)\n",
        "sb.heatmap(matrix, annot=True, fmt=\"d\")\n",
        "plt.title('Confusion Matrix')\n",
        "plt.xlabel('Predicted')\n",
        "plt.ylabel('True')\n",
        "\n",
        "np.mean(predicted_svm == test['is_fake'])\n"
      ],
      "execution_count": 26,
      "outputs": [
        {
          "output_type": "stream",
          "text": [
            "Accuracy score ~ 84.79\n",
            "              precision    recall  f1-score   support\n",
            "\n",
            "           0       0.84      0.87      0.86     50789\n",
            "           1       0.85      0.82      0.84     46323\n",
            "\n",
            "    accuracy                           0.85     97112\n",
            "   macro avg       0.85      0.85      0.85     97112\n",
            "weighted avg       0.85      0.85      0.85     97112\n",
            "\n",
            "Training time:  595.7420034408569 seconds\n",
            "Testing time:  4.5482494831085205 seconds\n"
          ],
          "name": "stdout"
        },
        {
          "output_type": "execute_result",
          "data": {
            "text/plain": [
              "0.8479281654172501"
            ]
          },
          "metadata": {
            "tags": []
          },
          "execution_count": 26
        },
        {
          "output_type": "display_data",
          "data": {
            "image/png": "[encoded data removed]",
            "text/plain": [
              "<Figure size 432x288 with 2 Axes>"
            ]
          },
          "metadata": {
            "tags": [],
            "needs_background": "light"
          }
        }
      ]
    },
    {
      "cell_type": "code",
      "metadata": {
        "id": "zmGmV_qqE3I-"
      },
      "source": [
        "#Lưu model thành file sav để có thể sử dụng mà không cần phải train lại model\n",
        "filename = 'svm_pipeline.sav'\n",
        "pickle.dump(svm_pipeline, open(filename, 'wb'))"
      ],
      "execution_count": null,
      "outputs": []
    },
    {
      "cell_type": "code",
      "metadata": {
        "id": "3R9R3hDHvs9w"
      },
      "source": [
        "#SVM - tfidf-ngrams\n",
        "svm_pipeline_ngram = Pipeline([\n",
        "        ('svm_tfidf', tfidf_ngram),\n",
        "        ('svm_clf',svm.LinearSVC())\n",
        "        ])"
      ],
      "execution_count": null,
      "outputs": []
    },
    {
      "cell_type": "code",
      "metadata": {
        "colab": {
          "background_save": true
        },
        "id": "2x2CQb_wwD2o",
        "outputId": "4d490b2b-a6f3-400d-cade-a55edd987e25"
      },
      "source": [
        "cross_validation_train_data(svm_pipeline_ngram)"
      ],
      "execution_count": null,
      "outputs": [
        {
          "output_type": "stream",
          "text": [
            "Total statements classified: 388444\n",
            "Score: 0.8826008326834207\n",
            "Training time:  1270.4354581832886 seconds\n",
            "Testing time:  57.900699615478516 seconds\n",
            "score length 10\n",
            "Confusion matrix:\n",
            "[[185718  17431]\n",
            " [ 28172 157123]]\n"
          ],
          "name": "stdout"
        },
        {
          "output_type": "execute_result",
          "data": {
            "text/plain": [
              "(None, None, None, None, None, None, None)"
            ]
          },
          "metadata": {
            "tags": []
          },
          "execution_count": 0
        }
      ]
    },
    {
      "cell_type": "code",
      "metadata": {
        "id": "2hjwROEF7K7r"
      },
      "source": [
        "start_train_time = time.time()\n",
        "svm_pipeline_ngram.fit(train['text'],train['is_fake'])\n",
        "end_train_time = time.time()\n",
        "total_train_time = end_train_time - start_train_time\n",
        "\n",
        "start_test_time = time.time()\n",
        "predicted_svm_ngram = svm_pipeline_ngram.predict(test['text'])\n",
        "end_test_time = time.time()\n",
        "total_test_time = end_test_time - start_test_time"
      ],
      "execution_count": null,
      "outputs": []
    },
    {
      "cell_type": "code",
      "metadata": {
        "colab": {
          "base_uri": "https://localhost:8080/",
          "height": 514
        },
        "id": "eXa0Tki_7M6r",
        "outputId": "7c60f267-06c1-467f-cc93-04183205dd1b"
      },
      "source": [
        "score = accuracy_score(test['is_fake'], predicted_svm_ngram)\n",
        "print(\"Accuracy score ~\", round(score * 100, 2))\n",
        "\n",
        "print(classification_report(test['is_fake'], predicted_svm_ngram))\n",
        "print('Training time: ', total_train_time, 'seconds'),\n",
        "print('Testing time: ', total_test_time, 'seconds'),\n",
        "\n",
        "matrix = confusion_matrix(test['is_fake'], predicted_svm_ngram)\n",
        "sb.heatmap(matrix, annot=True, fmt=\"d\")\n",
        "plt.title('Confusion Matrix')\n",
        "plt.xlabel('Predicted')\n",
        "plt.ylabel('True')\n",
        "\n",
        "np.mean(predicted_svm_ngram == test['is_fake'])"
      ],
      "execution_count": null,
      "outputs": [
        {
          "output_type": "stream",
          "text": [
            "Accuracy score ~ 87.63\n",
            "              precision    recall  f1-score   support\n",
            "\n",
            "           0       0.87      0.89      0.88     50789\n",
            "           1       0.88      0.86      0.87     46323\n",
            "\n",
            "    accuracy                           0.88     97112\n",
            "   macro avg       0.88      0.88      0.88     97112\n",
            "weighted avg       0.88      0.88      0.88     97112\n",
            "\n",
            "Training time:  114.19461584091187 seconds\n",
            "Testing time:  13.580870389938354 seconds\n"
          ],
          "name": "stdout"
        },
        {
          "output_type": "execute_result",
          "data": {
            "text/plain": [
              "0.8762562814070352"
            ]
          },
          "metadata": {
            "tags": []
          },
          "execution_count": 53
        },
        {
          "output_type": "display_data",
          "data": {
            "image/png": "[encoded data removed]",
            "text/plain": [
              "<Figure size 432x288 with 2 Axes>"
            ]
          },
          "metadata": {
            "tags": []
          }
        }
      ]
    },
    {
      "cell_type": "markdown",
      "metadata": {
        "id": "rMt20tkUx6Tg"
      },
      "source": [
        "# Naive Bayes\n"
      ]
    },
    {
      "cell_type": "code",
      "metadata": {
        "id": "OE--j5HZ0uTz"
      },
      "source": [
        "#naive bayes - Bag of Words\n",
        "nb_pipeline = Pipeline([\n",
        "        ('NBCV', countV),\n",
        "        ('nb_clf',MultinomialNB())])"
      ],
      "execution_count": null,
      "outputs": []
    },
    {
      "cell_type": "code",
      "metadata": {
        "colab": {
          "base_uri": "https://localhost:8080/"
        },
        "id": "jh9N5HqF0-0t",
        "outputId": "13b1809b-e503-4da8-8339-11a21090224d"
      },
      "source": [
        "cross_validation_train_data(nb_pipeline)"
      ],
      "execution_count": null,
      "outputs": [
        {
          "output_type": "stream",
          "text": [
            "Total statements classified: 388444\n",
            "Score: 0.8361308212940278\n",
            "Training time:  178.5993254184723 seconds\n",
            "Testing time:  18.22676181793213 seconds\n",
            "score length 10\n",
            "Confusion matrix:\n",
            "[[175578  27571]\n",
            " [ 36083 149212]]\n"
          ],
          "name": "stdout"
        },
        {
          "output_type": "execute_result",
          "data": {
            "text/plain": [
              "(None, None, None, None, None, None, None)"
            ]
          },
          "metadata": {
            "tags": []
          },
          "execution_count": 14
        }
      ]
    },
    {
      "cell_type": "code",
      "metadata": {
        "id": "pClyVT2S7t2b"
      },
      "source": [
        "start_train_time = time.time()\n",
        "nb_pipeline.fit(train['text'],train['is_fake'])\n",
        "end_train_time = time.time()\n",
        "total_train_time = end_train_time - start_train_time\n",
        "\n",
        "start_test_time = time.time()\n",
        "predicted_nb = nb_pipeline.predict(test['text'])\n",
        "end_test_time = time.time()\n",
        "total_test_time = end_test_time - start_test_time"
      ],
      "execution_count": null,
      "outputs": []
    },
    {
      "cell_type": "code",
      "metadata": {
        "colab": {
          "base_uri": "https://localhost:8080/",
          "height": 514
        },
        "id": "LH0dSuTQ706j",
        "outputId": "0d0f3df4-4c29-42e3-9272-0c42e467955d"
      },
      "source": [
        "score = accuracy_score(test['is_fake'], predicted_nb)\n",
        "print(\"Accuracy score ~\", round(score * 100, 2))\n",
        "\n",
        "print(classification_report(test['is_fake'], predicted_nb))\n",
        "print('Training time: ', total_train_time, 'seconds'),\n",
        "print('Testing time: ', total_test_time, 'seconds'),\n",
        "\n",
        "matrix = confusion_matrix(test['is_fake'], predicted_nb)\n",
        "sb.heatmap(matrix, annot=True, fmt=\"d\")\n",
        "plt.title('Confusion Matrix')\n",
        "plt.xlabel('Predicted')\n",
        "plt.ylabel('is_fake')\n",
        "\n",
        "np.mean(predicted_nb == test['is_fake'])"
      ],
      "execution_count": null,
      "outputs": [
        {
          "output_type": "stream",
          "text": [
            "Accuracy score ~ 83.53\n",
            "              precision    recall  f1-score   support\n",
            "\n",
            "           0       0.83      0.86      0.85     50789\n",
            "           1       0.84      0.80      0.82     46323\n",
            "\n",
            "    accuracy                           0.84     97112\n",
            "   macro avg       0.84      0.83      0.83     97112\n",
            "weighted avg       0.84      0.84      0.84     97112\n",
            "\n",
            "Training time:  19.117652416229248 seconds\n",
            "Testing time:  4.490044116973877 seconds\n"
          ],
          "name": "stdout"
        },
        {
          "output_type": "execute_result",
          "data": {
            "text/plain": [
              "0.8352932696268226"
            ]
          },
          "metadata": {
            "tags": []
          },
          "execution_count": 16
        },
        {
          "output_type": "display_data",
          "data": {
            "image/png": "[encoded data removed]",
            "text/plain": [
              "<Figure size 432x288 with 2 Axes>"
            ]
          },
          "metadata": {
            "tags": []
          }
        }
      ]
    },
    {
      "cell_type": "code",
      "metadata": {
        "id": "FH6aUmTpmOuA"
      },
      "source": [
        "#Lưu model thành file sav để có thể sử dụng mà không cần phải train lại model\n",
        "filename = 'nb_pipeline.sav'\n",
        "pickle.dump(nb_pipeline, open(filename, 'wb'))"
      ],
      "execution_count": null,
      "outputs": []
    },
    {
      "cell_type": "code",
      "metadata": {
        "id": "7E1TTFIs1D8D"
      },
      "source": [
        "#naive bayes - tfidf-ngrams\n",
        "nb_pipeline_ngram = Pipeline([\n",
        "        ('nb_tfidf',tfidf_ngram),\n",
        "        ('nb_clf',MultinomialNB())])"
      ],
      "execution_count": null,
      "outputs": []
    },
    {
      "cell_type": "code",
      "metadata": {
        "colab": {
          "background_save": true,
          "base_uri": "https://localhost:8080/"
        },
        "id": "Womr6e3U1c0Z",
        "outputId": "d1192890-a72d-4de8-8ed1-ff34438d3e61"
      },
      "source": [
        "cross_validation_train_data(nb_pipeline_ngram)"
      ],
      "execution_count": null,
      "outputs": [
        {
          "output_type": "stream",
          "text": [
            "Total statements classified: 388444\n",
            "Score: 0.8394079926082074\n",
            "Training time:  1039.5265493392944 seconds\n",
            "Testing time:  57.68834185600281 seconds\n",
            "score length 10\n",
            "Confusion matrix:\n",
            "[[187627  15522]\n",
            " [ 46859 138436]]\n"
          ],
          "name": "stdout"
        },
        {
          "output_type": "execute_result",
          "data": {
            "text/plain": [
              "(None, None, None, None, None, None, None)"
            ]
          },
          "metadata": {
            "tags": []
          },
          "execution_count": 0
        }
      ]
    },
    {
      "cell_type": "code",
      "metadata": {
        "id": "KFmEhY8_7-3M"
      },
      "source": [
        "start_train_time = time.time()\n",
        "nb_pipeline_ngram.fit(train['text'],train['is_fake'])\n",
        "end_train_time = time.time()\n",
        "total_train_time = end_train_time - start_train_time\n",
        "\n",
        "start_test_time = time.time()\n",
        "predicted_nb_ngram = nb_pipeline_ngram.predict(test['text'])\n",
        "end_test_time = time.time()\n",
        "total_test_time = end_test_time - start_test_time"
      ],
      "execution_count": 20,
      "outputs": []
    },
    {
      "cell_type": "code",
      "metadata": {
        "id": "i-kngdyu8Aml",
        "colab": {
          "base_uri": "https://localhost:8080/",
          "height": 514
        },
        "outputId": "d24c6487-63f5-4583-ada5-52e38666393e"
      },
      "source": [
        "score = accuracy_score(test['is_fake'], predicted_nb_ngram)\n",
        "print(\"Accuracy score ~\", round(score * 100, 2))\n",
        "\n",
        "print(classification_report(test['is_fake'], predicted_nb_ngram))\n",
        "print('Training time: ', total_train_time, 'seconds'),\n",
        "print('Testing time: ', total_test_time, 'seconds'),\n",
        "\n",
        "matrix = confusion_matrix(test['is_fake'], predicted_nb_ngram)\n",
        "sb.heatmap(matrix, annot=True, fmt=\"d\")\n",
        "plt.title('Confusion Matrix')\n",
        "plt.xlabel('Predicted')\n",
        "plt.ylabel('is_fake')\n",
        "\n",
        "np.mean(predicted_nb_ngram == test['is_fake'])"
      ],
      "execution_count": 21,
      "outputs": [
        {
          "output_type": "stream",
          "text": [
            "Accuracy score ~ 84.1\n",
            "              precision    recall  f1-score   support\n",
            "\n",
            "           0       0.80      0.93      0.86     50789\n",
            "           1       0.90      0.75      0.82     46323\n",
            "\n",
            "    accuracy                           0.84     97112\n",
            "   macro avg       0.85      0.84      0.84     97112\n",
            "weighted avg       0.85      0.84      0.84     97112\n",
            "\n",
            "Training time:  117.82983660697937 seconds\n",
            "Testing time:  14.542934656143188 seconds\n"
          ],
          "name": "stdout"
        },
        {
          "output_type": "execute_result",
          "data": {
            "text/plain": [
              "0.8410186176785567"
            ]
          },
          "metadata": {
            "tags": []
          },
          "execution_count": 21
        },
        {
          "output_type": "display_data",
          "data": {
            "image/png": "[encoded data removed]",
            "text/plain": [
              "<Figure size 432x288 with 2 Axes>"
            ]
          },
          "metadata": {
            "tags": [],
            "needs_background": "light"
          }
        }
      ]
    },
    {
      "cell_type": "code",
      "metadata": {
        "id": "Ao7-vpPfmdEO"
      },
      "source": [
        "#Lưu model thành file sav để có thể sử dụng mà không cần phải train lại model\n",
        "filename = 'nb_pipeline_ngram.sav'\n",
        "pickle.dump(nb_pipeline_ngram, open(filename, 'wb'))"
      ],
      "execution_count": 22,
      "outputs": []
    },
    {
      "cell_type": "markdown",
      "metadata": {
        "id": "ziWAv5vdCbUj"
      },
      "source": [
        "Ta thấy rằng model **Linear SVM** với **tfidf-ngrams** đưa ra được kết quả tốt nhất "
      ]
    },
    {
      "cell_type": "markdown",
      "metadata": {
        "id": "KcmwHZ5jaRxb"
      },
      "source": [
        "# Dùng model tốt nhất ở trên (Linear SVM - TFIDF - ngrams) để dự đoán input do người dùng nhập vào"
      ]
    },
    {
      "cell_type": "code",
      "metadata": {
        "id": "NJrC4wmsOkKH"
      },
      "source": [
        "#Lưu model thành file sav để có thể sử dụng mà không cần phải train lại model\n",
        "filename = 'final_model.sav'\n",
        "pickle.dump(svm_pipeline_ngram, open(filename, 'wb'))"
      ],
      "execution_count": null,
      "outputs": []
    },
    {
      "cell_type": "code",
      "metadata": {
        "colab": {
          "base_uri": "https://localhost:8080/"
        },
        "id": "OVAePngvPMF4",
        "outputId": "9af54247-43ff-452b-c60d-7e9c9e888d2f"
      },
      "source": [
        "#Đưa vào một đoạn text muốn kiểm chứng là tin thật hay giả\n",
        "#Output sẽ trả về kết quả dự đoán về đoạn text đó\n",
        "doc = input(\"Enter news: \")\n",
        "\n",
        "filename = 'final_model.sav'\n",
        "\n",
        "final_model = pickle.load(open(filename, 'rb'))\n",
        "\n",
        "pre = final_model.predict([doc])\n",
        "label = \"Fake\" if pre[0] == 1 else \"Real\"\n",
        "print(\"\\nThe give text is\", label, \"news\")"
      ],
      "execution_count": null,
      "outputs": [
        {
          "output_type": "stream",
          "text": [
            "Enter news: But people with the virus can test positive for many days. Think of it like filling a bath with the plughole open. Incidence is how quickly water flows in, the positivity is the level of the water in the bath, and there is some draining as older infections fall away. As you start turning the taps down, the level continues to rise for a while longer, until the plughole takes over.  This is demonstrated in Scotland, which has been ahead of England both in starting school holidays and getting knocked out of Euro 2020. Its confirmed cases hit a peak at the end of June and central ONS positivity estimates and hospitalisations are now declining. This is all good, and somewhat unexpected, news.  Other recent survey findings include that 40% of infections show no symptoms - a bit higher than the “one in three” figure usually quoted. And for those unlucky enough to get reinfected, at least the second infection tends to be milder. In contrast, the US struggles without a nationwide survey and so has only now estimated that 60% of infections have gone unreported.\n",
            "\n",
            "The give text is Real news\n"
          ],
          "name": "stdout"
        }
      ]
    }
  ]
}