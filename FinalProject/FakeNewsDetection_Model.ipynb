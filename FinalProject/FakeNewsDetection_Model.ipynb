{
  "nbformat": 4,
  "nbformat_minor": 0,
  "metadata": {
    "colab": {
      "name": "FakeNewsDetection_Model.ipynb",
      "provenance": [],
      "authorship_tag": "ABX9TyPvOAJq772woPBbK6J8AkYE",
      "include_colab_link": true
    },
    "kernelspec": {
      "name": "python3",
      "display_name": "Python 3"
    },
    "language_info": {
      "name": "python"
    }
  },
  "cells": [
    {
      "cell_type": "markdown",
      "metadata": {
        "id": "view-in-github",
        "colab_type": "text"
      },
      "source": [
        "<a href=\"https://colab.research.google.com/github/dxmai/CS114.L21.KHCL/blob/main/FinalProject/FakeNewsDetection_Model.ipynb\" target=\"_parent\"><img src=\"https://colab.research.google.com/assets/colab-badge.svg\" alt=\"Open In Colab\"/></a>"
      ]
    },
    {
      "cell_type": "code",
      "metadata": {
        "id": "7XNdDaAK6Z2N"
      },
      "source": [
        "import pandas as pd\n",
        "import json"
      ],
      "execution_count": 1,
      "outputs": []
    },
    {
      "cell_type": "code",
      "metadata": {
        "id": "sIA2YjuZ6tvz"
      },
      "source": [
        "activist = pd.read_json('https://raw.githubusercontent.com/dxmai/CS114.L21.KHCL/main/FinalProject/Dataset/activistpost-full.json')\n",
        "conservative = pd.read_json('https://raw.githubusercontent.com/dxmai/CS114.L21.KHCL/main/FinalProject/Dataset/conservativedailypost.json')\n",
        "dailybuzz = pd.read_json('https://raw.githubusercontent.com/dxmai/CS114.L21.KHCL/main/FinalProject/Dataset/dailybuzzlive.json')\n",
        "dailyheadlines = pd.read_json('https://raw.githubusercontent.com/dxmai/CS114.L21.KHCL/main/FinalProject/Dataset/dailyheadlines.json')\n",
        "dailyheadlinenet = pd.read_json('https://raw.githubusercontent.com/dxmai/CS114.L21.KHCL/main/FinalProject/Dataset/dailyheadlinesnet.json')\n",
        "naturalnews = pd.read_json('https://raw.githubusercontent.com/dxmai/CS114.L21.KHCL/main/FinalProject/Dataset/naturalnews.json')\n",
        "gateway = pd.read_json('https://raw.githubusercontent.com/dxmai/CS114.L21.KHCL/main/FinalProject/Dataset/thegatewaypundit_notfull.json')\n",
        "zerohedge = pd.read_json('https://raw.githubusercontent.com/dxmai/CS114.L21.KHCL/main/FinalProject/Dataset/zerohedge.json')\n"
      ],
      "execution_count": 2,
      "outputs": []
    },
    {
      "cell_type": "code",
      "metadata": {
        "id": "bvG3Dihh7var"
      },
      "source": [
        "csmonitor = pd.read_json('https://raw.githubusercontent.com/dxmai/CS114.L21.KHCL/main/Colab/SarcasmDetection/Dataset/In-3-Years/csmonitor.json')\n",
        "eco = pd.read_json('https://raw.githubusercontent.com/dxmai/CS114.L21.KHCL/main/Colab/SarcasmDetection/Dataset/In-3-Years/economist.json')\n",
        "bestinau = pd.read_json('https://raw.githubusercontent.com/dxmai/CS114.L21.KHCL/main/Colab/SarcasmDetection/Dataset/In-3-Years/bestinau.json.json')"
      ],
      "execution_count": 4,
      "outputs": []
    },
    {
      "cell_type": "code",
      "metadata": {
        "id": "k4KU2uK_9U8U"
      },
      "source": [
        "csmonitor = csmonitor.rename(columns={'is_sarcastic': 'is_fake'})\n",
        "eco = eco.rename(columns={'is_sarcastic': 'is_fake'})\n",
        "bestinau = bestinau.rename(columns={'is_sarcastic': 'is_fake'})\n"
      ],
      "execution_count": 9,
      "outputs": []
    },
    {
      "cell_type": "code",
      "metadata": {
        "id": "4ifXZNgT7-mu"
      },
      "source": [
        "people = pd.read_json('https://raw.githubusercontent.com/hoainam2310/Machine-Learning/main/people.json')\n",
        "people.replace('\\n', '')\n",
        "hollywoodlife = pd.read_json('https://raw.githubusercontent.com/hoainam2310/Machine-Learning/main/hollywoodlife.json')"
      ],
      "execution_count": 6,
      "outputs": []
    },
    {
      "cell_type": "code",
      "metadata": {
        "colab": {
          "base_uri": "https://localhost:8080/",
          "height": 421
        },
        "id": "T28EHz0I8N7W",
        "outputId": "1961bf56-34f0-4b1f-f246-fd9dd64061f6"
      },
      "source": [
        "dataset = activist.append(conservative, ignore_index=True)\n",
        "websiteList = [dailybuzz, dailyheadlines, dailyheadlinenet, naturalnews, gateway, zerohedge, csmonitor, eco, bestinau]\n",
        "for each_website in websiteList:\n",
        "  dataset = dataset.append(each_website, ignore_index=True)\n",
        "dataset"
      ],
      "execution_count": 16,
      "outputs": [
        {
          "output_type": "execute_result",
          "data": {
            "text/html": [
              "<div>\n",
              "<style scoped>\n",
              "    .dataframe tbody tr th:only-of-type {\n",
              "        vertical-align: middle;\n",
              "    }\n",
              "\n",
              "    .dataframe tbody tr th {\n",
              "        vertical-align: top;\n",
              "    }\n",
              "\n",
              "    .dataframe thead th {\n",
              "        text-align: right;\n",
              "    }\n",
              "</style>\n",
              "<table border=\"1\" class=\"dataframe\">\n",
              "  <thead>\n",
              "    <tr style=\"text-align: right;\">\n",
              "      <th></th>\n",
              "      <th>headline</th>\n",
              "      <th>article_link</th>\n",
              "      <th>is_fake</th>\n",
              "    </tr>\n",
              "  </thead>\n",
              "  <tbody>\n",
              "    <tr>\n",
              "      <th>0</th>\n",
              "      <td>Canadian Political Leader Arrested for Attendi...</td>\n",
              "      <td>https://www.activistpost.com/2021/06/canadian-...</td>\n",
              "      <td>1</td>\n",
              "    </tr>\n",
              "    <tr>\n",
              "      <th>1</th>\n",
              "      <td>80,606 Accounts Shut Off in 2020; Media Outlet...</td>\n",
              "      <td>https://www.activistpost.com/2021/06/80606-acc...</td>\n",
              "      <td>1</td>\n",
              "    </tr>\n",
              "    <tr>\n",
              "      <th>2</th>\n",
              "      <td>Mortgage Companies Cash in on Pandemic Relief</td>\n",
              "      <td>https://www.activistpost.com/2021/06/mortgage-...</td>\n",
              "      <td>1</td>\n",
              "    </tr>\n",
              "    <tr>\n",
              "      <th>3</th>\n",
              "      <td>$450M More for Company to Turn U.S. Troops int...</td>\n",
              "      <td>https://www.activistpost.com/2021/06/450m-more...</td>\n",
              "      <td>1</td>\n",
              "    </tr>\n",
              "    <tr>\n",
              "      <th>4</th>\n",
              "      <td>Rambling Fed Triggers Gold/Silver Correction: ...</td>\n",
              "      <td>https://www.activistpost.com/2021/06/rambling-...</td>\n",
              "      <td>1</td>\n",
              "    </tr>\n",
              "    <tr>\n",
              "      <th>...</th>\n",
              "      <td>...</td>\n",
              "      <td>...</td>\n",
              "      <td>...</td>\n",
              "    </tr>\n",
              "    <tr>\n",
              "      <th>236093</th>\n",
              "      <td>Best Shoe Stores in Perth</td>\n",
              "      <td>https://bestinau.com.au/shoe-stores-in-perth/</td>\n",
              "      <td>0</td>\n",
              "    </tr>\n",
              "    <tr>\n",
              "      <th>236094</th>\n",
              "      <td>Marvel’s next star might be Oscar-nominated Ha...</td>\n",
              "      <td>https://bestinau.com.au/marvels-next-star-migh...</td>\n",
              "      <td>0</td>\n",
              "    </tr>\n",
              "    <tr>\n",
              "      <th>236095</th>\n",
              "      <td>Best Men’s Clothing Stores in Gold Coast</td>\n",
              "      <td>https://bestinau.com.au/mens-clothing-stores-i...</td>\n",
              "      <td>0</td>\n",
              "    </tr>\n",
              "    <tr>\n",
              "      <th>236096</th>\n",
              "      <td>Perks of having a dedicated hosting provider</td>\n",
              "      <td>https://bestinau.com.au/perks-of-having-a-dedi...</td>\n",
              "      <td>0</td>\n",
              "    </tr>\n",
              "    <tr>\n",
              "      <th>236097</th>\n",
              "      <td>Best Oncologists in Gold Coast</td>\n",
              "      <td>https://bestinau.com.au/best-oncologists-in-go...</td>\n",
              "      <td>0</td>\n",
              "    </tr>\n",
              "  </tbody>\n",
              "</table>\n",
              "<p>236098 rows × 3 columns</p>\n",
              "</div>"
            ],
            "text/plain": [
              "                                                 headline  ... is_fake\n",
              "0       Canadian Political Leader Arrested for Attendi...  ...       1\n",
              "1       80,606 Accounts Shut Off in 2020; Media Outlet...  ...       1\n",
              "2           Mortgage Companies Cash in on Pandemic Relief  ...       1\n",
              "3       $450M More for Company to Turn U.S. Troops int...  ...       1\n",
              "4       Rambling Fed Triggers Gold/Silver Correction: ...  ...       1\n",
              "...                                                   ...  ...     ...\n",
              "236093                          Best Shoe Stores in Perth  ...       0\n",
              "236094  Marvel’s next star might be Oscar-nominated Ha...  ...       0\n",
              "236095           Best Men’s Clothing Stores in Gold Coast  ...       0\n",
              "236096       Perks of having a dedicated hosting provider  ...       0\n",
              "236097                     Best Oncologists in Gold Coast  ...       0\n",
              "\n",
              "[236098 rows x 3 columns]"
            ]
          },
          "metadata": {
            "tags": []
          },
          "execution_count": 16
        }
      ]
    },
    {
      "cell_type": "code",
      "metadata": {
        "colab": {
          "base_uri": "https://localhost:8080/",
          "height": 421
        },
        "id": "mE296VKK-9gl",
        "outputId": "5eb39a88-7310-4674-b5a8-8b7c92c04f77"
      },
      "source": [
        "dataset = dataset.dropna()\n",
        "dataset"
      ],
      "execution_count": 25,
      "outputs": [
        {
          "output_type": "execute_result",
          "data": {
            "text/html": [
              "<div>\n",
              "<style scoped>\n",
              "    .dataframe tbody tr th:only-of-type {\n",
              "        vertical-align: middle;\n",
              "    }\n",
              "\n",
              "    .dataframe tbody tr th {\n",
              "        vertical-align: top;\n",
              "    }\n",
              "\n",
              "    .dataframe thead th {\n",
              "        text-align: right;\n",
              "    }\n",
              "</style>\n",
              "<table border=\"1\" class=\"dataframe\">\n",
              "  <thead>\n",
              "    <tr style=\"text-align: right;\">\n",
              "      <th></th>\n",
              "      <th>headline</th>\n",
              "      <th>article_link</th>\n",
              "      <th>is_fake</th>\n",
              "    </tr>\n",
              "  </thead>\n",
              "  <tbody>\n",
              "    <tr>\n",
              "      <th>0</th>\n",
              "      <td>In now-or-never mindset, Hong Kong protests ke...</td>\n",
              "      <td>https://www.csmonitor.com/World/Asia-Pacific/2...</td>\n",
              "      <td>0</td>\n",
              "    </tr>\n",
              "    <tr>\n",
              "      <th>1</th>\n",
              "      <td>Stunning hypocrisy: Dem probe of sex abuse cha...</td>\n",
              "      <td>2018-10-02-stunning-hypocrisy-dem-probe-of-sex...</td>\n",
              "      <td>1</td>\n",
              "    </tr>\n",
              "    <tr>\n",
              "      <th>2</th>\n",
              "      <td>12 Things That The Mainstream Media Is Being S...</td>\n",
              "      <td>https://www.activistpost.com/2011/06/12-things...</td>\n",
              "      <td>1</td>\n",
              "    </tr>\n",
              "    <tr>\n",
              "      <th>3</th>\n",
              "      <td>No Rules – No Shortcuts: Writing Contest</td>\n",
              "      <td>https://www.activistpost.com/2012/04/no-rules-...</td>\n",
              "      <td>1</td>\n",
              "    </tr>\n",
              "    <tr>\n",
              "      <th>4</th>\n",
              "      <td>Not all decorative food glitters are safe to e...</td>\n",
              "      <td>2019-03-20-not-all-decorative-food-glitters-ar...</td>\n",
              "      <td>1</td>\n",
              "    </tr>\n",
              "    <tr>\n",
              "      <th>...</th>\n",
              "      <td>...</td>\n",
              "      <td>...</td>\n",
              "      <td>...</td>\n",
              "    </tr>\n",
              "    <tr>\n",
              "      <th>236093</th>\n",
              "      <td>Has ANYONE Actually Been Able To Successfully ...</td>\n",
              "      <td>https://www.activistpost.com/2013/10/has-anyon...</td>\n",
              "      <td>1</td>\n",
              "    </tr>\n",
              "    <tr>\n",
              "      <th>236094</th>\n",
              "      <td>Are Local Elections 2012 Our Last Chance For A...</td>\n",
              "      <td>https://www.activistpost.com/2012/05/are-local...</td>\n",
              "      <td>1</td>\n",
              "    </tr>\n",
              "    <tr>\n",
              "      <th>236095</th>\n",
              "      <td>U.N. Bows To Saudi Financial Threats, Removes ...</td>\n",
              "      <td>https://www.activistpost.com/2016/06/united-na...</td>\n",
              "      <td>1</td>\n",
              "    </tr>\n",
              "    <tr>\n",
              "      <th>236096</th>\n",
              "      <td>Nancy Pelosi Vows Democrats Will Raise Taxes i...</td>\n",
              "      <td>https://www.thegatewaypundit.com/2018/04/nancy...</td>\n",
              "      <td>1</td>\n",
              "    </tr>\n",
              "    <tr>\n",
              "      <th>236097</th>\n",
              "      <td>Raunchy WOMAN Shuts Down Store After Shoppers ...</td>\n",
              "      <td>https://dailyheadlines.net/shuts-down-store-af...</td>\n",
              "      <td>1</td>\n",
              "    </tr>\n",
              "  </tbody>\n",
              "</table>\n",
              "<p>236097 rows × 3 columns</p>\n",
              "</div>"
            ],
            "text/plain": [
              "                                                 headline  ... is_fake\n",
              "0       In now-or-never mindset, Hong Kong protests ke...  ...       0\n",
              "1       Stunning hypocrisy: Dem probe of sex abuse cha...  ...       1\n",
              "2       12 Things That The Mainstream Media Is Being S...  ...       1\n",
              "3                No Rules – No Shortcuts: Writing Contest  ...       1\n",
              "4       Not all decorative food glitters are safe to e...  ...       1\n",
              "...                                                   ...  ...     ...\n",
              "236093  Has ANYONE Actually Been Able To Successfully ...  ...       1\n",
              "236094  Are Local Elections 2012 Our Last Chance For A...  ...       1\n",
              "236095  U.N. Bows To Saudi Financial Threats, Removes ...  ...       1\n",
              "236096  Nancy Pelosi Vows Democrats Will Raise Taxes i...  ...       1\n",
              "236097  Raunchy WOMAN Shuts Down Store After Shoppers ...  ...       1\n",
              "\n",
              "[236097 rows x 3 columns]"
            ]
          },
          "metadata": {
            "tags": []
          },
          "execution_count": 25
        }
      ]
    },
    {
      "cell_type": "code",
      "metadata": {
        "colab": {
          "base_uri": "https://localhost:8080/",
          "height": 421
        },
        "id": "H_lWLiiq97yb",
        "outputId": "fe72dd80-f35f-45a5-bf6f-7d73d415e8d2"
      },
      "source": [
        "dataset = dataset.sample(frac=1).reset_index(drop=True)\n",
        "dataset"
      ],
      "execution_count": 26,
      "outputs": [
        {
          "output_type": "execute_result",
          "data": {
            "text/html": [
              "<div>\n",
              "<style scoped>\n",
              "    .dataframe tbody tr th:only-of-type {\n",
              "        vertical-align: middle;\n",
              "    }\n",
              "\n",
              "    .dataframe tbody tr th {\n",
              "        vertical-align: top;\n",
              "    }\n",
              "\n",
              "    .dataframe thead th {\n",
              "        text-align: right;\n",
              "    }\n",
              "</style>\n",
              "<table border=\"1\" class=\"dataframe\">\n",
              "  <thead>\n",
              "    <tr style=\"text-align: right;\">\n",
              "      <th></th>\n",
              "      <th>headline</th>\n",
              "      <th>article_link</th>\n",
              "      <th>is_fake</th>\n",
              "    </tr>\n",
              "  </thead>\n",
              "  <tbody>\n",
              "    <tr>\n",
              "      <th>0</th>\n",
              "      <td>Hijacked Regulatory Agencies Do the Bidding Of...</td>\n",
              "      <td>https://www.activistpost.com/2011/08/hijacked-...</td>\n",
              "      <td>1</td>\n",
              "    </tr>\n",
              "    <tr>\n",
              "      <th>1</th>\n",
              "      <td>Total sellout of privacy for profit: Facebook ...</td>\n",
              "      <td>2019-03-25-facebook-betrays-its-users-sells-in...</td>\n",
              "      <td>1</td>\n",
              "    </tr>\n",
              "    <tr>\n",
              "      <th>2</th>\n",
              "      <td>BREAKING: Reagan Shooter John Hinckley Jr Free...</td>\n",
              "      <td>https://dailyheadlines.net/breaking-reagan-sho...</td>\n",
              "      <td>1</td>\n",
              "    </tr>\n",
              "    <tr>\n",
              "      <th>3</th>\n",
              "      <td>BREAKING: Actor SCOTT BAIO Endorses Donald Tru...</td>\n",
              "      <td>https://www.thegatewaypundit.com/2016/03/actor...</td>\n",
              "      <td>1</td>\n",
              "    </tr>\n",
              "    <tr>\n",
              "      <th>4</th>\n",
              "      <td>TRUMP ATTORNEY: Susan Rice Secret Meeting With...</td>\n",
              "      <td>https://www.thegatewaypundit.com/2018/02/trump...</td>\n",
              "      <td>1</td>\n",
              "    </tr>\n",
              "    <tr>\n",
              "      <th>...</th>\n",
              "      <td>...</td>\n",
              "      <td>...</td>\n",
              "      <td>...</td>\n",
              "    </tr>\n",
              "    <tr>\n",
              "      <th>236092</th>\n",
              "      <td>Faith in US economy evaporates ahead of 2012 vote</td>\n",
              "      <td>https://www.activistpost.com/2011/10/faith-in-...</td>\n",
              "      <td>1</td>\n",
              "    </tr>\n",
              "    <tr>\n",
              "      <th>236093</th>\n",
              "      <td>Say Hello To Your Corporate Police</td>\n",
              "      <td>https://www.activistpost.com/2012/04/say-hello...</td>\n",
              "      <td>1</td>\n",
              "    </tr>\n",
              "    <tr>\n",
              "      <th>236094</th>\n",
              "      <td>Leaked Internal Docs Reveal Disney is Pushing ...</td>\n",
              "      <td>https://www.thegatewaypundit.com/2021/05/leake...</td>\n",
              "      <td>1</td>\n",
              "    </tr>\n",
              "    <tr>\n",
              "      <th>236095</th>\n",
              "      <td>America should borrow from Europe’s data-priva...</td>\n",
              "      <td>https://www.economist.com/leaders/2018/04/05/a...</td>\n",
              "      <td>0</td>\n",
              "    </tr>\n",
              "    <tr>\n",
              "      <th>236096</th>\n",
              "      <td>25 Reasons to Ask “Why?” As We Enter 2013</td>\n",
              "      <td>https://www.activistpost.com/2013/01/25-reason...</td>\n",
              "      <td>1</td>\n",
              "    </tr>\n",
              "  </tbody>\n",
              "</table>\n",
              "<p>236097 rows × 3 columns</p>\n",
              "</div>"
            ],
            "text/plain": [
              "                                                 headline  ... is_fake\n",
              "0       Hijacked Regulatory Agencies Do the Bidding Of...  ...       1\n",
              "1       Total sellout of privacy for profit: Facebook ...  ...       1\n",
              "2       BREAKING: Reagan Shooter John Hinckley Jr Free...  ...       1\n",
              "3       BREAKING: Actor SCOTT BAIO Endorses Donald Tru...  ...       1\n",
              "4       TRUMP ATTORNEY: Susan Rice Secret Meeting With...  ...       1\n",
              "...                                                   ...  ...     ...\n",
              "236092  Faith in US economy evaporates ahead of 2012 vote  ...       1\n",
              "236093                 Say Hello To Your Corporate Police  ...       1\n",
              "236094  Leaked Internal Docs Reveal Disney is Pushing ...  ...       1\n",
              "236095  America should borrow from Europe’s data-priva...  ...       0\n",
              "236096          25 Reasons to Ask “Why?” As We Enter 2013  ...       1\n",
              "\n",
              "[236097 rows x 3 columns]"
            ]
          },
          "metadata": {
            "tags": []
          },
          "execution_count": 26
        }
      ]
    },
    {
      "cell_type": "code",
      "metadata": {
        "colab": {
          "base_uri": "https://localhost:8080/"
        },
        "id": "xYi4QqTV-AIL",
        "outputId": "fa12292e-8af0-4b4c-e975-a98ed2368b4d"
      },
      "source": [
        "labels = dataset['is_fake']\n",
        "labels"
      ],
      "execution_count": 27,
      "outputs": [
        {
          "output_type": "execute_result",
          "data": {
            "text/plain": [
              "0         1\n",
              "1         1\n",
              "2         1\n",
              "3         1\n",
              "4         1\n",
              "         ..\n",
              "236092    1\n",
              "236093    1\n",
              "236094    1\n",
              "236095    0\n",
              "236096    1\n",
              "Name: is_fake, Length: 236097, dtype: int64"
            ]
          },
          "metadata": {
            "tags": []
          },
          "execution_count": 27
        }
      ]
    },
    {
      "cell_type": "code",
      "metadata": {
        "id": "RXBuKvJZ-CAT"
      },
      "source": [
        "from sklearn.model_selection import train_test_split\n",
        "x_train,x_test,y_train,y_test=train_test_split(dataset['headline'], labels, test_size=0.2)"
      ],
      "execution_count": 28,
      "outputs": []
    },
    {
      "cell_type": "code",
      "metadata": {
        "id": "-mazrtCi-EdE"
      },
      "source": [
        "from sklearn.feature_extraction.text import TfidfVectorizer\n",
        "tfidf_vectorizer=TfidfVectorizer(stop_words='english', max_df=0.95)"
      ],
      "execution_count": 29,
      "outputs": []
    },
    {
      "cell_type": "code",
      "metadata": {
        "id": "u65LCqxE-Hqi"
      },
      "source": [
        "#Tạo vetor số được chuyển đổi từ các headline tương ứng\n",
        "tfidf_train=tfidf_vectorizer.fit_transform(x_train) \n",
        "tfidf_test=tfidf_vectorizer.transform(x_test)"
      ],
      "execution_count": 30,
      "outputs": []
    },
    {
      "cell_type": "code",
      "metadata": {
        "id": "CiAQzR05-IR7"
      },
      "source": [
        "#Tạo model Pasive Aggresessive\n",
        "from sklearn.linear_model import PassiveAggressiveClassifier\n",
        "pac=PassiveAggressiveClassifier(max_iter=500)\n",
        "pac.fit(tfidf_train,y_train)"
      ],
      "execution_count": null,
      "outputs": []
    },
    {
      "cell_type": "code",
      "metadata": {
        "colab": {
          "base_uri": "https://localhost:8080/"
        },
        "id": "JgDNrLJF-KBb",
        "outputId": "f51de6ab-5a10-4bb4-ddba-76fd2fc3f7df"
      },
      "source": [
        "import sklearn\n",
        "y_pred=pac.predict(tfidf_test)\n",
        "score=sklearn.metrics.accuracy_score(y_test,y_pred)\n",
        "print(f'Accuracy: {round(score*100,2)}%')"
      ],
      "execution_count": 32,
      "outputs": [
        {
          "output_type": "stream",
          "text": [
            "Accuracy: 94.74%\n"
          ],
          "name": "stdout"
        }
      ]
    }
  ]
}