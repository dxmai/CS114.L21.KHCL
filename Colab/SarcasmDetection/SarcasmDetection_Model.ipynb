{
  "nbformat": 4,
  "nbformat_minor": 0,
  "metadata": {
    "colab": {
      "name": "SarcasmDetection_Model.ipynb",
      "provenance": [],
      "collapsed_sections": [],
      "authorship_tag": "ABX9TyNdsqFPI9jvq703BHN5U1I2",
      "include_colab_link": true
    },
    "kernelspec": {
      "name": "python3",
      "display_name": "Python 3"
    },
    "language_info": {
      "name": "python"
    }
  },
  "cells": [
    {
      "cell_type": "markdown",
      "metadata": {
        "id": "view-in-github",
        "colab_type": "text"
      },
      "source": [
        "<a href=\"https://colab.research.google.com/github/dxmai/CS114.L21.KHCL/blob/main/Colab/SarcasmDetection/SarcasmDetection_Model.ipynb\" target=\"_parent\"><img src=\"https://colab.research.google.com/assets/colab-badge.svg\" alt=\"Open In Colab\"/></a>"
      ]
    },
    {
      "cell_type": "markdown",
      "metadata": {
        "id": "w6tM5Yw-jRCf"
      },
      "source": [
        "Quá trình thu thập dữ liệu:\n",
        "\n",
        "=> https://colab.research.google.com/drive/1BHW9lMVQYmSINjR_aFYrIvCRTS9VI8Jc\n",
        "\n"
      ]
    },
    {
      "cell_type": "markdown",
      "metadata": {
        "id": "ye0EjgRgjgIY"
      },
      "source": [
        "#Load dữ liệu đã thu thập được\n"
      ]
    },
    {
      "cell_type": "code",
      "metadata": {
        "id": "An59x6gnjVcZ"
      },
      "source": [
        "import pandas as pd\n",
        "import json"
      ],
      "execution_count": 1,
      "outputs": []
    },
    {
      "cell_type": "markdown",
      "metadata": {
        "id": "pkHG5vfCkExn"
      },
      "source": [
        "##Trang châm biếm\n"
      ]
    },
    {
      "cell_type": "code",
      "metadata": {
        "id": "17dCHyYLj1jG"
      },
      "source": [
        "biscuit = pd.read_json('https://raw.githubusercontent.com/dxmai/CS114.L21.KHCL/main/Colab/SarcasmDetection/Dataset/In-3-Years/newsbiscuit.json')\n",
        "onion = pd.read_json('https://raw.githubusercontent.com/dxmai/CS114.L21.KHCL/main/Colab/SarcasmDetection/Dataset/In-3-Years/theonion.json')\n",
        "betoota = pd.read_json('https://raw.githubusercontent.com/dxmai/CS114.L21.KHCL/main/Colab/SarcasmDetection/Dataset/In-3-Years/betootaadvocate.json')"
      ],
      "execution_count": 2,
      "outputs": []
    },
    {
      "cell_type": "code",
      "metadata": {
        "colab": {
          "base_uri": "https://localhost:8080/",
          "height": 421
        },
        "id": "66hOPDE0kuSn",
        "outputId": "9c2d328d-2c50-4cbb-ff29-ad330a5805a1"
      },
      "source": [
        "dataset = biscuit.append(onion, ignore_index=True)\n",
        "dataset = dataset.append(betoota, ignore_index=True)\n",
        "dataset"
      ],
      "execution_count": 3,
      "outputs": [
        {
          "output_type": "execute_result",
          "data": {
            "text/html": [
              "<div>\n",
              "<style scoped>\n",
              "    .dataframe tbody tr th:only-of-type {\n",
              "        vertical-align: middle;\n",
              "    }\n",
              "\n",
              "    .dataframe tbody tr th {\n",
              "        vertical-align: top;\n",
              "    }\n",
              "\n",
              "    .dataframe thead th {\n",
              "        text-align: right;\n",
              "    }\n",
              "</style>\n",
              "<table border=\"1\" class=\"dataframe\">\n",
              "  <thead>\n",
              "    <tr style=\"text-align: right;\">\n",
              "      <th></th>\n",
              "      <th>headline</th>\n",
              "      <th>article_link</th>\n",
              "      <th>is_sarcastic</th>\n",
              "    </tr>\n",
              "  </thead>\n",
              "  <tbody>\n",
              "    <tr>\n",
              "      <th>0</th>\n",
              "      <td>UK’s ‘Freedom Day’ decision passed to mixed In...</td>\n",
              "      <td>http://www.newsbiscuit.com/2021/06/03/uks-free...</td>\n",
              "      <td>1</td>\n",
              "    </tr>\n",
              "    <tr>\n",
              "      <th>1</th>\n",
              "      <td>Scandal, as teachers award higher grades to br...</td>\n",
              "      <td>http://www.newsbiscuit.com/2021/05/21/scandal-...</td>\n",
              "      <td>1</td>\n",
              "    </tr>\n",
              "    <tr>\n",
              "      <th>2</th>\n",
              "      <td>Old dogs no longer funded for trick-based educ...</td>\n",
              "      <td>http://www.newsbiscuit.com/2021/03/28/old-dogs...</td>\n",
              "      <td>1</td>\n",
              "    </tr>\n",
              "    <tr>\n",
              "      <th>3</th>\n",
              "      <td>Homeschooling dad is quids-in after becoming a...</td>\n",
              "      <td>http://www.newsbiscuit.com/2021/01/31/homescho...</td>\n",
              "      <td>1</td>\n",
              "    </tr>\n",
              "    <tr>\n",
              "      <th>4</th>\n",
              "      <td>Economy boost as schoolteacher exam prediction...</td>\n",
              "      <td>http://www.newsbiscuit.com/2021/01/09/economy-...</td>\n",
              "      <td>1</td>\n",
              "    </tr>\n",
              "    <tr>\n",
              "      <th>...</th>\n",
              "      <td>...</td>\n",
              "      <td>...</td>\n",
              "      <td>...</td>\n",
              "    </tr>\n",
              "    <tr>\n",
              "      <th>13743</th>\n",
              "      <td>Gabba’s Curator Drops In Section Of Vulture St...</td>\n",
              "      <td>https://www.betootaadvocate.com/uncategorized/...</td>\n",
              "      <td>1</td>\n",
              "    </tr>\n",
              "    <tr>\n",
              "      <th>13744</th>\n",
              "      <td>Self-Described Fiscally-Conservative Socially-...</td>\n",
              "      <td>https://www.betootaadvocate.com/uncategorized/...</td>\n",
              "      <td>1</td>\n",
              "    </tr>\n",
              "    <tr>\n",
              "      <th>13745</th>\n",
              "      <td>Palest Colleague In Workplace Also The Most Co...</td>\n",
              "      <td>https://www.betootaadvocate.com/uncategorized/...</td>\n",
              "      <td>1</td>\n",
              "    </tr>\n",
              "    <tr>\n",
              "      <th>13746</th>\n",
              "      <td>Richard Kingsmill Handcuffs Self To Pipe And S...</td>\n",
              "      <td>https://www.betootaadvocate.com/uncategorized/...</td>\n",
              "      <td>1</td>\n",
              "    </tr>\n",
              "    <tr>\n",
              "      <th>13747</th>\n",
              "      <td>Barnaby Joyce’s Media Pigeon Applies For Vacan...</td>\n",
              "      <td>https://www.betootaadvocate.com/uncategorized/...</td>\n",
              "      <td>1</td>\n",
              "    </tr>\n",
              "  </tbody>\n",
              "</table>\n",
              "<p>13748 rows × 3 columns</p>\n",
              "</div>"
            ],
            "text/plain": [
              "                                                headline  ... is_sarcastic\n",
              "0      UK’s ‘Freedom Day’ decision passed to mixed In...  ...            1\n",
              "1      Scandal, as teachers award higher grades to br...  ...            1\n",
              "2      Old dogs no longer funded for trick-based educ...  ...            1\n",
              "3      Homeschooling dad is quids-in after becoming a...  ...            1\n",
              "4      Economy boost as schoolteacher exam prediction...  ...            1\n",
              "...                                                  ...  ...          ...\n",
              "13743  Gabba’s Curator Drops In Section Of Vulture St...  ...            1\n",
              "13744  Self-Described Fiscally-Conservative Socially-...  ...            1\n",
              "13745  Palest Colleague In Workplace Also The Most Co...  ...            1\n",
              "13746  Richard Kingsmill Handcuffs Self To Pipe And S...  ...            1\n",
              "13747  Barnaby Joyce’s Media Pigeon Applies For Vacan...  ...            1\n",
              "\n",
              "[13748 rows x 3 columns]"
            ]
          },
          "metadata": {
            "tags": []
          },
          "execution_count": 3
        }
      ]
    },
    {
      "cell_type": "markdown",
      "metadata": {
        "id": "jva3rqG5kHxV"
      },
      "source": [
        "##Trang chính thống\n"
      ]
    },
    {
      "cell_type": "code",
      "metadata": {
        "id": "hSAGRPUpkKmu"
      },
      "source": [
        "csmonitor = pd.read_json('https://raw.githubusercontent.com/dxmai/CS114.L21.KHCL/main/Colab/SarcasmDetection/Dataset/In-3-Years/csmonitor.json')\n",
        "eco = pd.read_json('https://raw.githubusercontent.com/dxmai/CS114.L21.KHCL/main/Colab/SarcasmDetection/Dataset/In-3-Years/economist.json')\n",
        "bestinau = pd.read_json('https://raw.githubusercontent.com/dxmai/CS114.L21.KHCL/main/Colab/SarcasmDetection/Dataset/In-3-Years/bestinau.json.json')"
      ],
      "execution_count": 4,
      "outputs": []
    },
    {
      "cell_type": "code",
      "metadata": {
        "colab": {
          "base_uri": "https://localhost:8080/",
          "height": 421
        },
        "id": "XpO9tLJ3lFWo",
        "outputId": "35011692-9d22-4826-fa0d-94a0c8a24cc2"
      },
      "source": [
        "real = csmonitor.append(eco, ignore_index=True)\n",
        "real = real.append(bestinau, ignore_index=True)\n",
        "real"
      ],
      "execution_count": 5,
      "outputs": [
        {
          "output_type": "execute_result",
          "data": {
            "text/html": [
              "<div>\n",
              "<style scoped>\n",
              "    .dataframe tbody tr th:only-of-type {\n",
              "        vertical-align: middle;\n",
              "    }\n",
              "\n",
              "    .dataframe tbody tr th {\n",
              "        vertical-align: top;\n",
              "    }\n",
              "\n",
              "    .dataframe thead th {\n",
              "        text-align: right;\n",
              "    }\n",
              "</style>\n",
              "<table border=\"1\" class=\"dataframe\">\n",
              "  <thead>\n",
              "    <tr style=\"text-align: right;\">\n",
              "      <th></th>\n",
              "      <th>headline</th>\n",
              "      <th>article_link</th>\n",
              "      <th>is_sarcastic</th>\n",
              "    </tr>\n",
              "  </thead>\n",
              "  <tbody>\n",
              "    <tr>\n",
              "      <th>0</th>\n",
              "      <td>After killing of Muslim family, Canada faces i...</td>\n",
              "      <td>https://www.csmonitor.com/World/Americas/2021/...</td>\n",
              "      <td>0</td>\n",
              "    </tr>\n",
              "    <tr>\n",
              "      <th>1</th>\n",
              "      <td>Three reporters find different roads to those ...</td>\n",
              "      <td>https://www.csmonitor.com/World/Americas/2021/...</td>\n",
              "      <td>0</td>\n",
              "    </tr>\n",
              "    <tr>\n",
              "      <th>2</th>\n",
              "      <td>Stuck in limbo: Haitians seeking refuge look a...</td>\n",
              "      <td>https://www.csmonitor.com/World/Americas/2021/...</td>\n",
              "      <td>0</td>\n",
              "    </tr>\n",
              "    <tr>\n",
              "      <th>3</th>\n",
              "      <td>Democracy undone? Nicaragua's Ortega arrests a...</td>\n",
              "      <td>https://www.csmonitor.com/World/Americas/2021/...</td>\n",
              "      <td>0</td>\n",
              "    </tr>\n",
              "    <tr>\n",
              "      <th>4</th>\n",
              "      <td>In polarizing election, Peru hears echoes of t...</td>\n",
              "      <td>https://www.csmonitor.com/World/Americas/2021/...</td>\n",
              "      <td>0</td>\n",
              "    </tr>\n",
              "    <tr>\n",
              "      <th>...</th>\n",
              "      <td>...</td>\n",
              "      <td>...</td>\n",
              "      <td>...</td>\n",
              "    </tr>\n",
              "    <tr>\n",
              "      <th>21371</th>\n",
              "      <td>Best Shoe Stores in Perth</td>\n",
              "      <td>https://bestinau.com.au/shoe-stores-in-perth/</td>\n",
              "      <td>0</td>\n",
              "    </tr>\n",
              "    <tr>\n",
              "      <th>21372</th>\n",
              "      <td>Marvel’s next star might be Oscar-nominated Ha...</td>\n",
              "      <td>https://bestinau.com.au/marvels-next-star-migh...</td>\n",
              "      <td>0</td>\n",
              "    </tr>\n",
              "    <tr>\n",
              "      <th>21373</th>\n",
              "      <td>Best Men’s Clothing Stores in Gold Coast</td>\n",
              "      <td>https://bestinau.com.au/mens-clothing-stores-i...</td>\n",
              "      <td>0</td>\n",
              "    </tr>\n",
              "    <tr>\n",
              "      <th>21374</th>\n",
              "      <td>Perks of having a dedicated hosting provider</td>\n",
              "      <td>https://bestinau.com.au/perks-of-having-a-dedi...</td>\n",
              "      <td>0</td>\n",
              "    </tr>\n",
              "    <tr>\n",
              "      <th>21375</th>\n",
              "      <td>Best Oncologists in Gold Coast</td>\n",
              "      <td>https://bestinau.com.au/best-oncologists-in-go...</td>\n",
              "      <td>0</td>\n",
              "    </tr>\n",
              "  </tbody>\n",
              "</table>\n",
              "<p>21376 rows × 3 columns</p>\n",
              "</div>"
            ],
            "text/plain": [
              "                                                headline  ... is_sarcastic\n",
              "0      After killing of Muslim family, Canada faces i...  ...            0\n",
              "1      Three reporters find different roads to those ...  ...            0\n",
              "2      Stuck in limbo: Haitians seeking refuge look a...  ...            0\n",
              "3      Democracy undone? Nicaragua's Ortega arrests a...  ...            0\n",
              "4      In polarizing election, Peru hears echoes of t...  ...            0\n",
              "...                                                  ...  ...          ...\n",
              "21371                          Best Shoe Stores in Perth  ...            0\n",
              "21372  Marvel’s next star might be Oscar-nominated Ha...  ...            0\n",
              "21373           Best Men’s Clothing Stores in Gold Coast  ...            0\n",
              "21374       Perks of having a dedicated hosting provider  ...            0\n",
              "21375                     Best Oncologists in Gold Coast  ...            0\n",
              "\n",
              "[21376 rows x 3 columns]"
            ]
          },
          "metadata": {
            "tags": []
          },
          "execution_count": 5
        }
      ]
    },
    {
      "cell_type": "code",
      "metadata": {
        "colab": {
          "base_uri": "https://localhost:8080/",
          "height": 421
        },
        "id": "yO5kM_LXla4e",
        "outputId": "b2c84ad3-7c0a-49ab-cea6-f4bb95a21e31"
      },
      "source": [
        "dataset = dataset.append(real, ignore_index=True)\n",
        "dataset"
      ],
      "execution_count": 6,
      "outputs": [
        {
          "output_type": "execute_result",
          "data": {
            "text/html": [
              "<div>\n",
              "<style scoped>\n",
              "    .dataframe tbody tr th:only-of-type {\n",
              "        vertical-align: middle;\n",
              "    }\n",
              "\n",
              "    .dataframe tbody tr th {\n",
              "        vertical-align: top;\n",
              "    }\n",
              "\n",
              "    .dataframe thead th {\n",
              "        text-align: right;\n",
              "    }\n",
              "</style>\n",
              "<table border=\"1\" class=\"dataframe\">\n",
              "  <thead>\n",
              "    <tr style=\"text-align: right;\">\n",
              "      <th></th>\n",
              "      <th>headline</th>\n",
              "      <th>article_link</th>\n",
              "      <th>is_sarcastic</th>\n",
              "    </tr>\n",
              "  </thead>\n",
              "  <tbody>\n",
              "    <tr>\n",
              "      <th>0</th>\n",
              "      <td>UK’s ‘Freedom Day’ decision passed to mixed In...</td>\n",
              "      <td>http://www.newsbiscuit.com/2021/06/03/uks-free...</td>\n",
              "      <td>1</td>\n",
              "    </tr>\n",
              "    <tr>\n",
              "      <th>1</th>\n",
              "      <td>Scandal, as teachers award higher grades to br...</td>\n",
              "      <td>http://www.newsbiscuit.com/2021/05/21/scandal-...</td>\n",
              "      <td>1</td>\n",
              "    </tr>\n",
              "    <tr>\n",
              "      <th>2</th>\n",
              "      <td>Old dogs no longer funded for trick-based educ...</td>\n",
              "      <td>http://www.newsbiscuit.com/2021/03/28/old-dogs...</td>\n",
              "      <td>1</td>\n",
              "    </tr>\n",
              "    <tr>\n",
              "      <th>3</th>\n",
              "      <td>Homeschooling dad is quids-in after becoming a...</td>\n",
              "      <td>http://www.newsbiscuit.com/2021/01/31/homescho...</td>\n",
              "      <td>1</td>\n",
              "    </tr>\n",
              "    <tr>\n",
              "      <th>4</th>\n",
              "      <td>Economy boost as schoolteacher exam prediction...</td>\n",
              "      <td>http://www.newsbiscuit.com/2021/01/09/economy-...</td>\n",
              "      <td>1</td>\n",
              "    </tr>\n",
              "    <tr>\n",
              "      <th>...</th>\n",
              "      <td>...</td>\n",
              "      <td>...</td>\n",
              "      <td>...</td>\n",
              "    </tr>\n",
              "    <tr>\n",
              "      <th>35119</th>\n",
              "      <td>Best Shoe Stores in Perth</td>\n",
              "      <td>https://bestinau.com.au/shoe-stores-in-perth/</td>\n",
              "      <td>0</td>\n",
              "    </tr>\n",
              "    <tr>\n",
              "      <th>35120</th>\n",
              "      <td>Marvel’s next star might be Oscar-nominated Ha...</td>\n",
              "      <td>https://bestinau.com.au/marvels-next-star-migh...</td>\n",
              "      <td>0</td>\n",
              "    </tr>\n",
              "    <tr>\n",
              "      <th>35121</th>\n",
              "      <td>Best Men’s Clothing Stores in Gold Coast</td>\n",
              "      <td>https://bestinau.com.au/mens-clothing-stores-i...</td>\n",
              "      <td>0</td>\n",
              "    </tr>\n",
              "    <tr>\n",
              "      <th>35122</th>\n",
              "      <td>Perks of having a dedicated hosting provider</td>\n",
              "      <td>https://bestinau.com.au/perks-of-having-a-dedi...</td>\n",
              "      <td>0</td>\n",
              "    </tr>\n",
              "    <tr>\n",
              "      <th>35123</th>\n",
              "      <td>Best Oncologists in Gold Coast</td>\n",
              "      <td>https://bestinau.com.au/best-oncologists-in-go...</td>\n",
              "      <td>0</td>\n",
              "    </tr>\n",
              "  </tbody>\n",
              "</table>\n",
              "<p>35124 rows × 3 columns</p>\n",
              "</div>"
            ],
            "text/plain": [
              "                                                headline  ... is_sarcastic\n",
              "0      UK’s ‘Freedom Day’ decision passed to mixed In...  ...            1\n",
              "1      Scandal, as teachers award higher grades to br...  ...            1\n",
              "2      Old dogs no longer funded for trick-based educ...  ...            1\n",
              "3      Homeschooling dad is quids-in after becoming a...  ...            1\n",
              "4      Economy boost as schoolteacher exam prediction...  ...            1\n",
              "...                                                  ...  ...          ...\n",
              "35119                          Best Shoe Stores in Perth  ...            0\n",
              "35120  Marvel’s next star might be Oscar-nominated Ha...  ...            0\n",
              "35121           Best Men’s Clothing Stores in Gold Coast  ...            0\n",
              "35122       Perks of having a dedicated hosting provider  ...            0\n",
              "35123                     Best Oncologists in Gold Coast  ...            0\n",
              "\n",
              "[35124 rows x 3 columns]"
            ]
          },
          "metadata": {
            "tags": []
          },
          "execution_count": 6
        }
      ]
    },
    {
      "cell_type": "markdown",
      "metadata": {
        "id": "1PDKR6Rdrlc5"
      },
      "source": [
        "#Tạo và chạy model"
      ]
    },
    {
      "cell_type": "markdown",
      "metadata": {
        "id": "7ZE0CExfXI6S"
      },
      "source": [
        "## Dùng tf-idf "
      ]
    },
    {
      "cell_type": "markdown",
      "metadata": {
        "id": "Yu_TLZugJQID"
      },
      "source": [
        "Đổi thứ tự dữ liệu \n",
        "\n",
        "**Tham khảo tại**: https://stackoverflow.com/questions/29576430/shuffle-dataframe-rows\n"
      ]
    },
    {
      "cell_type": "code",
      "metadata": {
        "colab": {
          "base_uri": "https://localhost:8080/",
          "height": 421
        },
        "id": "_7AK2CeYl53X",
        "outputId": "b0e36a20-92f6-4a55-e8b8-576f5302055b"
      },
      "source": [
        "dataset = dataset.sample(frac=1).reset_index(drop=True)\n",
        "dataset"
      ],
      "execution_count": 7,
      "outputs": [
        {
          "output_type": "execute_result",
          "data": {
            "text/html": [
              "<div>\n",
              "<style scoped>\n",
              "    .dataframe tbody tr th:only-of-type {\n",
              "        vertical-align: middle;\n",
              "    }\n",
              "\n",
              "    .dataframe tbody tr th {\n",
              "        vertical-align: top;\n",
              "    }\n",
              "\n",
              "    .dataframe thead th {\n",
              "        text-align: right;\n",
              "    }\n",
              "</style>\n",
              "<table border=\"1\" class=\"dataframe\">\n",
              "  <thead>\n",
              "    <tr style=\"text-align: right;\">\n",
              "      <th></th>\n",
              "      <th>headline</th>\n",
              "      <th>article_link</th>\n",
              "      <th>is_sarcastic</th>\n",
              "    </tr>\n",
              "  </thead>\n",
              "  <tbody>\n",
              "    <tr>\n",
              "      <th>0</th>\n",
              "      <td>As virus cases surge, nations set aside differ...</td>\n",
              "      <td>https://www.csmonitor.com/World/Europe/2020/04...</td>\n",
              "      <td>0</td>\n",
              "    </tr>\n",
              "    <tr>\n",
              "      <th>1</th>\n",
              "      <td>Cadet Studying For Police Academy Exam Just Sk...</td>\n",
              "      <td>https://www.theonion.com/cadet-studying-for-po...</td>\n",
              "      <td>1</td>\n",
              "    </tr>\n",
              "    <tr>\n",
              "      <th>2</th>\n",
              "      <td>UK in talks with China over high-speed import ...</td>\n",
              "      <td>http://www.newsbiscuit.com/2020/02/17/uk-in-ta...</td>\n",
              "      <td>1</td>\n",
              "    </tr>\n",
              "    <tr>\n",
              "      <th>3</th>\n",
              "      <td>Many economists defend disaster profiteers. Th...</td>\n",
              "      <td>https://www.economist.com/finance-and-economic...</td>\n",
              "      <td>0</td>\n",
              "    </tr>\n",
              "    <tr>\n",
              "      <th>4</th>\n",
              "      <td>Why calls grow for President Trump's resignati...</td>\n",
              "      <td>https://www.csmonitor.com/USA/Politics/2021/01...</td>\n",
              "      <td>0</td>\n",
              "    </tr>\n",
              "    <tr>\n",
              "      <th>...</th>\n",
              "      <td>...</td>\n",
              "      <td>...</td>\n",
              "      <td>...</td>\n",
              "    </tr>\n",
              "    <tr>\n",
              "      <th>35119</th>\n",
              "      <td>Sensory Homunculus Diagram So Fucking Hot</td>\n",
              "      <td>https://www.theonion.com/sensory-homunculus-di...</td>\n",
              "      <td>1</td>\n",
              "    </tr>\n",
              "    <tr>\n",
              "      <th>35120</th>\n",
              "      <td>$17 Bottle Of Pale Ale From Airport Bar Really...</td>\n",
              "      <td>https://www.betootaadvocate.com/uncategorized/...</td>\n",
              "      <td>1</td>\n",
              "    </tr>\n",
              "    <tr>\n",
              "      <th>35121</th>\n",
              "      <td>Report: Amazon Using Heat-Sensing Alien Hunter...</td>\n",
              "      <td>https://www.theonion.com/report-amazon-using-h...</td>\n",
              "      <td>1</td>\n",
              "    </tr>\n",
              "    <tr>\n",
              "      <th>35122</th>\n",
              "      <td>Despite pandemic, three LA college students pu...</td>\n",
              "      <td>https://www.csmonitor.com/USA/Society/2020/092...</td>\n",
              "      <td>0</td>\n",
              "    </tr>\n",
              "    <tr>\n",
              "      <th>35123</th>\n",
              "      <td>Lattes Wondering What They Did To Offend Conse...</td>\n",
              "      <td>https://www.betootaadvocate.com/breaking-news/...</td>\n",
              "      <td>1</td>\n",
              "    </tr>\n",
              "  </tbody>\n",
              "</table>\n",
              "<p>35124 rows × 3 columns</p>\n",
              "</div>"
            ],
            "text/plain": [
              "                                                headline  ... is_sarcastic\n",
              "0      As virus cases surge, nations set aside differ...  ...            0\n",
              "1      Cadet Studying For Police Academy Exam Just Sk...  ...            1\n",
              "2      UK in talks with China over high-speed import ...  ...            1\n",
              "3      Many economists defend disaster profiteers. Th...  ...            0\n",
              "4      Why calls grow for President Trump's resignati...  ...            0\n",
              "...                                                  ...  ...          ...\n",
              "35119          Sensory Homunculus Diagram So Fucking Hot  ...            1\n",
              "35120  $17 Bottle Of Pale Ale From Airport Bar Really...  ...            1\n",
              "35121  Report: Amazon Using Heat-Sensing Alien Hunter...  ...            1\n",
              "35122  Despite pandemic, three LA college students pu...  ...            0\n",
              "35123  Lattes Wondering What They Did To Offend Conse...  ...            1\n",
              "\n",
              "[35124 rows x 3 columns]"
            ]
          },
          "metadata": {
            "tags": []
          },
          "execution_count": 7
        }
      ]
    },
    {
      "cell_type": "markdown",
      "metadata": {
        "id": "mD7pPHMEXNyY"
      },
      "source": [
        "**Tham khảo tại**: https://data-flair.training/blogs/advanced-python-project-detecting-fake-news/?fbclid=IwAR2WBtYzWmNsnESMAspE1fnphYAlw7ztjmrwcwQmbsqc44cWfsSnLlcVhM8"
      ]
    },
    {
      "cell_type": "code",
      "metadata": {
        "id": "RD92hIPvomH_"
      },
      "source": [
        "labels = dataset['is_sarcastic']\n",
        "labels"
      ],
      "execution_count": null,
      "outputs": []
    },
    {
      "cell_type": "code",
      "metadata": {
        "id": "f5livlBXIlJA"
      },
      "source": [
        "from sklearn.model_selection import train_test_split\n",
        "x_train,x_test,y_train,y_test=train_test_split(dataset['headline'], labels, test_size=0.2)"
      ],
      "execution_count": 9,
      "outputs": []
    },
    {
      "cell_type": "code",
      "metadata": {
        "id": "cmeVr5s_nvbB"
      },
      "source": [
        "from sklearn.feature_extraction.text import TfidfVectorizer\n",
        "tfidf_vectorizer=TfidfVectorizer(stop_words='english', max_df=0.95)"
      ],
      "execution_count": 10,
      "outputs": []
    },
    {
      "cell_type": "code",
      "metadata": {
        "id": "u5oyYUQAn0Xv"
      },
      "source": [
        "#Tạo vetor số được chuyển đổi từ các headline tương ứng\n",
        "tfidf_train=tfidf_vectorizer.fit_transform(x_train) \n",
        "tfidf_test=tfidf_vectorizer.transform(x_test)"
      ],
      "execution_count": 11,
      "outputs": []
    },
    {
      "cell_type": "code",
      "metadata": {
        "id": "SXCvivhln9XJ"
      },
      "source": [
        "#Tạo model Pasive Aggresessive\n",
        "from sklearn.linear_model import PassiveAggressiveClassifier\n",
        "pac=PassiveAggressiveClassifier(max_iter=500)\n",
        "pac.fit(tfidf_train,y_train)"
      ],
      "execution_count": null,
      "outputs": []
    },
    {
      "cell_type": "code",
      "metadata": {
        "colab": {
          "base_uri": "https://localhost:8080/"
        },
        "id": "1HpDHV1jqei6",
        "outputId": "9efc9a91-56c2-4a82-d8f6-4cabc0f7ba16"
      },
      "source": [
        "import sklearn\n",
        "y_pred=pac.predict(tfidf_test)\n",
        "score=sklearn.metrics.accuracy_score(y_test,y_pred)\n",
        "print(f'Accuracy: {round(score*100,2)}%')"
      ],
      "execution_count": 13,
      "outputs": [
        {
          "output_type": "stream",
          "text": [
            "Accuracy: 85.79%\n"
          ],
          "name": "stdout"
        }
      ]
    },
    {
      "cell_type": "markdown",
      "metadata": {
        "id": "dGl66txHMYCq"
      },
      "source": [
        "## Sử dụng tokenizer"
      ]
    },
    {
      "cell_type": "code",
      "metadata": {
        "id": "Ck9r5sUWJpQh"
      },
      "source": [
        "#Tạo mảng chứa độ dài của các headline (tính bằng số từ của 1 headline)\n",
        "trial = dataset.copy()\n",
        "len_sentence = []\n",
        "for i in range(len(trial)):\n",
        "  len_sentence.append(len(list(trial['headline'].iloc[i].split())))\n"
      ],
      "execution_count": 14,
      "outputs": []
    },
    {
      "cell_type": "code",
      "metadata": {
        "colab": {
          "base_uri": "https://localhost:8080/"
        },
        "id": "G6A1nCflR627",
        "outputId": "37c467fa-cc3d-4154-9a5f-6c7bc6626c89"
      },
      "source": [
        "#Xuất ra 10 giá trị đầu tiên để kiểm tra\n",
        "for i in range(10):\n",
        "  print(trial['headline'][i])\n",
        "  print('Number of words in headline: ',len_sentence[i])"
      ],
      "execution_count": 15,
      "outputs": [
        {
          "output_type": "stream",
          "text": [
            "As virus cases surge, nations set aside differences to help \n",
            "Number of words in headline:  10\n",
            "Cadet Studying For Police Academy Exam Just Skimming Over Deescalation Training He’ll Never Use In Real Life\n",
            "Number of words in headline:  17\n",
            "UK in talks with China over high-speed import of Coronavirus\n",
            "Number of words in headline:  10\n",
            "Many economists defend disaster profiteers. They are wrong\n",
            "Number of words in headline:  8\n",
            "Why calls grow for President Trump's resignation or impeachment\n",
            "Number of words in headline:  9\n",
            "Teenager Tries Vape Just To See If They Like Lifetime Of Nicotine Addiction\n",
            "Number of words in headline:  13\n",
            "Tucker Carlson Angrily Explains Difference Between Good Baby And Bad Baby\n",
            "Number of words in headline:  11\n",
            "Firms that analyse climate risks are the latest hot property\n",
            "Number of words in headline:  10\n",
            "Top Picks: Parquet Courts' 'Wide Awake,' the Smithsonian Channel's 'The Pacific War in Color,' and more\n",
            "Number of words in headline:  16\n",
            "Clinical Depression Miraculously Cured After Woman Told She Could Have It A Lot Worse\n",
            "Number of words in headline:  14\n"
          ],
          "name": "stdout"
        }
      ]
    },
    {
      "cell_type": "code",
      "metadata": {
        "colab": {
          "base_uri": "https://localhost:8080/"
        },
        "id": "7FsovlI8TYVY",
        "outputId": "0231dc46-6e72-46ab-d5dc-07c2d676a5ae"
      },
      "source": [
        "#Tìm giá độ dài lớn nhất và nhỏ nhất của headline để có thêm nhận xét\n",
        "maxLen = max(len_sentence)\n",
        "minLen = min(len_sentence)\n",
        "print(\"Maximun lengh of headline: \", maxLen)\n",
        "print(\"Minimun lengh of hedline: \", minLen)"
      ],
      "execution_count": 16,
      "outputs": [
        {
          "output_type": "stream",
          "text": [
            "Maximun lengh of headline:  151\n",
            "Minimun lengh of hedline:  1\n"
          ],
          "name": "stdout"
        }
      ]
    },
    {
      "cell_type": "code",
      "metadata": {
        "colab": {
          "base_uri": "https://localhost:8080/"
        },
        "id": "aG5VGt1XV5TO",
        "outputId": "2417bbfd-0128-4018-da76-c33d8e9f1eb1"
      },
      "source": [
        "#Tính trung bình độ dài của mỗi headline\n",
        "averageLen = sum(len_sentence) / len(len_sentence)\n",
        "print('Average lengh of sentences in dataset: ', averageLen)\n",
        "print('Round the answer: ', round(averageLen, 1))\n",
        "#Chuyển về kiểu số nguyên để dễ sử dụng hơn \n",
        "averageLen = int(round(averageLen, 1))"
      ],
      "execution_count": 17,
      "outputs": [
        {
          "output_type": "stream",
          "text": [
            "Average lengh of sentences in dataset:  9.973095319439699\n",
            "Round the answer:  10.0\n"
          ],
          "name": "stdout"
        }
      ]
    },
    {
      "cell_type": "code",
      "metadata": {
        "colab": {
          "base_uri": "https://localhost:8080/"
        },
        "id": "bA7FEsdSTaiR",
        "outputId": "04bbcbe1-4a98-4405-e3b7-777a6b67572b"
      },
      "source": [
        "#Kiểm tra bài viết có headline dài nhất và ngắn nhất có đúng thực tế đã thu thập được hay không\n",
        "count = 0\n",
        "minIndex, maxIndex  = 0, 0\n",
        "flagMin, flagMax = False, False\n",
        "for i in range(len(len_sentence)):\n",
        "  if len_sentence[i] == 1 and flagMin == False:\n",
        "    minIndex = i\n",
        "    flagMin = True\n",
        "    print('Min item at index: ',i)\n",
        "    count += 1\n",
        "  if len_sentence[i] == 151 and flagMax == False:\n",
        "    maxIndex = i\n",
        "    flagMax = True\n",
        "    print('Max item at index: ', i)\n",
        "    count += 1\n",
        "  if count == 2:\n",
        "    break"
      ],
      "execution_count": 18,
      "outputs": [
        {
          "output_type": "stream",
          "text": [
            "Min item at index:  3195\n",
            "Max item at index:  31052\n"
          ],
          "name": "stdout"
        }
      ]
    },
    {
      "cell_type": "code",
      "metadata": {
        "colab": {
          "base_uri": "https://localhost:8080/"
        },
        "id": "ZJwoz_udT2RP",
        "outputId": "afec755d-cf3c-4a06-a564-5889b5f3fe55"
      },
      "source": [
        "print('Link to the minimun headline\\'s lengh item: ',trial['article_link'].iloc[minIndex])\n",
        "print('Link to the maxiumun headline\\'s lengh item: ',trial['article_link'].iloc[maxIndex])"
      ],
      "execution_count": 19,
      "outputs": [
        {
          "output_type": "stream",
          "text": [
            "Link to the minimun headline's lengh item:  https://www.theonion.com/point-counterpoint-all-my-life-i-ve-worked-hard-told-1823617672\n",
            "Link to the maxiumun headline's lengh item:  https://www.theonion.com/hot-wheels-ranked-number-one-toy-for-rolling-down-ramp-1835732595\n"
          ],
          "name": "stdout"
        }
      ]
    },
    {
      "cell_type": "markdown",
      "metadata": {
        "id": "tMGub8dsNN98"
      },
      "source": [
        "Cài đặt và sử dụng Tokenizer"
      ]
    },
    {
      "cell_type": "markdown",
      "metadata": {
        "id": "oJCHXXxTW2Z5"
      },
      "source": [
        "**Tham khảo tại**: https://www.youtube.com/playlist?list=PLOU2XLYxmsII9mzQ-Xxug4l2o04JBrkLV\n",
        "\n",
        "Ep 8 + 9 + 10"
      ]
    },
    {
      "cell_type": "code",
      "metadata": {
        "id": "9AWZtQRcWjDH"
      },
      "source": [
        "from tensorflow.keras.preprocessing.text import Tokenizer\n",
        "from tensorflow.keras.preprocessing.sequence import pad_sequences"
      ],
      "execution_count": 20,
      "outputs": []
    },
    {
      "cell_type": "code",
      "metadata": {
        "id": "YSsPbRbXTe0C"
      },
      "source": [
        "#Tạo 1 bộ dữ liệu khác để chạy trên model dùng token\n",
        "x_train_token = x_train.copy()\n",
        "x_test_token = x_test.copy()\n",
        "y_train_token = y_train.copy()\n",
        "y_test_token = y_test.copy()"
      ],
      "execution_count": 21,
      "outputs": []
    },
    {
      "cell_type": "code",
      "metadata": {
        "id": "O4ZIK6beNXpr"
      },
      "source": [
        "#Công thức tự đặt ra, sẽ thử nhiều lần để có kết quả chính xác nhất\n",
        "#Độ dài trung bình của mỗi headline là 10, giả sử mỗi 1 headline đều có 10 từ mới \n",
        "num_words = 5000"
      ],
      "execution_count": 22,
      "outputs": []
    },
    {
      "cell_type": "code",
      "metadata": {
        "id": "Qzvs4r9OOPua"
      },
      "source": [
        "#Tạo tokenizer, số lượng từ trong từ điển bằng num_words\n",
        "tokenizer = Tokenizer(num_words=num_words, oov_token=\"<OOV>\")\n",
        "tokenizer.fit_on_texts(x_train_token)\n",
        "#Tạo ra 1 dictionary word_index \n",
        "word_index = tokenizer.word_index\n",
        "\n",
        "#Chuyển các từ trong 1 headline thành giá trị số\n",
        "x_train_token = tokenizer.texts_to_sequences(x_train_token)\n",
        "#Reshape lại giá độ dài của các headline, = 10 vì giá trị trung bình trên dataset tính ra được ở trên\n",
        "x_train_token = pad_sequences(x_train_token, maxlen=averageLen, padding='post', truncating='post')\n",
        "\n",
        "x_test_token = tokenizer.texts_to_sequences(x_test_token)\n",
        "x_test_token = pad_sequences(x_test_token, maxlen=averageLen, padding='post', truncating='post')"
      ],
      "execution_count": 23,
      "outputs": []
    },
    {
      "cell_type": "code",
      "metadata": {
        "id": "DCjInbiqVABZ"
      },
      "source": [
        "import numpy as np\n",
        "x_train_token = np.array(x_train_token)\n",
        "y_train_token = np.array(y_train_token)\n",
        "x_test_token = np.array(x_test_token)\n",
        "y_test_token = np.array(y_test_token)"
      ],
      "execution_count": 24,
      "outputs": []
    },
    {
      "cell_type": "code",
      "metadata": {
        "id": "pcfmvzQRVRLx"
      },
      "source": [
        "import tensorflow as tf\n",
        "model = tf.keras.Sequential([\n",
        "    tf.keras.layers.Embedding(num_words, 16, input_length=averageLen),\n",
        "    tf.keras.layers.GlobalAveragePooling1D(),\n",
        "    tf.keras.layers.Dense(24, activation='relu'),\n",
        "    tf.keras.layers.Dense(1, activation='sigmoid')\n",
        "])\n",
        "model.compile(loss='binary_crossentropy',optimizer='adam',metrics=['accuracy'])"
      ],
      "execution_count": 25,
      "outputs": []
    },
    {
      "cell_type": "code",
      "metadata": {
        "id": "6cBk19l0WOUi"
      },
      "source": [
        "model.summary()"
      ],
      "execution_count": null,
      "outputs": []
    },
    {
      "cell_type": "code",
      "metadata": {
        "id": "DgEbjnJjWW5i",
        "colab": {
          "base_uri": "https://localhost:8080/"
        },
        "outputId": "41cd8c80-5efb-4d44-fd6b-c533da613ab4"
      },
      "source": [
        "num_epochs = 30\n",
        "history = model.fit(x_train_token, y_train_token, epochs=num_epochs, validation_data=(x_test_token, y_test_token), verbose=2)"
      ],
      "execution_count": 27,
      "outputs": [
        {
          "output_type": "stream",
          "text": [
            "Epoch 1/30\n",
            "879/879 - 3s - loss: 0.3654 - accuracy: 0.8341 - val_loss: 0.2578 - val_accuracy: 0.8940\n",
            "Epoch 2/30\n",
            "879/879 - 2s - loss: 0.2147 - accuracy: 0.9134 - val_loss: 0.2637 - val_accuracy: 0.8904\n",
            "Epoch 3/30\n",
            "879/879 - 2s - loss: 0.1848 - accuracy: 0.9272 - val_loss: 0.2625 - val_accuracy: 0.8932\n",
            "Epoch 4/30\n",
            "879/879 - 2s - loss: 0.1692 - accuracy: 0.9323 - val_loss: 0.2741 - val_accuracy: 0.8920\n",
            "Epoch 5/30\n",
            "879/879 - 2s - loss: 0.1582 - accuracy: 0.9381 - val_loss: 0.2879 - val_accuracy: 0.8920\n",
            "Epoch 6/30\n",
            "879/879 - 2s - loss: 0.1510 - accuracy: 0.9419 - val_loss: 0.2962 - val_accuracy: 0.8927\n",
            "Epoch 7/30\n",
            "879/879 - 2s - loss: 0.1448 - accuracy: 0.9447 - val_loss: 0.3078 - val_accuracy: 0.8908\n",
            "Epoch 8/30\n",
            "879/879 - 2s - loss: 0.1392 - accuracy: 0.9479 - val_loss: 0.3189 - val_accuracy: 0.8924\n",
            "Epoch 9/30\n",
            "879/879 - 2s - loss: 0.1339 - accuracy: 0.9497 - val_loss: 0.3360 - val_accuracy: 0.8888\n",
            "Epoch 10/30\n",
            "879/879 - 2s - loss: 0.1307 - accuracy: 0.9518 - val_loss: 0.3406 - val_accuracy: 0.8868\n",
            "Epoch 11/30\n",
            "879/879 - 2s - loss: 0.1252 - accuracy: 0.9546 - val_loss: 0.3545 - val_accuracy: 0.8878\n",
            "Epoch 12/30\n",
            "879/879 - 2s - loss: 0.1192 - accuracy: 0.9557 - val_loss: 0.3763 - val_accuracy: 0.8858\n",
            "Epoch 13/30\n",
            "879/879 - 2s - loss: 0.1139 - accuracy: 0.9568 - val_loss: 0.3906 - val_accuracy: 0.8841\n",
            "Epoch 14/30\n",
            "879/879 - 2s - loss: 0.1068 - accuracy: 0.9584 - val_loss: 0.4052 - val_accuracy: 0.8865\n",
            "Epoch 15/30\n",
            "879/879 - 2s - loss: 0.0993 - accuracy: 0.9620 - val_loss: 0.4517 - val_accuracy: 0.8844\n",
            "Epoch 16/30\n",
            "879/879 - 2s - loss: 0.0913 - accuracy: 0.9627 - val_loss: 0.4909 - val_accuracy: 0.8838\n",
            "Epoch 17/30\n",
            "879/879 - 2s - loss: 0.0829 - accuracy: 0.9645 - val_loss: 0.5284 - val_accuracy: 0.8844\n",
            "Epoch 18/30\n",
            "879/879 - 2s - loss: 0.0754 - accuracy: 0.9659 - val_loss: 0.5831 - val_accuracy: 0.8834\n",
            "Epoch 19/30\n",
            "879/879 - 2s - loss: 0.0672 - accuracy: 0.9678 - val_loss: 0.6338 - val_accuracy: 0.8838\n",
            "Epoch 20/30\n",
            "879/879 - 2s - loss: 0.0612 - accuracy: 0.9710 - val_loss: 0.7091 - val_accuracy: 0.8787\n",
            "Epoch 21/30\n",
            "879/879 - 2s - loss: 0.0556 - accuracy: 0.9735 - val_loss: 0.7863 - val_accuracy: 0.8790\n",
            "Epoch 22/30\n",
            "879/879 - 2s - loss: 0.0525 - accuracy: 0.9758 - val_loss: 0.8312 - val_accuracy: 0.8801\n",
            "Epoch 23/30\n",
            "879/879 - 2s - loss: 0.0484 - accuracy: 0.9774 - val_loss: 0.9022 - val_accuracy: 0.8779\n",
            "Epoch 24/30\n",
            "879/879 - 2s - loss: 0.0440 - accuracy: 0.9791 - val_loss: 0.9574 - val_accuracy: 0.8801\n",
            "Epoch 25/30\n",
            "879/879 - 2s - loss: 0.0403 - accuracy: 0.9811 - val_loss: 1.0094 - val_accuracy: 0.8781\n",
            "Epoch 26/30\n",
            "879/879 - 2s - loss: 0.0396 - accuracy: 0.9816 - val_loss: 1.0854 - val_accuracy: 0.8763\n",
            "Epoch 27/30\n",
            "879/879 - 2s - loss: 0.0381 - accuracy: 0.9821 - val_loss: 1.1258 - val_accuracy: 0.8772\n",
            "Epoch 28/30\n",
            "879/879 - 2s - loss: 0.0355 - accuracy: 0.9832 - val_loss: 1.2023 - val_accuracy: 0.8770\n",
            "Epoch 29/30\n",
            "879/879 - 2s - loss: 0.0329 - accuracy: 0.9846 - val_loss: 1.2343 - val_accuracy: 0.8759\n",
            "Epoch 30/30\n",
            "879/879 - 2s - loss: 0.0326 - accuracy: 0.9848 - val_loss: 1.2834 - val_accuracy: 0.8754\n"
          ],
          "name": "stdout"
        }
      ]
    },
    {
      "cell_type": "markdown",
      "metadata": {
        "id": "S9aeZjGVLkOW"
      },
      "source": [
        "Nhận xét: giá trị num_words ở [22] có ảnh hưởng đến quá trình training, nếu num_words quá lớn, điều này dẫn đến model bị overfitting, accuracy lúc này có thể gần bằng 1. Vẫn đang xem xét để tìm ra giá trị tối ưu"
      ]
    }
  ]
}