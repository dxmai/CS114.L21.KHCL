{
  "nbformat": 4,
  "nbformat_minor": 0,
  "metadata": {
    "colab": {
      "name": "Linear_Regression.ipynb",
      "provenance": [],
      "collapsed_sections": [],
      "authorship_tag": "ABX9TyPOp6BejiOJd7SpzhFxg2pu",
      "include_colab_link": true
    },
    "kernelspec": {
      "name": "python3",
      "display_name": "Python 3"
    },
    "language_info": {
      "name": "python"
    }
  },
  "cells": [
    {
      "cell_type": "markdown",
      "metadata": {
        "id": "view-in-github",
        "colab_type": "text"
      },
      "source": [
        "<a href=\"https://colab.research.google.com/github/dxmai/CS114.L21.KHCL/blob/main/Colab/Linear_Regression.ipynb\" target=\"_parent\"><img src=\"https://colab.research.google.com/assets/colab-badge.svg\" alt=\"Open In Colab\"/></a>"
      ]
    },
    {
      "cell_type": "markdown",
      "metadata": {
        "id": "y-N7sq9Bh3aR"
      },
      "source": [
        "Xử lý training dataset"
      ]
    },
    {
      "cell_type": "code",
      "metadata": {
        "colab": {
          "base_uri": "https://localhost:8080/"
        },
        "id": "vyFCecySXB-o",
        "outputId": "b74e5cbf-c3ab-4a22-e8c1-a60577e4e807"
      },
      "source": [
        "import pandas as pd\n",
        "\n",
        "dataset = pd.read_csv(\"https://cs.uit.edu.vn/data2.txt\", names = ['size', 'time'])\n",
        "\n",
        "print(dataset)\n"
      ],
      "execution_count": 147,
      "outputs": [
        {
          "output_type": "stream",
          "text": [
            "          size      time\n",
            "0      6083695  0.521842\n",
            "1      1954367  0.152648\n",
            "2      3734185  0.298548\n",
            "3      5839301  0.460480\n",
            "4      6343427  0.527977\n",
            "...        ...       ...\n",
            "71110  4472112  0.350379\n",
            "71111  5471895  0.429955\n",
            "71112  9837364  0.801394\n",
            "71113  9466593  0.776407\n",
            "71114  4080801  0.314468\n",
            "\n",
            "[71115 rows x 2 columns]\n"
          ],
          "name": "stdout"
        }
      ]
    },
    {
      "cell_type": "code",
      "metadata": {
        "colab": {
          "base_uri": "https://localhost:8080/"
        },
        "id": "feCVGliMdhU6",
        "outputId": "90075f1c-aa2c-4783-b0fa-dfae1ecea107"
      },
      "source": [
        "#Tổng số lượng bộ train\n",
        "dataset.count()"
      ],
      "execution_count": 148,
      "outputs": [
        {
          "output_type": "execute_result",
          "data": {
            "text/plain": [
              "size    71115\n",
              "time    71115\n",
              "dtype: int64"
            ]
          },
          "metadata": {
            "tags": []
          },
          "execution_count": 148
        }
      ]
    },
    {
      "cell_type": "markdown",
      "metadata": {
        "id": "y9CFJGtIiItR"
      },
      "source": [
        "Biểu diễn bộ train"
      ]
    },
    {
      "cell_type": "code",
      "metadata": {
        "colab": {
          "base_uri": "https://localhost:8080/",
          "height": 295
        },
        "id": "1V6IGUTGgHFy",
        "outputId": "bbfb7257-9912-45c7-870e-d3eef914f275"
      },
      "source": [
        "import matplotlib.pyplot as plt\n",
        "\n",
        "plt.scatter(dataset['size'], dataset['time'], color = 'black')\n",
        "#plt.plot(x_train, model.predict(x_train), color = 'blue')\n",
        "plt.title(\"Tranining Set\")\n",
        "plt.xlabel(\"Size\")\n",
        "plt.ylabel(\"Time\")\n",
        "plt.show()"
      ],
      "execution_count": 149,
      "outputs": [
        {
          "output_type": "display_data",
          "data": {
            "image/png": "[encoded data removed]",
            "text/plain": [
              "<Figure size 432x288 with 1 Axes>"
            ]
          },
          "metadata": {
            "tags": [],
            "needs_background": "light"
          }
        }
      ]
    },
    {
      "cell_type": "code",
      "metadata": {
        "id": "GTdSdSfHM5sV"
      },
      "source": [
        "#Code của Thầy An\n",
        "def InCreaseDimensions(x_value):\n",
        "  x = x_value\n",
        "  x = np.hstack((x, np.log2(x_value)))\n",
        "  x = np.hstack((x, x_value*np.log2(x_value)))\n",
        "  x = np.hstack((x, x_value*x_value))\n",
        "  return x"
      ],
      "execution_count": 150,
      "outputs": []
    },
    {
      "cell_type": "markdown",
      "metadata": {
        "id": "gwQvlJ8EiRG4"
      },
      "source": [
        "Data Preprocessing"
      ]
    },
    {
      "cell_type": "code",
      "metadata": {
        "colab": {
          "base_uri": "https://localhost:8080/"
        },
        "id": "VwZ__65IasM8",
        "outputId": "59e0f5ff-52c7-48b0-9ba3-f8e0e9b4a41f"
      },
      "source": [
        "import numpy as np\n",
        "\n",
        "x_train = dataset.iloc[:, :-1].values  \n",
        "y_train = dataset.iloc[:,1].values \n",
        "\n",
        "print(x_train)\n",
        "\n",
        "print(y_train)\n",
        "\n",
        "x_train = InCreaseDimensions(x_train)\n",
        "print(x_train)"
      ],
      "execution_count": 151,
      "outputs": [
        {
          "output_type": "stream",
          "text": [
            "[[6083695]\n",
            " [1954367]\n",
            " [3734185]\n",
            " ...\n",
            " [9837364]\n",
            " [9466593]\n",
            " [4080801]]\n",
            "[0.521842 0.152648 0.298548 ... 0.801394 0.776407 0.314468]\n",
            "[[6.08369500e+06 2.25365164e+01 1.37105292e+08 3.70113449e+13]\n",
            " [1.95436700e+06 2.08982700e+01 4.08428892e+07 3.81955037e+12]\n",
            " [3.73418500e+06 2.18323620e+01 8.15260786e+07 1.39441376e+13]\n",
            " ...\n",
            " [9.83736400e+06 2.32298404e+01 2.28520395e+08 9.67737305e+13]\n",
            " [9.46659300e+06 2.31744139e+01 2.19382744e+08 8.96163830e+13]\n",
            " [4.08080100e+06 2.19604209e+01 8.96161077e+07 1.66529368e+13]]\n"
          ],
          "name": "stdout"
        }
      ]
    },
    {
      "cell_type": "markdown",
      "metadata": {
        "id": "8AOESE6piiLx"
      },
      "source": [
        "Xử lý testing dataset"
      ]
    },
    {
      "cell_type": "code",
      "metadata": {
        "id": "YnVWxg1JeDJy"
      },
      "source": [
        "test = pd.read_csv(\"https://cs.uit.edu.vn/data3.txt\", names = ['test', 'time'])\n",
        "\n",
        "x_test = test.iloc[:, :-1].values\n",
        "y_test = test.iloc[:, 1].values\n",
        "\n",
        "x_test = InCreaseDimensions(x_test)\n"
      ],
      "execution_count": 153,
      "outputs": []
    },
    {
      "cell_type": "markdown",
      "metadata": {
        "id": "TfuVCdTaiXog"
      },
      "source": [
        "Tạo Model"
      ]
    },
    {
      "cell_type": "code",
      "metadata": {
        "colab": {
          "base_uri": "https://localhost:8080/"
        },
        "id": "--43AHLEdwMh",
        "outputId": "e2c2af09-ecf9-4721-cd2e-20e9e9f0a688"
      },
      "source": [
        "from sklearn.linear_model import LinearRegression\n",
        "model = LinearRegression()\n",
        "model.fit(x_train,y_train)"
      ],
      "execution_count": 154,
      "outputs": [
        {
          "output_type": "execute_result",
          "data": {
            "text/plain": [
              "LinearRegression(copy_X=True, fit_intercept=True, n_jobs=None, normalize=False)"
            ]
          },
          "metadata": {
            "tags": []
          },
          "execution_count": 154
        }
      ]
    },
    {
      "cell_type": "markdown",
      "metadata": {
        "id": "HANAzvUSi4Di"
      },
      "source": [
        "Chạy model"
      ]
    },
    {
      "cell_type": "code",
      "metadata": {
        "colab": {
          "base_uri": "https://localhost:8080/"
        },
        "id": "4g0ZZntsezca",
        "outputId": "6049e62f-6fe0-4474-e56b-bcac5d4991fd"
      },
      "source": [
        "#Bộ dữ liệu data2.txt\n",
        "y_pred_train = model.predict(x_train)\n",
        "y_pred_train"
      ],
      "execution_count": 155,
      "outputs": [
        {
          "output_type": "execute_result",
          "data": {
            "text/plain": [
              "array([0.49516289, 0.14845277, 0.29519357, ..., 0.8233154 , 0.79054668,\n",
              "       0.32433003])"
            ]
          },
          "metadata": {
            "tags": []
          },
          "execution_count": 155
        }
      ]
    },
    {
      "cell_type": "code",
      "metadata": {
        "colab": {
          "base_uri": "https://localhost:8080/"
        },
        "id": "-54npT5fi1Xh",
        "outputId": "5dc7a396-cb6b-43ee-b3c3-cf7ffc9fd762"
      },
      "source": [
        "#Bộ dữ liệu data3.txt\n",
        "y_pred = model.predict(x_test) \n",
        "y_pred"
      ],
      "execution_count": 156,
      "outputs": [
        {
          "output_type": "execute_result",
          "data": {
            "text/plain": [
              "array([3.40605746, 3.36423167, 3.29011957, ..., 2.99884273, 1.85546386,\n",
              "       1.8680952 ])"
            ]
          },
          "metadata": {
            "tags": []
          },
          "execution_count": 156
        }
      ]
    },
    {
      "cell_type": "markdown",
      "metadata": {
        "id": "GnV0E-g0i7Gg"
      },
      "source": [
        "Tạo bảng so sánh giữa giá trị thực tế và giá trị dự đoán với bộ test"
      ]
    },
    {
      "cell_type": "code",
      "metadata": {
        "colab": {
          "base_uri": "https://localhost:8080/"
        },
        "id": "hh_FAR23fHgR",
        "outputId": "f546132c-48fc-4c01-c5eb-33ac5e9e8ef9"
      },
      "source": [
        "#Bộ dữ liệu data3.txt\n",
        "result_table = {'Predict': y_pred,\n",
        "                'Real Time': y_test}\n",
        "result = pd.DataFrame(result_table, columns=['Predict', 'Real Time'])\n",
        "\n",
        "print(result)\n"
      ],
      "execution_count": 157,
      "outputs": [
        {
          "output_type": "stream",
          "text": [
            "        Predict  Real Time\n",
            "0      3.406057    4.12166\n",
            "1      3.364232    3.92089\n",
            "2      3.290120    3.21540\n",
            "3      2.626999    2.54506\n",
            "4      2.288823    2.21831\n",
            "...         ...        ...\n",
            "10585  2.376652    2.35117\n",
            "10586  1.810442    1.79155\n",
            "10587  2.998843    2.90918\n",
            "10588  1.855464    1.80292\n",
            "10589  1.868095    1.82795\n",
            "\n",
            "[10590 rows x 2 columns]\n"
          ],
          "name": "stdout"
        }
      ]
    },
    {
      "cell_type": "code",
      "metadata": {
        "colab": {
          "base_uri": "https://localhost:8080/",
          "height": 295
        },
        "id": "zK-ISmUQs1cY",
        "outputId": "f9306e61-4ee3-4e56-9d35-aefee3b67bcd"
      },
      "source": [
        "import matplotlib.pyplot as plt\n",
        "\n",
        "plt.scatter(test['test'], test['time'], color = 'red')\n",
        "#plt.plot(x_train, model.predict(x_train), color = 'blue')\n",
        "plt.title(\"Tranining Set data3.txt after training by data2.txt\")\n",
        "plt.xlabel(\"Size\")\n",
        "plt.ylabel(\"Time\")\n",
        "plt.show()"
      ],
      "execution_count": 158,
      "outputs": [
        {
          "output_type": "display_data",
          "data": {
            "image/png": "[encoded data removed]",
            "text/plain": [
              "<Figure size 432x288 with 1 Axes>"
            ]
          },
          "metadata": {
            "tags": [],
            "needs_background": "light"
          }
        }
      ]
    },
    {
      "cell_type": "code",
      "metadata": {
        "colab": {
          "base_uri": "https://localhost:8080/"
        },
        "id": "EKvQvmpao1LZ",
        "outputId": "ed7ab61a-7798-4875-9a27-38b36130179e"
      },
      "source": [
        "#MSE\n",
        "import sklearn\n",
        "\n",
        "print(\"MSE cua bo test data2.txt sau khi increase dimension\")\n",
        "sklearn.metrics.mean_squared_error(y_train, y_pred_train)"
      ],
      "execution_count": 160,
      "outputs": [
        {
          "output_type": "stream",
          "text": [
            "MSE cua bo test data2.txt sau khi increase dimension\n"
          ],
          "name": "stdout"
        },
        {
          "output_type": "execute_result",
          "data": {
            "text/plain": [
              "0.00012190225045388428"
            ]
          },
          "metadata": {
            "tags": []
          },
          "execution_count": 160
        }
      ]
    },
    {
      "cell_type": "code",
      "metadata": {
        "colab": {
          "base_uri": "https://localhost:8080/"
        },
        "id": "-lDTDq8chVdh",
        "outputId": "dc00c269-9c56-4660-be77-9190f6ec642e"
      },
      "source": [
        "print(\"MSE cua bo test data3.txt sau khi increase dimension\")\n",
        "sklearn.metrics.mean_squared_error(y_test, y_pred)"
      ],
      "execution_count": 161,
      "outputs": [
        {
          "output_type": "stream",
          "text": [
            "MSE cua bo test data3.txt sau khi increase dimension\n"
          ],
          "name": "stdout"
        },
        {
          "output_type": "execute_result",
          "data": {
            "text/plain": [
              "0.004181175138868819"
            ]
          },
          "metadata": {
            "tags": []
          },
          "execution_count": 161
        }
      ]
    },
    {
      "cell_type": "markdown",
      "metadata": {
        "id": "_vwZtYRvjDzZ"
      },
      "source": [
        "Thảm khảo tại nguồn:\n",
        "\n",
        "https://www.askpython.com/python/examples/linear-regression-in-python\n",
        "\n",
        "https://datatofish.com/create-pandas-dataframe/"
      ]
    }
  ]
}