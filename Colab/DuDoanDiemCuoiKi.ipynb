{
  "nbformat": 4,
  "nbformat_minor": 0,
  "metadata": {
    "colab": {
      "name": "DuDoanDiemCuoiKi.ipynb",
      "provenance": [],
      "collapsed_sections": [],
      "include_colab_link": true
    },
    "kernelspec": {
      "name": "python3",
      "display_name": "Python 3"
    },
    "language_info": {
      "name": "python"
    }
  },
  "cells": [
    {
      "cell_type": "markdown",
      "metadata": {
        "id": "view-in-github",
        "colab_type": "text"
      },
      "source": [
        "<a href=\"https://colab.research.google.com/github/dxmai/CS114.L21.KHCL/blob/main/Colab/DuDoanDiemCuoiKi.ipynb\" target=\"_parent\"><img src=\"https://colab.research.google.com/assets/colab-badge.svg\" alt=\"Open In Colab\"/></a>"
      ]
    },
    {
      "cell_type": "markdown",
      "metadata": {
        "id": "gY7yvmpWKNt4"
      },
      "source": [
        "# **BÀI TẬP COLAB SỐ 3 : DỰ DOÁN ĐIỂM CUỐI KÌ**"
      ]
    },
    {
      "cell_type": "markdown",
      "metadata": {
        "id": "llMCjEx_jHQk"
      },
      "source": [
        "## **VẼ SCATTER PLOT** "
      ]
    },
    {
      "cell_type": "markdown",
      "metadata": {
        "id": "fO826DdlQaYY"
      },
      "source": [
        "Import libraries"
      ]
    },
    {
      "cell_type": "markdown",
      "metadata": {
        "id": "8MVfK63QdRKL"
      },
      "source": [
        "Nguồn tham khảo: https://pandas.pydata.org/pandas-docs/stable/reference/api/pandas.DataFrame.groupby.html"
      ]
    },
    {
      "cell_type": "code",
      "metadata": {
        "id": "_g7dU5UYQZYP"
      },
      "source": [
        "import pandas as pd\n",
        "import matplotlib.pyplot as plt\n",
        "%matplotlib inline \n",
        "import numpy as np"
      ],
      "execution_count": 410,
      "outputs": []
    },
    {
      "cell_type": "code",
      "metadata": {
        "id": "Ox2DFH4kKCVa",
        "colab": {
          "base_uri": "https://localhost:8080/",
          "height": 289
        },
        "outputId": "5676d683-d1f8-4860-c4bc-603789ccf369"
      },
      "source": [
        "url= 'https://raw.githubusercontent.com/nguyenhuong2001/DuDoanDiemThiCuoiKi/main/wecode.zip'\n",
        "wecode=pd.read_csv(url)\n",
        "wecode.head()"
      ],
      "execution_count": 411,
      "outputs": [
        {
          "output_type": "execute_result",
          "data": {
            "text/html": [
              "<div>\n",
              "<style scoped>\n",
              "    .dataframe tbody tr th:only-of-type {\n",
              "        vertical-align: middle;\n",
              "    }\n",
              "\n",
              "    .dataframe tbody tr th {\n",
              "        vertical-align: top;\n",
              "    }\n",
              "\n",
              "    .dataframe thead th {\n",
              "        text-align: right;\n",
              "    }\n",
              "</style>\n",
              "<table border=\"1\" class=\"dataframe\">\n",
              "  <thead>\n",
              "    <tr style=\"text-align: right;\">\n",
              "      <th></th>\n",
              "      <th>id</th>\n",
              "      <th>assignment_id</th>\n",
              "      <th>problem_id</th>\n",
              "      <th>user_id</th>\n",
              "      <th>is_final</th>\n",
              "      <th>status</th>\n",
              "      <th>pre_score</th>\n",
              "      <th>coefficient</th>\n",
              "      <th>file_name</th>\n",
              "      <th>language_id</th>\n",
              "      <th>created_at</th>\n",
              "      <th>updated_at</th>\n",
              "    </tr>\n",
              "  </thead>\n",
              "  <tbody>\n",
              "    <tr>\n",
              "      <th>0</th>\n",
              "      <td>4</td>\n",
              "      <td>0</td>\n",
              "      <td>3</td>\n",
              "      <td>4</td>\n",
              "      <td>1</td>\n",
              "      <td>SCORE</td>\n",
              "      <td>10000</td>\n",
              "      <td>100</td>\n",
              "      <td>solution-0</td>\n",
              "      <td>2</td>\n",
              "      <td>2020-10-30 10:58:11</td>\n",
              "      <td>2020-10-30 10:58:19</td>\n",
              "    </tr>\n",
              "    <tr>\n",
              "      <th>1</th>\n",
              "      <td>5</td>\n",
              "      <td>0</td>\n",
              "      <td>4</td>\n",
              "      <td>4</td>\n",
              "      <td>1</td>\n",
              "      <td>SCORE</td>\n",
              "      <td>10000</td>\n",
              "      <td>100</td>\n",
              "      <td>solution-1</td>\n",
              "      <td>2</td>\n",
              "      <td>2020-10-30 11:07:09</td>\n",
              "      <td>2020-10-30 11:07:17</td>\n",
              "    </tr>\n",
              "    <tr>\n",
              "      <th>2</th>\n",
              "      <td>6</td>\n",
              "      <td>0</td>\n",
              "      <td>5</td>\n",
              "      <td>4</td>\n",
              "      <td>0</td>\n",
              "      <td>Compilation Error</td>\n",
              "      <td>0</td>\n",
              "      <td>100</td>\n",
              "      <td>solution-2</td>\n",
              "      <td>2</td>\n",
              "      <td>2020-10-30 11:08:01</td>\n",
              "      <td>2020-10-30 11:23:36</td>\n",
              "    </tr>\n",
              "    <tr>\n",
              "      <th>3</th>\n",
              "      <td>7</td>\n",
              "      <td>0</td>\n",
              "      <td>5</td>\n",
              "      <td>4</td>\n",
              "      <td>0</td>\n",
              "      <td>Compilation Error</td>\n",
              "      <td>0</td>\n",
              "      <td>100</td>\n",
              "      <td>solution-3</td>\n",
              "      <td>2</td>\n",
              "      <td>2020-10-30 11:11:41</td>\n",
              "      <td>2020-10-30 11:11:42</td>\n",
              "    </tr>\n",
              "    <tr>\n",
              "      <th>4</th>\n",
              "      <td>8</td>\n",
              "      <td>0</td>\n",
              "      <td>5</td>\n",
              "      <td>4</td>\n",
              "      <td>0</td>\n",
              "      <td>Compilation Error</td>\n",
              "      <td>0</td>\n",
              "      <td>100</td>\n",
              "      <td>solution-4</td>\n",
              "      <td>2</td>\n",
              "      <td>2020-10-30 11:15:06</td>\n",
              "      <td>2020-10-30 11:15:07</td>\n",
              "    </tr>\n",
              "  </tbody>\n",
              "</table>\n",
              "</div>"
            ],
            "text/plain": [
              "   id  assignment_id  ...           created_at           updated_at\n",
              "0   4              0  ...  2020-10-30 10:58:11  2020-10-30 10:58:19\n",
              "1   5              0  ...  2020-10-30 11:07:09  2020-10-30 11:07:17\n",
              "2   6              0  ...  2020-10-30 11:08:01  2020-10-30 11:23:36\n",
              "3   7              0  ...  2020-10-30 11:11:41  2020-10-30 11:11:42\n",
              "4   8              0  ...  2020-10-30 11:15:06  2020-10-30 11:15:07\n",
              "\n",
              "[5 rows x 12 columns]"
            ]
          },
          "metadata": {
            "tags": []
          },
          "execution_count": 411
        }
      ]
    },
    {
      "cell_type": "code",
      "metadata": {
        "colab": {
          "base_uri": "https://localhost:8080/",
          "height": 203
        },
        "id": "AufG4CQo17xK",
        "outputId": "019696b5-0fe1-4cd0-f6dd-19c15c3e4bd9"
      },
      "source": [
        "url2='https://raw.githubusercontent.com/nguyenhuong2001/DuDoanDiemThiCuoiKi/main/score_training.csv'\n",
        "score=pd.read_csv(url2)\n",
        "score.head()"
      ],
      "execution_count": 412,
      "outputs": [
        {
          "output_type": "execute_result",
          "data": {
            "text/html": [
              "<div>\n",
              "<style scoped>\n",
              "    .dataframe tbody tr th:only-of-type {\n",
              "        vertical-align: middle;\n",
              "    }\n",
              "\n",
              "    .dataframe tbody tr th {\n",
              "        vertical-align: top;\n",
              "    }\n",
              "\n",
              "    .dataframe thead th {\n",
              "        text-align: right;\n",
              "    }\n",
              "</style>\n",
              "<table border=\"1\" class=\"dataframe\">\n",
              "  <thead>\n",
              "    <tr style=\"text-align: right;\">\n",
              "      <th></th>\n",
              "      <th>id</th>\n",
              "      <th>QT</th>\n",
              "      <th>GK</th>\n",
              "      <th>TH</th>\n",
              "      <th>CK</th>\n",
              "      <th>TBM</th>\n",
              "      <th>TBTL</th>\n",
              "    </tr>\n",
              "  </thead>\n",
              "  <tbody>\n",
              "    <tr>\n",
              "      <th>0</th>\n",
              "      <td>22</td>\n",
              "      <td>10</td>\n",
              "      <td>9</td>\n",
              "      <td>8.5</td>\n",
              "      <td>8.5</td>\n",
              "      <td>8.8</td>\n",
              "      <td>8.52</td>\n",
              "    </tr>\n",
              "    <tr>\n",
              "      <th>1</th>\n",
              "      <td>24</td>\n",
              "      <td>10</td>\n",
              "      <td>8</td>\n",
              "      <td>10</td>\n",
              "      <td>9.5</td>\n",
              "      <td>9.4</td>\n",
              "      <td>8.41</td>\n",
              "    </tr>\n",
              "    <tr>\n",
              "      <th>2</th>\n",
              "      <td>27</td>\n",
              "      <td>10</td>\n",
              "      <td>10</td>\n",
              "      <td>10</td>\n",
              "      <td>10</td>\n",
              "      <td>10</td>\n",
              "      <td>8.67</td>\n",
              "    </tr>\n",
              "    <tr>\n",
              "      <th>3</th>\n",
              "      <td>28</td>\n",
              "      <td>10</td>\n",
              "      <td>9.5</td>\n",
              "      <td>7.5</td>\n",
              "      <td>9.5</td>\n",
              "      <td>9.2</td>\n",
              "      <td>7.39</td>\n",
              "    </tr>\n",
              "    <tr>\n",
              "      <th>4</th>\n",
              "      <td>29</td>\n",
              "      <td>10</td>\n",
              "      <td>9.5</td>\n",
              "      <td>5</td>\n",
              "      <td>8.5</td>\n",
              "      <td>8.2</td>\n",
              "      <td>8.05</td>\n",
              "    </tr>\n",
              "  </tbody>\n",
              "</table>\n",
              "</div>"
            ],
            "text/plain": [
              "   id  QT   GK   TH   CK  TBM  TBTL\n",
              "0  22  10    9  8.5  8.5  8.8  8.52\n",
              "1  24  10    8   10  9.5  9.4  8.41\n",
              "2  27  10   10   10   10   10  8.67\n",
              "3  28  10  9.5  7.5  9.5  9.2  7.39\n",
              "4  29  10  9.5    5  8.5  8.2  8.05"
            ]
          },
          "metadata": {
            "tags": []
          },
          "execution_count": 412
        }
      ]
    },
    {
      "cell_type": "markdown",
      "metadata": {
        "id": "x5kNfHl628L1"
      },
      "source": [
        "### **Bỏ một số cột không cần thiết**"
      ]
    },
    {
      "cell_type": "code",
      "metadata": {
        "colab": {
          "base_uri": "https://localhost:8080/",
          "height": 203
        },
        "id": "N7MLLyFu2jCL",
        "outputId": "d645abf0-c903-496c-881c-a3a4e0751699"
      },
      "source": [
        "wecode_new=wecode[['id','user_id','assignment_id','problem_id','is_final','status','pre_score','coefficient']]\n",
        "wecode_new.head()"
      ],
      "execution_count": 413,
      "outputs": [
        {
          "output_type": "execute_result",
          "data": {
            "text/html": [
              "<div>\n",
              "<style scoped>\n",
              "    .dataframe tbody tr th:only-of-type {\n",
              "        vertical-align: middle;\n",
              "    }\n",
              "\n",
              "    .dataframe tbody tr th {\n",
              "        vertical-align: top;\n",
              "    }\n",
              "\n",
              "    .dataframe thead th {\n",
              "        text-align: right;\n",
              "    }\n",
              "</style>\n",
              "<table border=\"1\" class=\"dataframe\">\n",
              "  <thead>\n",
              "    <tr style=\"text-align: right;\">\n",
              "      <th></th>\n",
              "      <th>id</th>\n",
              "      <th>user_id</th>\n",
              "      <th>assignment_id</th>\n",
              "      <th>problem_id</th>\n",
              "      <th>is_final</th>\n",
              "      <th>status</th>\n",
              "      <th>pre_score</th>\n",
              "      <th>coefficient</th>\n",
              "    </tr>\n",
              "  </thead>\n",
              "  <tbody>\n",
              "    <tr>\n",
              "      <th>0</th>\n",
              "      <td>4</td>\n",
              "      <td>4</td>\n",
              "      <td>0</td>\n",
              "      <td>3</td>\n",
              "      <td>1</td>\n",
              "      <td>SCORE</td>\n",
              "      <td>10000</td>\n",
              "      <td>100</td>\n",
              "    </tr>\n",
              "    <tr>\n",
              "      <th>1</th>\n",
              "      <td>5</td>\n",
              "      <td>4</td>\n",
              "      <td>0</td>\n",
              "      <td>4</td>\n",
              "      <td>1</td>\n",
              "      <td>SCORE</td>\n",
              "      <td>10000</td>\n",
              "      <td>100</td>\n",
              "    </tr>\n",
              "    <tr>\n",
              "      <th>2</th>\n",
              "      <td>6</td>\n",
              "      <td>4</td>\n",
              "      <td>0</td>\n",
              "      <td>5</td>\n",
              "      <td>0</td>\n",
              "      <td>Compilation Error</td>\n",
              "      <td>0</td>\n",
              "      <td>100</td>\n",
              "    </tr>\n",
              "    <tr>\n",
              "      <th>3</th>\n",
              "      <td>7</td>\n",
              "      <td>4</td>\n",
              "      <td>0</td>\n",
              "      <td>5</td>\n",
              "      <td>0</td>\n",
              "      <td>Compilation Error</td>\n",
              "      <td>0</td>\n",
              "      <td>100</td>\n",
              "    </tr>\n",
              "    <tr>\n",
              "      <th>4</th>\n",
              "      <td>8</td>\n",
              "      <td>4</td>\n",
              "      <td>0</td>\n",
              "      <td>5</td>\n",
              "      <td>0</td>\n",
              "      <td>Compilation Error</td>\n",
              "      <td>0</td>\n",
              "      <td>100</td>\n",
              "    </tr>\n",
              "  </tbody>\n",
              "</table>\n",
              "</div>"
            ],
            "text/plain": [
              "   id  user_id  assignment_id  ...             status  pre_score coefficient\n",
              "0   4        4              0  ...              SCORE      10000         100\n",
              "1   5        4              0  ...              SCORE      10000         100\n",
              "2   6        4              0  ...  Compilation Error          0         100\n",
              "3   7        4              0  ...  Compilation Error          0         100\n",
              "4   8        4              0  ...  Compilation Error          0         100\n",
              "\n",
              "[5 rows x 8 columns]"
            ]
          },
          "metadata": {
            "tags": []
          },
          "execution_count": 413
        }
      ]
    },
    {
      "cell_type": "code",
      "metadata": {
        "colab": {
          "base_uri": "https://localhost:8080/",
          "height": 203
        },
        "id": "iPQeqVXV5D6F",
        "outputId": "d4fe7046-3a77-4f5d-a01a-7b06c6806325"
      },
      "source": [
        "score_new= score[['id','CK']]\n",
        "score_new=score_new.rename (columns={'id':'user_id'}) \n",
        "score_new.head()"
      ],
      "execution_count": 414,
      "outputs": [
        {
          "output_type": "execute_result",
          "data": {
            "text/html": [
              "<div>\n",
              "<style scoped>\n",
              "    .dataframe tbody tr th:only-of-type {\n",
              "        vertical-align: middle;\n",
              "    }\n",
              "\n",
              "    .dataframe tbody tr th {\n",
              "        vertical-align: top;\n",
              "    }\n",
              "\n",
              "    .dataframe thead th {\n",
              "        text-align: right;\n",
              "    }\n",
              "</style>\n",
              "<table border=\"1\" class=\"dataframe\">\n",
              "  <thead>\n",
              "    <tr style=\"text-align: right;\">\n",
              "      <th></th>\n",
              "      <th>user_id</th>\n",
              "      <th>CK</th>\n",
              "    </tr>\n",
              "  </thead>\n",
              "  <tbody>\n",
              "    <tr>\n",
              "      <th>0</th>\n",
              "      <td>22</td>\n",
              "      <td>8.5</td>\n",
              "    </tr>\n",
              "    <tr>\n",
              "      <th>1</th>\n",
              "      <td>24</td>\n",
              "      <td>9.5</td>\n",
              "    </tr>\n",
              "    <tr>\n",
              "      <th>2</th>\n",
              "      <td>27</td>\n",
              "      <td>10</td>\n",
              "    </tr>\n",
              "    <tr>\n",
              "      <th>3</th>\n",
              "      <td>28</td>\n",
              "      <td>9.5</td>\n",
              "    </tr>\n",
              "    <tr>\n",
              "      <th>4</th>\n",
              "      <td>29</td>\n",
              "      <td>8.5</td>\n",
              "    </tr>\n",
              "  </tbody>\n",
              "</table>\n",
              "</div>"
            ],
            "text/plain": [
              "   user_id   CK\n",
              "0       22  8.5\n",
              "1       24  9.5\n",
              "2       27   10\n",
              "3       28  9.5\n",
              "4       29  8.5"
            ]
          },
          "metadata": {
            "tags": []
          },
          "execution_count": 414
        }
      ]
    },
    {
      "cell_type": "markdown",
      "metadata": {
        "id": "QZ9Uf1UrCoWy"
      },
      "source": [
        "### **Gom nhóm dữ liệu**"
      ]
    },
    {
      "cell_type": "code",
      "metadata": {
        "id": "og4J6GAACnO8",
        "colab": {
          "base_uri": "https://localhost:8080/",
          "height": 417
        },
        "outputId": "57bb674c-33c2-471d-b456-4fa678a17a3b"
      },
      "source": [
        "#Tổng các problem có submit\n",
        "wecode1= wecode_new.groupby ('user_id',as_index=False).problem_id.nunique()\n",
        "wecode1=wecode1.rename(columns={'problem_id':'sum_problem'})\n",
        "wecode1"
      ],
      "execution_count": 415,
      "outputs": [
        {
          "output_type": "execute_result",
          "data": {
            "text/html": [
              "<div>\n",
              "<style scoped>\n",
              "    .dataframe tbody tr th:only-of-type {\n",
              "        vertical-align: middle;\n",
              "    }\n",
              "\n",
              "    .dataframe tbody tr th {\n",
              "        vertical-align: top;\n",
              "    }\n",
              "\n",
              "    .dataframe thead th {\n",
              "        text-align: right;\n",
              "    }\n",
              "</style>\n",
              "<table border=\"1\" class=\"dataframe\">\n",
              "  <thead>\n",
              "    <tr style=\"text-align: right;\">\n",
              "      <th></th>\n",
              "      <th>user_id</th>\n",
              "      <th>sum_problem</th>\n",
              "    </tr>\n",
              "  </thead>\n",
              "  <tbody>\n",
              "    <tr>\n",
              "      <th>0</th>\n",
              "      <td>1</td>\n",
              "      <td>2</td>\n",
              "    </tr>\n",
              "    <tr>\n",
              "      <th>1</th>\n",
              "      <td>4</td>\n",
              "      <td>41</td>\n",
              "    </tr>\n",
              "    <tr>\n",
              "      <th>2</th>\n",
              "      <td>5</td>\n",
              "      <td>5</td>\n",
              "    </tr>\n",
              "    <tr>\n",
              "      <th>3</th>\n",
              "      <td>6</td>\n",
              "      <td>88</td>\n",
              "    </tr>\n",
              "    <tr>\n",
              "      <th>4</th>\n",
              "      <td>7</td>\n",
              "      <td>2</td>\n",
              "    </tr>\n",
              "    <tr>\n",
              "      <th>...</th>\n",
              "      <td>...</td>\n",
              "      <td>...</td>\n",
              "    </tr>\n",
              "    <tr>\n",
              "      <th>1154</th>\n",
              "      <td>1860</td>\n",
              "      <td>43</td>\n",
              "    </tr>\n",
              "    <tr>\n",
              "      <th>1155</th>\n",
              "      <td>1862</td>\n",
              "      <td>6</td>\n",
              "    </tr>\n",
              "    <tr>\n",
              "      <th>1156</th>\n",
              "      <td>1864</td>\n",
              "      <td>63</td>\n",
              "    </tr>\n",
              "    <tr>\n",
              "      <th>1157</th>\n",
              "      <td>1865</td>\n",
              "      <td>17</td>\n",
              "    </tr>\n",
              "    <tr>\n",
              "      <th>1158</th>\n",
              "      <td>1868</td>\n",
              "      <td>20</td>\n",
              "    </tr>\n",
              "  </tbody>\n",
              "</table>\n",
              "<p>1159 rows × 2 columns</p>\n",
              "</div>"
            ],
            "text/plain": [
              "      user_id  sum_problem\n",
              "0           1            2\n",
              "1           4           41\n",
              "2           5            5\n",
              "3           6           88\n",
              "4           7            2\n",
              "...       ...          ...\n",
              "1154     1860           43\n",
              "1155     1862            6\n",
              "1156     1864           63\n",
              "1157     1865           17\n",
              "1158     1868           20\n",
              "\n",
              "[1159 rows x 2 columns]"
            ]
          },
          "metadata": {
            "tags": []
          },
          "execution_count": 415
        }
      ]
    },
    {
      "cell_type": "code",
      "metadata": {
        "id": "O4-yJhcgJH75",
        "colab": {
          "base_uri": "https://localhost:8080/",
          "height": 417
        },
        "outputId": "f0ed6317-4b5a-46a7-9856-69e18b0d1ff7"
      },
      "source": [
        "#Tổng số lần submit\n",
        "wecode2= wecode_new.groupby('user_id',as_index= False).id.count() \n",
        "wecode2=wecode2.rename (columns={'id':'count_submit'}) \n",
        "wecode2"
      ],
      "execution_count": 416,
      "outputs": [
        {
          "output_type": "execute_result",
          "data": {
            "text/html": [
              "<div>\n",
              "<style scoped>\n",
              "    .dataframe tbody tr th:only-of-type {\n",
              "        vertical-align: middle;\n",
              "    }\n",
              "\n",
              "    .dataframe tbody tr th {\n",
              "        vertical-align: top;\n",
              "    }\n",
              "\n",
              "    .dataframe thead th {\n",
              "        text-align: right;\n",
              "    }\n",
              "</style>\n",
              "<table border=\"1\" class=\"dataframe\">\n",
              "  <thead>\n",
              "    <tr style=\"text-align: right;\">\n",
              "      <th></th>\n",
              "      <th>user_id</th>\n",
              "      <th>count_submit</th>\n",
              "    </tr>\n",
              "  </thead>\n",
              "  <tbody>\n",
              "    <tr>\n",
              "      <th>0</th>\n",
              "      <td>1</td>\n",
              "      <td>2</td>\n",
              "    </tr>\n",
              "    <tr>\n",
              "      <th>1</th>\n",
              "      <td>4</td>\n",
              "      <td>54</td>\n",
              "    </tr>\n",
              "    <tr>\n",
              "      <th>2</th>\n",
              "      <td>5</td>\n",
              "      <td>6</td>\n",
              "    </tr>\n",
              "    <tr>\n",
              "      <th>3</th>\n",
              "      <td>6</td>\n",
              "      <td>130</td>\n",
              "    </tr>\n",
              "    <tr>\n",
              "      <th>4</th>\n",
              "      <td>7</td>\n",
              "      <td>5</td>\n",
              "    </tr>\n",
              "    <tr>\n",
              "      <th>...</th>\n",
              "      <td>...</td>\n",
              "      <td>...</td>\n",
              "    </tr>\n",
              "    <tr>\n",
              "      <th>1154</th>\n",
              "      <td>1860</td>\n",
              "      <td>76</td>\n",
              "    </tr>\n",
              "    <tr>\n",
              "      <th>1155</th>\n",
              "      <td>1862</td>\n",
              "      <td>12</td>\n",
              "    </tr>\n",
              "    <tr>\n",
              "      <th>1156</th>\n",
              "      <td>1864</td>\n",
              "      <td>187</td>\n",
              "    </tr>\n",
              "    <tr>\n",
              "      <th>1157</th>\n",
              "      <td>1865</td>\n",
              "      <td>99</td>\n",
              "    </tr>\n",
              "    <tr>\n",
              "      <th>1158</th>\n",
              "      <td>1868</td>\n",
              "      <td>47</td>\n",
              "    </tr>\n",
              "  </tbody>\n",
              "</table>\n",
              "<p>1159 rows × 2 columns</p>\n",
              "</div>"
            ],
            "text/plain": [
              "      user_id  count_submit\n",
              "0           1             2\n",
              "1           4            54\n",
              "2           5             6\n",
              "3           6           130\n",
              "4           7             5\n",
              "...       ...           ...\n",
              "1154     1860            76\n",
              "1155     1862            12\n",
              "1156     1864           187\n",
              "1157     1865            99\n",
              "1158     1868            47\n",
              "\n",
              "[1159 rows x 2 columns]"
            ]
          },
          "metadata": {
            "tags": []
          },
          "execution_count": 416
        }
      ]
    },
    {
      "cell_type": "markdown",
      "metadata": {
        "id": "DNQDd_uthz8Z"
      },
      "source": [
        "Đoạn groupby này có tham khảo nhóm của bạn Cao Hưng Phú\n",
        "\n",
        "Nguồn: https://github.com/caohungphu/CS114.L21/blob/main/Colab/Predict_final_exam_score.ipynb\n"
      ]
    },
    {
      "cell_type": "code",
      "metadata": {
        "id": "Tw_Mz2kXVkt6",
        "colab": {
          "base_uri": "https://localhost:8080/",
          "height": 233
        },
        "outputId": "b7961a55-c906-4a95-e4e4-7b2ede192c28"
      },
      "source": [
        "# Tổng số điểm của những bài có is_final=1\n",
        "df=wecode_new.groupby('user_id')\n",
        "wecode3=pd.DataFrame ({'sum_score':df.apply(lambda x:x[ x['is_final']==1]['pre_score'].sum())})# đoạn này tham khảo\n",
        "wecode3.head()"
      ],
      "execution_count": 418,
      "outputs": [
        {
          "output_type": "execute_result",
          "data": {
            "text/html": [
              "<div>\n",
              "<style scoped>\n",
              "    .dataframe tbody tr th:only-of-type {\n",
              "        vertical-align: middle;\n",
              "    }\n",
              "\n",
              "    .dataframe tbody tr th {\n",
              "        vertical-align: top;\n",
              "    }\n",
              "\n",
              "    .dataframe thead th {\n",
              "        text-align: right;\n",
              "    }\n",
              "</style>\n",
              "<table border=\"1\" class=\"dataframe\">\n",
              "  <thead>\n",
              "    <tr style=\"text-align: right;\">\n",
              "      <th></th>\n",
              "      <th>sum_score</th>\n",
              "    </tr>\n",
              "    <tr>\n",
              "      <th>user_id</th>\n",
              "      <th></th>\n",
              "    </tr>\n",
              "  </thead>\n",
              "  <tbody>\n",
              "    <tr>\n",
              "      <th>1</th>\n",
              "      <td>10000</td>\n",
              "    </tr>\n",
              "    <tr>\n",
              "      <th>4</th>\n",
              "      <td>370000</td>\n",
              "    </tr>\n",
              "    <tr>\n",
              "      <th>5</th>\n",
              "      <td>30000</td>\n",
              "    </tr>\n",
              "    <tr>\n",
              "      <th>6</th>\n",
              "      <td>850000</td>\n",
              "    </tr>\n",
              "    <tr>\n",
              "      <th>7</th>\n",
              "      <td>9209</td>\n",
              "    </tr>\n",
              "  </tbody>\n",
              "</table>\n",
              "</div>"
            ],
            "text/plain": [
              "         sum_score\n",
              "user_id           \n",
              "1            10000\n",
              "4           370000\n",
              "5            30000\n",
              "6           850000\n",
              "7             9209"
            ]
          },
          "metadata": {
            "tags": []
          },
          "execution_count": 418
        }
      ]
    },
    {
      "cell_type": "code",
      "metadata": {
        "id": "jx7M2n-TUTTU",
        "colab": {
          "base_uri": "https://localhost:8080/",
          "height": 233
        },
        "outputId": "5634a526-33ca-4cf9-f838-cb0699909512"
      },
      "source": [
        "#Tổng số lần submit đúng (pre_score=10000)\n",
        "wecode4 =pd.DataFrame({'pre_full':df['pre_score'].apply(lambda x:( x==10000).sum())})\n",
        "wecode4.head()"
      ],
      "execution_count": 419,
      "outputs": [
        {
          "output_type": "execute_result",
          "data": {
            "text/html": [
              "<div>\n",
              "<style scoped>\n",
              "    .dataframe tbody tr th:only-of-type {\n",
              "        vertical-align: middle;\n",
              "    }\n",
              "\n",
              "    .dataframe tbody tr th {\n",
              "        vertical-align: top;\n",
              "    }\n",
              "\n",
              "    .dataframe thead th {\n",
              "        text-align: right;\n",
              "    }\n",
              "</style>\n",
              "<table border=\"1\" class=\"dataframe\">\n",
              "  <thead>\n",
              "    <tr style=\"text-align: right;\">\n",
              "      <th></th>\n",
              "      <th>pre_full</th>\n",
              "    </tr>\n",
              "    <tr>\n",
              "      <th>user_id</th>\n",
              "      <th></th>\n",
              "    </tr>\n",
              "  </thead>\n",
              "  <tbody>\n",
              "    <tr>\n",
              "      <th>1</th>\n",
              "      <td>1</td>\n",
              "    </tr>\n",
              "    <tr>\n",
              "      <th>4</th>\n",
              "      <td>44</td>\n",
              "    </tr>\n",
              "    <tr>\n",
              "      <th>5</th>\n",
              "      <td>3</td>\n",
              "    </tr>\n",
              "    <tr>\n",
              "      <th>6</th>\n",
              "      <td>89</td>\n",
              "    </tr>\n",
              "    <tr>\n",
              "      <th>7</th>\n",
              "      <td>0</td>\n",
              "    </tr>\n",
              "  </tbody>\n",
              "</table>\n",
              "</div>"
            ],
            "text/plain": [
              "         pre_full\n",
              "user_id          \n",
              "1               1\n",
              "4              44\n",
              "5               3\n",
              "6              89\n",
              "7               0"
            ]
          },
          "metadata": {
            "tags": []
          },
          "execution_count": 419
        }
      ]
    },
    {
      "cell_type": "markdown",
      "metadata": {
        "id": "R05hWWjZsIPF"
      },
      "source": [
        "### **Gộp các bảng lại thành 1 bảng**"
      ]
    },
    {
      "cell_type": "code",
      "metadata": {
        "colab": {
          "base_uri": "https://localhost:8080/",
          "height": 203
        },
        "id": "zLXZuKJSsHi3",
        "outputId": "0a09f545-4d37-48b7-f7e5-4071de88f2b1"
      },
      "source": [
        "data_index1=pd.merge(wecode1,wecode2,how='left',on='user_id')\n",
        "data_index2=pd.merge(data_index1,wecode3,how='left',on='user_id')\n",
        "data_index3=pd.merge (data_index2,wecode4, how='left',on='user_id')\n",
        "data = pd.merge(data_index3,score_new,how='left',on='user_id')\n",
        "data.head()"
      ],
      "execution_count": 421,
      "outputs": [
        {
          "output_type": "execute_result",
          "data": {
            "text/html": [
              "<div>\n",
              "<style scoped>\n",
              "    .dataframe tbody tr th:only-of-type {\n",
              "        vertical-align: middle;\n",
              "    }\n",
              "\n",
              "    .dataframe tbody tr th {\n",
              "        vertical-align: top;\n",
              "    }\n",
              "\n",
              "    .dataframe thead th {\n",
              "        text-align: right;\n",
              "    }\n",
              "</style>\n",
              "<table border=\"1\" class=\"dataframe\">\n",
              "  <thead>\n",
              "    <tr style=\"text-align: right;\">\n",
              "      <th></th>\n",
              "      <th>user_id</th>\n",
              "      <th>sum_problem</th>\n",
              "      <th>count_submit</th>\n",
              "      <th>sum_score</th>\n",
              "      <th>pre_full</th>\n",
              "      <th>CK</th>\n",
              "    </tr>\n",
              "  </thead>\n",
              "  <tbody>\n",
              "    <tr>\n",
              "      <th>0</th>\n",
              "      <td>1</td>\n",
              "      <td>2</td>\n",
              "      <td>2</td>\n",
              "      <td>10000</td>\n",
              "      <td>1</td>\n",
              "      <td>NaN</td>\n",
              "    </tr>\n",
              "    <tr>\n",
              "      <th>1</th>\n",
              "      <td>4</td>\n",
              "      <td>41</td>\n",
              "      <td>54</td>\n",
              "      <td>370000</td>\n",
              "      <td>44</td>\n",
              "      <td>NaN</td>\n",
              "    </tr>\n",
              "    <tr>\n",
              "      <th>2</th>\n",
              "      <td>5</td>\n",
              "      <td>5</td>\n",
              "      <td>6</td>\n",
              "      <td>30000</td>\n",
              "      <td>3</td>\n",
              "      <td>NaN</td>\n",
              "    </tr>\n",
              "    <tr>\n",
              "      <th>3</th>\n",
              "      <td>6</td>\n",
              "      <td>88</td>\n",
              "      <td>130</td>\n",
              "      <td>850000</td>\n",
              "      <td>89</td>\n",
              "      <td>NaN</td>\n",
              "    </tr>\n",
              "    <tr>\n",
              "      <th>4</th>\n",
              "      <td>7</td>\n",
              "      <td>2</td>\n",
              "      <td>5</td>\n",
              "      <td>9209</td>\n",
              "      <td>0</td>\n",
              "      <td>NaN</td>\n",
              "    </tr>\n",
              "  </tbody>\n",
              "</table>\n",
              "</div>"
            ],
            "text/plain": [
              "   user_id  sum_problem  count_submit  sum_score  pre_full   CK\n",
              "0        1            2             2      10000         1  NaN\n",
              "1        4           41            54     370000        44  NaN\n",
              "2        5            5             6      30000         3  NaN\n",
              "3        6           88           130     850000        89  NaN\n",
              "4        7            2             5       9209         0  NaN"
            ]
          },
          "metadata": {
            "tags": []
          },
          "execution_count": 421
        }
      ]
    },
    {
      "cell_type": "markdown",
      "metadata": {
        "id": "V7F9ug-ewkoQ"
      },
      "source": [
        "### **Tách ra 2 bảng : bảng có điểm cuối kỳ và bảng chưa có điểm cuối kỳ**"
      ]
    },
    {
      "cell_type": "code",
      "metadata": {
        "colab": {
          "base_uri": "https://localhost:8080/",
          "height": 203
        },
        "id": "EwJHQFIDxkOb",
        "outputId": "63c56856-5559-4b4e-a2f1-8c346da6cbf1"
      },
      "source": [
        "data_predict=data[pd.isnull(data[\"CK\"])]\n",
        "data_predict.head()"
      ],
      "execution_count": 423,
      "outputs": [
        {
          "output_type": "execute_result",
          "data": {
            "text/html": [
              "<div>\n",
              "<style scoped>\n",
              "    .dataframe tbody tr th:only-of-type {\n",
              "        vertical-align: middle;\n",
              "    }\n",
              "\n",
              "    .dataframe tbody tr th {\n",
              "        vertical-align: top;\n",
              "    }\n",
              "\n",
              "    .dataframe thead th {\n",
              "        text-align: right;\n",
              "    }\n",
              "</style>\n",
              "<table border=\"1\" class=\"dataframe\">\n",
              "  <thead>\n",
              "    <tr style=\"text-align: right;\">\n",
              "      <th></th>\n",
              "      <th>user_id</th>\n",
              "      <th>sum_problem</th>\n",
              "      <th>count_submit</th>\n",
              "      <th>sum_score</th>\n",
              "      <th>pre_full</th>\n",
              "      <th>CK</th>\n",
              "    </tr>\n",
              "  </thead>\n",
              "  <tbody>\n",
              "    <tr>\n",
              "      <th>0</th>\n",
              "      <td>1</td>\n",
              "      <td>2</td>\n",
              "      <td>2</td>\n",
              "      <td>10000</td>\n",
              "      <td>1</td>\n",
              "      <td>NaN</td>\n",
              "    </tr>\n",
              "    <tr>\n",
              "      <th>1</th>\n",
              "      <td>4</td>\n",
              "      <td>41</td>\n",
              "      <td>54</td>\n",
              "      <td>370000</td>\n",
              "      <td>44</td>\n",
              "      <td>NaN</td>\n",
              "    </tr>\n",
              "    <tr>\n",
              "      <th>2</th>\n",
              "      <td>5</td>\n",
              "      <td>5</td>\n",
              "      <td>6</td>\n",
              "      <td>30000</td>\n",
              "      <td>3</td>\n",
              "      <td>NaN</td>\n",
              "    </tr>\n",
              "    <tr>\n",
              "      <th>3</th>\n",
              "      <td>6</td>\n",
              "      <td>88</td>\n",
              "      <td>130</td>\n",
              "      <td>850000</td>\n",
              "      <td>89</td>\n",
              "      <td>NaN</td>\n",
              "    </tr>\n",
              "    <tr>\n",
              "      <th>4</th>\n",
              "      <td>7</td>\n",
              "      <td>2</td>\n",
              "      <td>5</td>\n",
              "      <td>9209</td>\n",
              "      <td>0</td>\n",
              "      <td>NaN</td>\n",
              "    </tr>\n",
              "  </tbody>\n",
              "</table>\n",
              "</div>"
            ],
            "text/plain": [
              "   user_id  sum_problem  count_submit  sum_score  pre_full   CK\n",
              "0        1            2             2      10000         1  NaN\n",
              "1        4           41            54     370000        44  NaN\n",
              "2        5            5             6      30000         3  NaN\n",
              "3        6           88           130     850000        89  NaN\n",
              "4        7            2             5       9209         0  NaN"
            ]
          },
          "metadata": {
            "tags": []
          },
          "execution_count": 423
        }
      ]
    },
    {
      "cell_type": "code",
      "metadata": {
        "colab": {
          "base_uri": "https://localhost:8080/",
          "height": 203
        },
        "id": "HlTmSOHOwcW-",
        "outputId": "4597cc14-3f36-46f0-ab19-abd62f2133b9"
      },
      "source": [
        "data_training= data[pd.notnull(data[\"CK\"])]\n",
        "data_training.head()"
      ],
      "execution_count": 424,
      "outputs": [
        {
          "output_type": "execute_result",
          "data": {
            "text/html": [
              "<div>\n",
              "<style scoped>\n",
              "    .dataframe tbody tr th:only-of-type {\n",
              "        vertical-align: middle;\n",
              "    }\n",
              "\n",
              "    .dataframe tbody tr th {\n",
              "        vertical-align: top;\n",
              "    }\n",
              "\n",
              "    .dataframe thead th {\n",
              "        text-align: right;\n",
              "    }\n",
              "</style>\n",
              "<table border=\"1\" class=\"dataframe\">\n",
              "  <thead>\n",
              "    <tr style=\"text-align: right;\">\n",
              "      <th></th>\n",
              "      <th>user_id</th>\n",
              "      <th>sum_problem</th>\n",
              "      <th>count_submit</th>\n",
              "      <th>sum_score</th>\n",
              "      <th>pre_full</th>\n",
              "      <th>CK</th>\n",
              "    </tr>\n",
              "  </thead>\n",
              "  <tbody>\n",
              "    <tr>\n",
              "      <th>9</th>\n",
              "      <td>24</td>\n",
              "      <td>78</td>\n",
              "      <td>164</td>\n",
              "      <td>750299</td>\n",
              "      <td>80</td>\n",
              "      <td>9.5</td>\n",
              "    </tr>\n",
              "    <tr>\n",
              "      <th>10</th>\n",
              "      <td>27</td>\n",
              "      <td>5</td>\n",
              "      <td>13</td>\n",
              "      <td>39000</td>\n",
              "      <td>4</td>\n",
              "      <td>10</td>\n",
              "    </tr>\n",
              "    <tr>\n",
              "      <th>11</th>\n",
              "      <td>29</td>\n",
              "      <td>80</td>\n",
              "      <td>199</td>\n",
              "      <td>762760</td>\n",
              "      <td>75</td>\n",
              "      <td>8.5</td>\n",
              "    </tr>\n",
              "    <tr>\n",
              "      <th>13</th>\n",
              "      <td>34</td>\n",
              "      <td>84</td>\n",
              "      <td>218</td>\n",
              "      <td>822888</td>\n",
              "      <td>81</td>\n",
              "      <td>6.5</td>\n",
              "    </tr>\n",
              "    <tr>\n",
              "      <th>14</th>\n",
              "      <td>35</td>\n",
              "      <td>147</td>\n",
              "      <td>297</td>\n",
              "      <td>1477000</td>\n",
              "      <td>152</td>\n",
              "      <td>4.5</td>\n",
              "    </tr>\n",
              "  </tbody>\n",
              "</table>\n",
              "</div>"
            ],
            "text/plain": [
              "    user_id  sum_problem  count_submit  sum_score  pre_full   CK\n",
              "9        24           78           164     750299        80  9.5\n",
              "10       27            5            13      39000         4   10\n",
              "11       29           80           199     762760        75  8.5\n",
              "13       34           84           218     822888        81  6.5\n",
              "14       35          147           297    1477000       152  4.5"
            ]
          },
          "metadata": {
            "tags": []
          },
          "execution_count": 424
        }
      ]
    },
    {
      "cell_type": "markdown",
      "metadata": {
        "id": "b0iBYILcxvn1"
      },
      "source": [
        "Tham khảo tại: https://stackoverflow.com/questions/18172851/deleting-dataframe-row-in-pandas-based-on-column-value"
      ]
    },
    {
      "cell_type": "code",
      "metadata": {
        "id": "w2osL-5yxyXj"
      },
      "source": [
        "#Cột điểm cuối kỳ có những giá trị không phải số nên em phải loại bỏ những giá trị đó\n",
        "data_training = data_training[data_training.CK != '\\xa0']"
      ],
      "execution_count": 425,
      "outputs": []
    },
    {
      "cell_type": "markdown",
      "metadata": {
        "id": "LJTR0D2jtQ9n"
      },
      "source": [
        "Tham khảo tại:\n",
        "https://www.kite.com/python/answers/how-to-change-the-data-type-of-columns-in-a-pandas-dataframe-in-python#:~:text=Call%20pandas.,of%20each%20column%20in%20pandas.\n",
        "\n",
        "https://pandas.pydata.org/pandas-docs/stable/reference/api/pandas.to_numeric.html"
      ]
    },
    {
      "cell_type": "code",
      "metadata": {
        "id": "HDecvW-_sObw"
      },
      "source": [
        "#Chuyển dữ liệu về dạng số\n",
        "data_training = data_training.astype({'user_id': int, 'sum_problem': int, 'count_submit': int, 'sum_score': int, 'pre_full': int, 'CK': float})\n",
        "\n",
        "data_predict = data_predict.astype({'user_id': int, 'sum_problem': int, 'count_submit': int, 'sum_score': int, 'pre_full': int, 'CK': float})\n"
      ],
      "execution_count": 426,
      "outputs": []
    },
    {
      "cell_type": "markdown",
      "metadata": {
        "id": "AzDm9aXqn3Ni"
      },
      "source": [
        "### **Vẽ biểu đồ**"
      ]
    },
    {
      "cell_type": "markdown",
      "metadata": {
        "id": "r4aWt4QCyt9D"
      },
      "source": [
        "Biểu diễn dưới dạng biểu đồ"
      ]
    },
    {
      "cell_type": "markdown",
      "metadata": {
        "id": "vwembSH7bL_N"
      },
      "source": [
        "- sum_problem : tổng số problem đã submit\n",
        "- count_submit : tổng số lần submit\n",
        "- sum_score : Tổng số điểm của những bài có (is_final=1)\n",
        "- pre_full : số lần submit đúng (pre_score=10000)\n",
        "**************************************\n",
        "CÁC CÔNG THỨC CÓ THỂ TÍNH : \n",
        "1. Tổng số điểm của những bài có (is_final=1)\n",
        "2. Số lần submit đúng\n",
        "3. Tổng số lần submit\n",
        "4. Tổng số problem đã submit  \n",
        "5. Số lần submit đúng /  Tổng số problem đã submit (Heso_submit1)\n",
        "6. Số lần submit đúng /  Tổng số lần submit(Heso_submit2)\n",
        "7. Tổng số prolem đã submit / Tổng số lần submit  (Heso_submit3)\n"
      ]
    },
    {
      "cell_type": "code",
      "metadata": {
        "colab": {
          "base_uri": "https://localhost:8080/",
          "height": 377
        },
        "id": "DtCphdzH3kMz",
        "outputId": "18ca39dc-3950-4fe2-c56b-943a20d7ee51"
      },
      "source": [
        "data_training=data_training.sort_values(by='CK').reset_index(drop=True)\n",
        "\n",
        "_, (axes1, axes2, axes3) = plt.subplots(nrows=1, ncols=3 , figsize=(20, 5))\n",
        "\n",
        "#1. Tổng số điểm của những bài có is_final = 1\n",
        "axes1.scatter(data_training['sum_score'], y= data_training['CK'])\n",
        "axes1.set(xlabel = 'Total score', ylabel = 'Final score', title = 'First Plot')\n",
        "\n",
        "#2. Số lần submit đúng \n",
        "axes2.scatter(data_training['pre_full'], y= data_training['CK'])\n",
        "axes2.set(xlabel = 'Number of correct submissions', ylabel = 'Final score', title = 'Second Plot')\n",
        "\n",
        "#3. Tổng số lần submit\n",
        "axes3.scatter(data_training['count_submit'], y= data_training['CK'])\n",
        "axes3.set(xlabel = 'Total number of submissions', ylabel = 'Final score', title = 'Third Plot')"
      ],
      "execution_count": 427,
      "outputs": [
        {
          "output_type": "execute_result",
          "data": {
            "text/plain": [
              "[Text(0, 0.5, 'Final score'),\n",
              " Text(0.5, 0, 'Total number of submissions'),\n",
              " Text(0.5, 1.0, 'Third Plot')]"
            ]
          },
          "metadata": {
            "tags": []
          },
          "execution_count": 427
        },
        {
          "output_type": "display_data",
          "data": {
            "image/png": "[encoded data removed]",
            "text/plain": [
              "<Figure size 1440x360 with 3 Axes>"
            ]
          },
          "metadata": {
            "tags": [],
            "needs_background": "light"
          }
        }
      ]
    },
    {
      "cell_type": "markdown",
      "metadata": {
        "id": "NLsvyWJ5os33"
      },
      "source": [
        "### Nhận xét :\n",
        "\n",
        "* Tổng điểm của mỗi user_id có xu hướng phân bổ không đều và tăng dần theo số điểm cuối kì.\n",
        "*Tổng số lần submit của các user phân bổ không đều, có xu hướng tăng dần theo điểm cuối kì\n",
        "* Những user có số lần nộp cao hơn 500 đa số có số điểm từ 5 điểm trở lên, còn những user có số lần submit dưới 500, đa số có điểm cuối kỳ dưới 5 điểm.\n",
        "* Có vẻ là những user nào có số lần submit nhiều thì điểm cuối kì đa số đạt điểm số cao."
      ]
    },
    {
      "cell_type": "code",
      "metadata": {
        "id": "dgEaBk70BlIX"
      },
      "source": [
        "# Thêm 3 cột : \n",
        "#Số lần submit đúng / Tổng số problem đã submit  (Heso_submit1)\n",
        "#Số lần submit đúng / Tổng số lần submit         (Heso_submit2)\n",
        "#Tổng số prolem đã submit / Tổng số lần submit   (Heso_submit3)\n",
        "data_training['Heso_submit1'] =data_training.apply(lambda x: x['pre_full'] / x['sum_problem'], axis=1)"
      ],
      "execution_count": 428,
      "outputs": []
    },
    {
      "cell_type": "code",
      "metadata": {
        "id": "rX_hTixfCY5U"
      },
      "source": [
        "data_training['Heso_submit2'] =data_training.apply(lambda x: x['pre_full'] / x['count_submit'], axis=1)"
      ],
      "execution_count": 429,
      "outputs": []
    },
    {
      "cell_type": "code",
      "metadata": {
        "colab": {
          "base_uri": "https://localhost:8080/",
          "height": 203
        },
        "id": "jAMB7iiwCj5z",
        "outputId": "da414de3-60d9-489c-acc5-21f385d7bb1a"
      },
      "source": [
        "data_training['Heso_submit3'] =data_training.apply(lambda x: x['sum_problem'] / x['count_submit'], axis=1)\n",
        "data_training.head()"
      ],
      "execution_count": 431,
      "outputs": [
        {
          "output_type": "execute_result",
          "data": {
            "text/html": [
              "<div>\n",
              "<style scoped>\n",
              "    .dataframe tbody tr th:only-of-type {\n",
              "        vertical-align: middle;\n",
              "    }\n",
              "\n",
              "    .dataframe tbody tr th {\n",
              "        vertical-align: top;\n",
              "    }\n",
              "\n",
              "    .dataframe thead th {\n",
              "        text-align: right;\n",
              "    }\n",
              "</style>\n",
              "<table border=\"1\" class=\"dataframe\">\n",
              "  <thead>\n",
              "    <tr style=\"text-align: right;\">\n",
              "      <th></th>\n",
              "      <th>user_id</th>\n",
              "      <th>sum_problem</th>\n",
              "      <th>count_submit</th>\n",
              "      <th>sum_score</th>\n",
              "      <th>pre_full</th>\n",
              "      <th>CK</th>\n",
              "      <th>Heso_submit1</th>\n",
              "      <th>Heso_submit2</th>\n",
              "      <th>Heso_submit3</th>\n",
              "    </tr>\n",
              "  </thead>\n",
              "  <tbody>\n",
              "    <tr>\n",
              "      <th>0</th>\n",
              "      <td>562</td>\n",
              "      <td>30</td>\n",
              "      <td>92</td>\n",
              "      <td>294000</td>\n",
              "      <td>30</td>\n",
              "      <td>0.0</td>\n",
              "      <td>1.000000</td>\n",
              "      <td>0.326087</td>\n",
              "      <td>0.326087</td>\n",
              "    </tr>\n",
              "    <tr>\n",
              "      <th>1</th>\n",
              "      <td>1619</td>\n",
              "      <td>113</td>\n",
              "      <td>288</td>\n",
              "      <td>1080200</td>\n",
              "      <td>109</td>\n",
              "      <td>0.0</td>\n",
              "      <td>0.964602</td>\n",
              "      <td>0.378472</td>\n",
              "      <td>0.392361</td>\n",
              "    </tr>\n",
              "    <tr>\n",
              "      <th>2</th>\n",
              "      <td>166</td>\n",
              "      <td>28</td>\n",
              "      <td>32</td>\n",
              "      <td>227000</td>\n",
              "      <td>22</td>\n",
              "      <td>0.0</td>\n",
              "      <td>0.785714</td>\n",
              "      <td>0.687500</td>\n",
              "      <td>0.875000</td>\n",
              "    </tr>\n",
              "    <tr>\n",
              "      <th>3</th>\n",
              "      <td>1505</td>\n",
              "      <td>8</td>\n",
              "      <td>8</td>\n",
              "      <td>70000</td>\n",
              "      <td>7</td>\n",
              "      <td>0.0</td>\n",
              "      <td>0.875000</td>\n",
              "      <td>0.875000</td>\n",
              "      <td>1.000000</td>\n",
              "    </tr>\n",
              "    <tr>\n",
              "      <th>4</th>\n",
              "      <td>823</td>\n",
              "      <td>48</td>\n",
              "      <td>109</td>\n",
              "      <td>460000</td>\n",
              "      <td>46</td>\n",
              "      <td>0.0</td>\n",
              "      <td>0.958333</td>\n",
              "      <td>0.422018</td>\n",
              "      <td>0.440367</td>\n",
              "    </tr>\n",
              "  </tbody>\n",
              "</table>\n",
              "</div>"
            ],
            "text/plain": [
              "   user_id  sum_problem  count_submit  ...  Heso_submit1  Heso_submit2  Heso_submit3\n",
              "0      562           30            92  ...      1.000000      0.326087      0.326087\n",
              "1     1619          113           288  ...      0.964602      0.378472      0.392361\n",
              "2      166           28            32  ...      0.785714      0.687500      0.875000\n",
              "3     1505            8             8  ...      0.875000      0.875000      1.000000\n",
              "4      823           48           109  ...      0.958333      0.422018      0.440367\n",
              "\n",
              "[5 rows x 9 columns]"
            ]
          },
          "metadata": {
            "tags": []
          },
          "execution_count": 431
        }
      ]
    },
    {
      "cell_type": "code",
      "metadata": {
        "colab": {
          "base_uri": "https://localhost:8080/",
          "height": 424
        },
        "id": "xZLYoHyug-q1",
        "outputId": "ffe22445-8cd4-44fb-9dff-40cc8bd2b4e3"
      },
      "source": [
        "data_training=data_training.sort_values(by='CK').reset_index(drop=True)\n",
        "data_training['CK'] = pd.to_numeric(data_training['CK'], errors='ignore', downcast='float')\n",
        "\n",
        "_, (axes1, axes2, axes3) = plt.subplots(nrows=1, ncols=3 , figsize=(20, 5))\n",
        "\n",
        "#4. Số lần đạt điểm tối đa trên tổng số problem\n",
        "axes1.scatter(data_training['Heso_submit1'], data_training['CK'])\n",
        "axes1.set(xlabel = 'Heso_submit1', ylabel = 'Final score', title = 'Fourth Plot')\n",
        "\n",
        "#5. Tổng số lần submit đúng / tổng submit\n",
        "axes2.scatter(data_training['Heso_submit2'], data_training['CK'])\n",
        "axes2.set(xlabel = 'Heso_submit2', ylabel = 'Final score', title = 'Fifth Plot')\n",
        "\n",
        "#6. Tổng problem đã submit / Tổng submit\n",
        "axes3.scatter(data_training['Heso_submit3'], data_training['CK'])\n",
        "axes3.set(xlabel = 'Heso_submit3', ylabel = 'Final score', title = 'Sixth Plot')"
      ],
      "execution_count": 432,
      "outputs": [
        {
          "output_type": "execute_result",
          "data": {
            "text/plain": [
              "[Text(0, 0.5, 'Final score'),\n",
              " Text(0.5, 0, 'Heso_submit3'),\n",
              " Text(0.5, 1.0, 'Sixth Plot')]"
            ]
          },
          "metadata": {
            "tags": []
          },
          "execution_count": 432
        },
        {
          "output_type": "display_data",
          "data": {
            "image/png": "[encoded data removed]",
            "text/plain": [
              "<Figure size 1440x360 with 3 Axes>"
            ]
          },
          "metadata": {
            "tags": [],
            "needs_background": "light"
          }
        }
      ]
    },
    {
      "cell_type": "markdown",
      "metadata": {
        "id": "CBzB4-rgEUtu"
      },
      "source": [
        "### Nhận xét :"
      ]
    },
    {
      "cell_type": "markdown",
      "metadata": {
        "id": "AZRFEcfajuA0"
      },
      "source": [
        "## **XÂY DỰNG MODEL VÀ DỰ ĐOÁN ĐIỂM CUỐI KỲ**"
      ]
    },
    {
      "cell_type": "markdown",
      "metadata": {
        "id": "SBv61SS73HNI"
      },
      "source": [
        "Tham khảo tại: https://pandas.pydata.org/docs/reference/api/pandas.DataFrame.to_numpy.html"
      ]
    },
    {
      "cell_type": "code",
      "metadata": {
        "id": "9DsJR2IR2Ol0"
      },
      "source": [
        "#Chuyển từ bảng dữ liệu thành mảng\n",
        "copy = data_training.copy()\n",
        "copy = copy.drop(['CK'], axis = 1)\n",
        "\n",
        "x_train = copy.to_numpy(dtype=float)\n",
        "y_train = data_training['CK'].values"
      ],
      "execution_count": 433,
      "outputs": []
    },
    {
      "cell_type": "markdown",
      "metadata": {
        "id": "mNp30n_kDHuG"
      },
      "source": [
        "### **Dựng model dừng Linear Regression**"
      ]
    },
    {
      "cell_type": "markdown",
      "metadata": {
        "id": "jAcnNfxc3OAC"
      },
      "source": [
        "Tham khảo tại: https://www.askpython.com/python/examples/linear-regression-in-python"
      ]
    },
    {
      "cell_type": "code",
      "metadata": {
        "colab": {
          "base_uri": "https://localhost:8080/"
        },
        "id": "kSfrMdfN3Svh",
        "outputId": "0f099b22-5316-4c37-c3ea-33d72f5d9ce9"
      },
      "source": [
        "from sklearn.linear_model import LinearRegression\n",
        "import sklearn.metrics as sm\n",
        "\n",
        "model = LinearRegression()\n",
        "model.fit(x_train,y_train)"
      ],
      "execution_count": 434,
      "outputs": [
        {
          "output_type": "execute_result",
          "data": {
            "text/plain": [
              "LinearRegression(copy_X=True, fit_intercept=True, n_jobs=None, normalize=False)"
            ]
          },
          "metadata": {
            "tags": []
          },
          "execution_count": 434
        }
      ]
    },
    {
      "cell_type": "code",
      "metadata": {
        "id": "fkDaaZnE3pPq"
      },
      "source": [
        "#Chạy model\n",
        "y_pred = model.predict(x_train)\n",
        "y_pred = [round(x, 1) for x in y_pred]"
      ],
      "execution_count": 436,
      "outputs": []
    },
    {
      "cell_type": "code",
      "metadata": {
        "colab": {
          "base_uri": "https://localhost:8080/"
        },
        "id": "it8SjOXM32UI",
        "outputId": "b109a5f0-9547-4eee-ed39-7ef1c651ab68"
      },
      "source": [
        "result_table = {'Predict Score': y_pred,\n",
        "                'Real Score': y_train}\n",
        "result = pd.DataFrame(result_table)\n",
        "print(\"Chạy thử model trên traing set\\n\", result)"
      ],
      "execution_count": 438,
      "outputs": [
        {
          "output_type": "stream",
          "text": [
            "Chạy thử model trên traing set\n",
            "      Predict Score  Real Score\n",
            "0              5.8         0.0\n",
            "1              5.2         0.0\n",
            "2              5.6         0.0\n",
            "3              5.9         0.0\n",
            "4              5.4         0.0\n",
            "..             ...         ...\n",
            "801            8.2         9.5\n",
            "802            7.6         9.5\n",
            "803            8.4         9.5\n",
            "804            7.0        10.0\n",
            "805            5.2        10.0\n",
            "\n",
            "[806 rows x 2 columns]\n"
          ],
          "name": "stdout"
        }
      ]
    },
    {
      "cell_type": "code",
      "metadata": {
        "colab": {
          "base_uri": "https://localhost:8080/"
        },
        "id": "2vGC_wiL5aJZ",
        "outputId": "6e0e667c-2681-4014-a50d-da2de52e9174"
      },
      "source": [
        "print(\"MSE khi dùng Linear Regression\\nMSE = \", sm.mean_squared_error(y_train, y_pred))"
      ],
      "execution_count": 439,
      "outputs": [
        {
          "output_type": "stream",
          "text": [
            "MSE khi dùng Linear Regression\n",
            "MSE =  4.245707196029777\n"
          ],
          "name": "stdout"
        }
      ]
    },
    {
      "cell_type": "markdown",
      "metadata": {
        "id": "0O0IFqsPDLI6"
      },
      "source": [
        "### **Dựng model dùng Support Vector Regression.**"
      ]
    },
    {
      "cell_type": "code",
      "metadata": {
        "id": "spBBrMLQ8NWf"
      },
      "source": [
        "from sklearn import svm\n",
        "regr = svm.SVR()\n",
        "regr.fit(x_train, y_train)\n",
        "y_pred = regr.predict(x_train)\n",
        "y_pred = [round(x, 1) for x in y_pred]"
      ],
      "execution_count": 440,
      "outputs": []
    },
    {
      "cell_type": "code",
      "metadata": {
        "colab": {
          "base_uri": "https://localhost:8080/"
        },
        "id": "J0iI5RfF8lxB",
        "outputId": "97b6eb60-75f8-4c5e-a772-0ddd05ab0028"
      },
      "source": [
        "result_table = {'Predict Score': y_pred,\n",
        "                'Real Score': y_train}\n",
        "result = pd.DataFrame(result_table)\n",
        "print(\"Chạy thử model trên traing set\\n\", result)"
      ],
      "execution_count": 441,
      "outputs": [
        {
          "output_type": "stream",
          "text": [
            "Chạy thử model trên traing set\n",
            "      Predict Score  Real Score\n",
            "0              6.0         0.0\n",
            "1              6.3         0.0\n",
            "2              6.2         0.0\n",
            "3              6.1         0.0\n",
            "4              6.4         0.0\n",
            "..             ...         ...\n",
            "801            8.6         9.5\n",
            "802            8.1         9.5\n",
            "803            7.5         9.5\n",
            "804            8.0        10.0\n",
            "805            6.4        10.0\n",
            "\n",
            "[806 rows x 2 columns]\n"
          ],
          "name": "stdout"
        }
      ]
    },
    {
      "cell_type": "code",
      "metadata": {
        "colab": {
          "base_uri": "https://localhost:8080/"
        },
        "id": "VBjTmy458plA",
        "outputId": "c928c9f3-d26b-4ff2-af7c-b9350712085c"
      },
      "source": [
        "print(\"MSE khi dùng SVM\\nMSE = \", sm.mean_squared_error(y_train, y_pred))"
      ],
      "execution_count": 442,
      "outputs": [
        {
          "output_type": "stream",
          "text": [
            "MSE khi dùng SVM\n",
            "MSE =  4.586538461538462\n"
          ],
          "name": "stdout"
        }
      ]
    },
    {
      "cell_type": "markdown",
      "metadata": {
        "id": "cfiGg_G79iEW"
      },
      "source": [
        "Nhận xét:\n",
        "\n",
        "MSE khi dùng Linear Regression thấp hơn 1 chút so với dùng SVM nên em sẽ dùng Linear Regression để dự đoán điểm cuối kỳ. "
      ]
    },
    {
      "cell_type": "markdown",
      "metadata": {
        "id": "5ytkKidMAk_1"
      },
      "source": [
        "### **Chạy dự đoán cho những sinh viên có điểm cuối kỳ còn trống**"
      ]
    },
    {
      "cell_type": "code",
      "metadata": {
        "colab": {
          "base_uri": "https://localhost:8080/",
          "height": 203
        },
        "id": "cvzgpAF9Arvk",
        "outputId": "e62617dc-5f16-4fde-aaa3-6b61558ed687"
      },
      "source": [
        "#Lúc vẽ scatter plot chỉ cho chạy trên data_traing, chưa có 3 cột xây dựng thêm trên data_predict\n",
        "data_predict['Heso_submit1'] =data_predict.apply(lambda x: x['pre_full'] / x['sum_problem'], axis=1)\n",
        "data_predict['Heso_submit2'] =data_predict.apply(lambda x: x['pre_full'] / x['count_submit'], axis=1)\n",
        "data_predict['Heso_submit3'] =data_predict.apply(lambda x: x['sum_problem'] / x['count_submit'], axis=1)\n",
        "data_predict.head()"
      ],
      "execution_count": 444,
      "outputs": [
        {
          "output_type": "execute_result",
          "data": {
            "text/html": [
              "<div>\n",
              "<style scoped>\n",
              "    .dataframe tbody tr th:only-of-type {\n",
              "        vertical-align: middle;\n",
              "    }\n",
              "\n",
              "    .dataframe tbody tr th {\n",
              "        vertical-align: top;\n",
              "    }\n",
              "\n",
              "    .dataframe thead th {\n",
              "        text-align: right;\n",
              "    }\n",
              "</style>\n",
              "<table border=\"1\" class=\"dataframe\">\n",
              "  <thead>\n",
              "    <tr style=\"text-align: right;\">\n",
              "      <th></th>\n",
              "      <th>user_id</th>\n",
              "      <th>sum_problem</th>\n",
              "      <th>count_submit</th>\n",
              "      <th>sum_score</th>\n",
              "      <th>pre_full</th>\n",
              "      <th>CK</th>\n",
              "      <th>Heso_submit1</th>\n",
              "      <th>Heso_submit2</th>\n",
              "      <th>Heso_submit3</th>\n",
              "    </tr>\n",
              "  </thead>\n",
              "  <tbody>\n",
              "    <tr>\n",
              "      <th>0</th>\n",
              "      <td>1</td>\n",
              "      <td>2</td>\n",
              "      <td>2</td>\n",
              "      <td>10000</td>\n",
              "      <td>1</td>\n",
              "      <td>NaN</td>\n",
              "      <td>0.500000</td>\n",
              "      <td>0.500000</td>\n",
              "      <td>1.000000</td>\n",
              "    </tr>\n",
              "    <tr>\n",
              "      <th>1</th>\n",
              "      <td>4</td>\n",
              "      <td>41</td>\n",
              "      <td>54</td>\n",
              "      <td>370000</td>\n",
              "      <td>44</td>\n",
              "      <td>NaN</td>\n",
              "      <td>1.073171</td>\n",
              "      <td>0.814815</td>\n",
              "      <td>0.759259</td>\n",
              "    </tr>\n",
              "    <tr>\n",
              "      <th>2</th>\n",
              "      <td>5</td>\n",
              "      <td>5</td>\n",
              "      <td>6</td>\n",
              "      <td>30000</td>\n",
              "      <td>3</td>\n",
              "      <td>NaN</td>\n",
              "      <td>0.600000</td>\n",
              "      <td>0.500000</td>\n",
              "      <td>0.833333</td>\n",
              "    </tr>\n",
              "    <tr>\n",
              "      <th>3</th>\n",
              "      <td>6</td>\n",
              "      <td>88</td>\n",
              "      <td>130</td>\n",
              "      <td>850000</td>\n",
              "      <td>89</td>\n",
              "      <td>NaN</td>\n",
              "      <td>1.011364</td>\n",
              "      <td>0.684615</td>\n",
              "      <td>0.676923</td>\n",
              "    </tr>\n",
              "    <tr>\n",
              "      <th>4</th>\n",
              "      <td>7</td>\n",
              "      <td>2</td>\n",
              "      <td>5</td>\n",
              "      <td>9209</td>\n",
              "      <td>0</td>\n",
              "      <td>NaN</td>\n",
              "      <td>0.000000</td>\n",
              "      <td>0.000000</td>\n",
              "      <td>0.400000</td>\n",
              "    </tr>\n",
              "  </tbody>\n",
              "</table>\n",
              "</div>"
            ],
            "text/plain": [
              "   user_id  sum_problem  count_submit  ...  Heso_submit1  Heso_submit2  Heso_submit3\n",
              "0        1            2             2  ...      0.500000      0.500000      1.000000\n",
              "1        4           41            54  ...      1.073171      0.814815      0.759259\n",
              "2        5            5             6  ...      0.600000      0.500000      0.833333\n",
              "3        6           88           130  ...      1.011364      0.684615      0.676923\n",
              "4        7            2             5  ...      0.000000      0.000000      0.400000\n",
              "\n",
              "[5 rows x 9 columns]"
            ]
          },
          "metadata": {
            "tags": []
          },
          "execution_count": 444
        }
      ]
    },
    {
      "cell_type": "code",
      "metadata": {
        "id": "7NEUKXBN-i6Y"
      },
      "source": [
        "temp = data_predict.copy()\n",
        "temp = temp.drop(['CK'], axis = 1)\n",
        "\n",
        "x_pre = temp.to_numpy(dtype=float)\n",
        "data_predict['CK'] = model.predict(x_pre)\n",
        "data_predict['CK'] = [round(x, 1) for x in data_predict['CK']]\n"
      ],
      "execution_count": 445,
      "outputs": []
    },
    {
      "cell_type": "code",
      "metadata": {
        "colab": {
          "base_uri": "https://localhost:8080/",
          "height": 417
        },
        "id": "NgXweKUUBFou",
        "outputId": "783dddf9-fe3f-4362-ff1a-108611025825"
      },
      "source": [
        "data_predict"
      ],
      "execution_count": 446,
      "outputs": [
        {
          "output_type": "execute_result",
          "data": {
            "text/html": [
              "<div>\n",
              "<style scoped>\n",
              "    .dataframe tbody tr th:only-of-type {\n",
              "        vertical-align: middle;\n",
              "    }\n",
              "\n",
              "    .dataframe tbody tr th {\n",
              "        vertical-align: top;\n",
              "    }\n",
              "\n",
              "    .dataframe thead th {\n",
              "        text-align: right;\n",
              "    }\n",
              "</style>\n",
              "<table border=\"1\" class=\"dataframe\">\n",
              "  <thead>\n",
              "    <tr style=\"text-align: right;\">\n",
              "      <th></th>\n",
              "      <th>user_id</th>\n",
              "      <th>sum_problem</th>\n",
              "      <th>count_submit</th>\n",
              "      <th>sum_score</th>\n",
              "      <th>pre_full</th>\n",
              "      <th>CK</th>\n",
              "      <th>Heso_submit1</th>\n",
              "      <th>Heso_submit2</th>\n",
              "      <th>Heso_submit3</th>\n",
              "    </tr>\n",
              "  </thead>\n",
              "  <tbody>\n",
              "    <tr>\n",
              "      <th>0</th>\n",
              "      <td>1</td>\n",
              "      <td>2</td>\n",
              "      <td>2</td>\n",
              "      <td>10000</td>\n",
              "      <td>1</td>\n",
              "      <td>3.6</td>\n",
              "      <td>0.500000</td>\n",
              "      <td>0.500000</td>\n",
              "      <td>1.000000</td>\n",
              "    </tr>\n",
              "    <tr>\n",
              "      <th>1</th>\n",
              "      <td>4</td>\n",
              "      <td>41</td>\n",
              "      <td>54</td>\n",
              "      <td>370000</td>\n",
              "      <td>44</td>\n",
              "      <td>3.7</td>\n",
              "      <td>1.073171</td>\n",
              "      <td>0.814815</td>\n",
              "      <td>0.759259</td>\n",
              "    </tr>\n",
              "    <tr>\n",
              "      <th>2</th>\n",
              "      <td>5</td>\n",
              "      <td>5</td>\n",
              "      <td>6</td>\n",
              "      <td>30000</td>\n",
              "      <td>3</td>\n",
              "      <td>3.9</td>\n",
              "      <td>0.600000</td>\n",
              "      <td>0.500000</td>\n",
              "      <td>0.833333</td>\n",
              "    </tr>\n",
              "    <tr>\n",
              "      <th>3</th>\n",
              "      <td>6</td>\n",
              "      <td>88</td>\n",
              "      <td>130</td>\n",
              "      <td>850000</td>\n",
              "      <td>89</td>\n",
              "      <td>4.8</td>\n",
              "      <td>1.011364</td>\n",
              "      <td>0.684615</td>\n",
              "      <td>0.676923</td>\n",
              "    </tr>\n",
              "    <tr>\n",
              "      <th>4</th>\n",
              "      <td>7</td>\n",
              "      <td>2</td>\n",
              "      <td>5</td>\n",
              "      <td>9209</td>\n",
              "      <td>0</td>\n",
              "      <td>5.5</td>\n",
              "      <td>0.000000</td>\n",
              "      <td>0.000000</td>\n",
              "      <td>0.400000</td>\n",
              "    </tr>\n",
              "    <tr>\n",
              "      <th>...</th>\n",
              "      <td>...</td>\n",
              "      <td>...</td>\n",
              "      <td>...</td>\n",
              "      <td>...</td>\n",
              "      <td>...</td>\n",
              "      <td>...</td>\n",
              "      <td>...</td>\n",
              "      <td>...</td>\n",
              "      <td>...</td>\n",
              "    </tr>\n",
              "    <tr>\n",
              "      <th>1149</th>\n",
              "      <td>1852</td>\n",
              "      <td>1</td>\n",
              "      <td>20</td>\n",
              "      <td>10000</td>\n",
              "      <td>5</td>\n",
              "      <td>8.4</td>\n",
              "      <td>5.000000</td>\n",
              "      <td>0.250000</td>\n",
              "      <td>0.050000</td>\n",
              "    </tr>\n",
              "    <tr>\n",
              "      <th>1150</th>\n",
              "      <td>1855</td>\n",
              "      <td>61</td>\n",
              "      <td>134</td>\n",
              "      <td>649000</td>\n",
              "      <td>63</td>\n",
              "      <td>6.2</td>\n",
              "      <td>1.032787</td>\n",
              "      <td>0.470149</td>\n",
              "      <td>0.455224</td>\n",
              "    </tr>\n",
              "    <tr>\n",
              "      <th>1154</th>\n",
              "      <td>1860</td>\n",
              "      <td>43</td>\n",
              "      <td>76</td>\n",
              "      <td>329665</td>\n",
              "      <td>29</td>\n",
              "      <td>5.5</td>\n",
              "      <td>0.674419</td>\n",
              "      <td>0.381579</td>\n",
              "      <td>0.565789</td>\n",
              "    </tr>\n",
              "    <tr>\n",
              "      <th>1156</th>\n",
              "      <td>1864</td>\n",
              "      <td>63</td>\n",
              "      <td>187</td>\n",
              "      <td>439741</td>\n",
              "      <td>30</td>\n",
              "      <td>6.4</td>\n",
              "      <td>0.476190</td>\n",
              "      <td>0.160428</td>\n",
              "      <td>0.336898</td>\n",
              "    </tr>\n",
              "    <tr>\n",
              "      <th>1158</th>\n",
              "      <td>1868</td>\n",
              "      <td>20</td>\n",
              "      <td>47</td>\n",
              "      <td>270000</td>\n",
              "      <td>38</td>\n",
              "      <td>5.1</td>\n",
              "      <td>1.900000</td>\n",
              "      <td>0.808511</td>\n",
              "      <td>0.425532</td>\n",
              "    </tr>\n",
              "  </tbody>\n",
              "</table>\n",
              "<p>307 rows × 9 columns</p>\n",
              "</div>"
            ],
            "text/plain": [
              "      user_id  sum_problem  ...  Heso_submit2  Heso_submit3\n",
              "0           1            2  ...      0.500000      1.000000\n",
              "1           4           41  ...      0.814815      0.759259\n",
              "2           5            5  ...      0.500000      0.833333\n",
              "3           6           88  ...      0.684615      0.676923\n",
              "4           7            2  ...      0.000000      0.400000\n",
              "...       ...          ...  ...           ...           ...\n",
              "1149     1852            1  ...      0.250000      0.050000\n",
              "1150     1855           61  ...      0.470149      0.455224\n",
              "1154     1860           43  ...      0.381579      0.565789\n",
              "1156     1864           63  ...      0.160428      0.336898\n",
              "1158     1868           20  ...      0.808511      0.425532\n",
              "\n",
              "[307 rows x 9 columns]"
            ]
          },
          "metadata": {
            "tags": []
          },
          "execution_count": 446
        }
      ]
    }
  ]
}