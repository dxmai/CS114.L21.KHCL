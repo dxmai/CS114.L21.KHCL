{
  "nbformat": 4,
  "nbformat_minor": 0,
  "metadata": {
    "colab": {
      "name": "Tuan_1_Part1",
      "provenance": [],
      "authorship_tag": "ABX9TyMMEHfLIqIVtNQaHheuen8u",
      "include_colab_link": true
    },
    "kernelspec": {
      "name": "python3",
      "display_name": "Python 3"
    },
    "language_info": {
      "name": "python"
    }
  },
  "cells": [
    {
      "cell_type": "markdown",
      "metadata": {
        "id": "view-in-github",
        "colab_type": "text"
      },
      "source": [
        "<a href=\"https://colab.research.google.com/github/dxmai/CS114.L21.KHCL/blob/main/Tuan_1_Part1.ipynb\" target=\"_parent\"><img src=\"https://colab.research.google.com/assets/colab-badge.svg\" alt=\"Open In Colab\"/></a>"
      ]
    },
    {
      "cell_type": "markdown",
      "metadata": {
        "id": "lGTFGELF5wBc"
      },
      "source": [
        "TỔNG ƯỚC SỐ\n",
        "\n"
      ]
    },
    {
      "cell_type": "code",
      "metadata": {
        "id": "_ipAqIXv5mSO"
      },
      "source": [
        "def KiemTraUoc(N, i):\n",
        "    if N % i == 0:\n",
        "        return True\n",
        "    return False\n",
        "\n",
        "N = int(input())\n",
        "Sum = 0\n",
        "\n",
        "for i in range (1, N):\n",
        "    if KiemTraUoc(N, i):\n",
        "        Sum += i\n",
        "\n",
        "print(Sum)"
      ],
      "execution_count": null,
      "outputs": []
    },
    {
      "cell_type": "markdown",
      "metadata": {
        "id": "qzo8qBJt6ceT"
      },
      "source": [
        "FIBO"
      ]
    },
    {
      "cell_type": "code",
      "metadata": {
        "id": "8n8yI5c26dsg"
      },
      "source": [
        "def Fibonacci(x):\n",
        "    if x <= 2:\n",
        "        return 1\n",
        "    return Fibonacci(x - 1) + Fibonacci(x - 2)\n",
        "\n",
        "\n",
        "x = int(input())\n",
        "if x < 1 or x > 30:\n",
        "    print(\"So\",x, \"khong nam trong khoang [1,30].\")\n",
        "else:\n",
        "    print(Fibonacci(x))"
      ],
      "execution_count": null,
      "outputs": []
    },
    {
      "cell_type": "markdown",
      "metadata": {
        "id": "ChIMCTuT6l8R"
      },
      "source": [
        "GÀ CHÓ"
      ]
    },
    {
      "cell_type": "code",
      "metadata": {
        "id": "Zxx80PJR6j4i"
      },
      "source": [
        "soCon, soChan = map(int, input().split())\n",
        "\n",
        "for soGa in range (0, soCon + 1):\n",
        "    soCho = soCon - soGa\n",
        "    if 2 * soGa + 4 * soCho == soChan:\n",
        "        print(soGa, soCho)"
      ],
      "execution_count": null,
      "outputs": []
    },
    {
      "cell_type": "markdown",
      "metadata": {
        "id": "-pJXq__E6uzJ"
      },
      "source": [
        "KFC"
      ]
    },
    {
      "cell_type": "code",
      "metadata": {
        "id": "-wWslukc6wOb"
      },
      "source": [
        "from decimal import *\n",
        "getcontext().prec = 6\n",
        "\n",
        "doF = Decimal(input())\n",
        "\n",
        "doC = Decimal(5/9) * Decimal(doF - 32)\n",
        "doK = Decimal(doC)+ Decimal(273.15)\n",
        "print(doC.normalize(), doK.normalize())"
      ],
      "execution_count": null,
      "outputs": []
    },
    {
      "cell_type": "markdown",
      "metadata": {
        "id": "EGQJoolF61Ui"
      },
      "source": [
        "Sau bài này cần chú ý thư vện decimal và các hàm có sẵn trong thư viện:\n",
        "\n",
        "getcontext().prec - định nghĩa độ dài của chuỗi dữ liệu\n",
        "\n",
        "Decimal() - Tạo một giá trị kiểu Decimal\n",
        "\n",
        ".normalize() - làm tròn, đến chữ số khác 0 gần nhất mà vẫn giữ độ dài của context phù hợp\n",
        "\n",
        "Tham khảo thêm ở: https://docs.python.org/3/library/decimal.html"
      ]
    }
  ]
}