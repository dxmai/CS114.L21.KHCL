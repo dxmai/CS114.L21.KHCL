{
  "nbformat": 4,
  "nbformat_minor": 0,
  "metadata": {
    "colab": {
      "name": "Reshape_matrix.ipynb",
      "provenance": [],
      "authorship_tag": "ABX9TyOQA95dHYD8gC13DBHQfS55",
      "include_colab_link": true
    },
    "kernelspec": {
      "name": "python3",
      "display_name": "Python 3"
    },
    "language_info": {
      "name": "python"
    }
  },
  "cells": [
    {
      "cell_type": "markdown",
      "metadata": {
        "id": "view-in-github",
        "colab_type": "text"
      },
      "source": [
        "<a href=\"https://colab.research.google.com/github/dxmai/CS114.L21.KHCL/blob/main/Tu%E1%BA%A7n%202%20-%20Ch%C3%BA%20%C3%BD%20th%E1%BB%9Di%20gian%20ch%E1%BA%A1y%20ch%C6%B0%C6%A1ng%20tr%C3%ACnh/Reshape_matrix.ipynb\" target=\"_parent\"><img src=\"https://colab.research.google.com/assets/colab-badge.svg\" alt=\"Open In Colab\"/></a>"
      ]
    },
    {
      "cell_type": "markdown",
      "metadata": {
        "id": "qXfPrexnZH4k"
      },
      "source": [
        "RESHAPE MATRIX"
      ]
    },
    {
      "cell_type": "code",
      "metadata": {
        "id": "63SkVCz2ZHat"
      },
      "source": [
        "hang, cot = map(int, input().split())\n",
        "\n",
        "row, column = map(int, input().split())\n",
        "\n",
        "if hang * cot != row * column:\n",
        "    for i in range(hang):\n",
        "        print(input())\n",
        "else:\n",
        "   array = []\n",
        "   for i in range(hang):\n",
        "       array.extend(input().split())\n",
        "       while (len(array) >= column):\n",
        "           print(*array[:column], sep = ' ')\n",
        "           array[0:] = array[column:]"
      ],
      "execution_count": null,
      "outputs": []
    },
    {
      "cell_type": "markdown",
      "metadata": {
        "id": "mEbHtdhTZN69"
      },
      "source": [
        "Cách cài đặt chương trình nhưng sử dụng numpy"
      ]
    },
    {
      "cell_type": "code",
      "metadata": {
        "id": "J90n1sZcZWvW"
      },
      "source": [
        "import numpy as np\n",
        "import sys\n",
        "\n",
        "m, n = map(int, input().split())\n",
        "\n",
        "r, c = map(int, input().split())\n",
        "\n",
        "array = np.array([input().strip().split() for _ in range(m)], int)\n",
        "\n",
        "if m * n != r * c:\n",
        "    np.savetxt(sys.stdout, array, fmt = \"%i\")\n",
        "else:\n",
        "    new = np.reshape(array,(r, c))\n",
        "    np.savetxt(sys.stdout, new, fmt = \"%i\")"
      ],
      "execution_count": null,
      "outputs": []
    }
  ]
}