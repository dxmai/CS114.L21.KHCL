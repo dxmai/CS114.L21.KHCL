{
  "nbformat": 4,
  "nbformat_minor": 0,
  "metadata": {
    "colab": {
      "name": "Onlinegame2.ipynb",
      "provenance": [],
      "collapsed_sections": [],
      "authorship_tag": "ABX9TyOtevf9E5kZwJ1qXWWDSFF4",
      "include_colab_link": true
    },
    "kernelspec": {
      "name": "python3",
      "display_name": "Python 3"
    },
    "language_info": {
      "name": "python"
    }
  },
  "cells": [
    {
      "cell_type": "markdown",
      "metadata": {
        "id": "view-in-github",
        "colab_type": "text"
      },
      "source": [
        "<a href=\"https://colab.research.google.com/github/dxmai/CS114.L21.KHCL/blob/main/Tu%E1%BA%A7n%202%20-%20Ch%C3%BA%20%C3%BD%20th%E1%BB%9Di%20gian%20ch%E1%BA%A1y%20ch%C6%B0%C6%A1ng%20tr%C3%ACnh/Onlinegame2.ipynb\" target=\"_parent\"><img src=\"https://colab.research.google.com/assets/colab-badge.svg\" alt=\"Open In Colab\"/></a>"
      ]
    },
    {
      "cell_type": "markdown",
      "metadata": {
        "id": "NptH6OiEdVzI"
      },
      "source": [
        "ONLINE GAME 2"
      ]
    },
    {
      "cell_type": "code",
      "metadata": {
        "id": "gG0avniCdUwX"
      },
      "source": [
        "from sys import stdin\n",
        "array = {}\n",
        "\n",
        "while (True):\n",
        "    intPut = [int(i) for i in stdin.readline().split()]\n",
        "    if intPut[0] == 0:\n",
        "        break\n",
        "    if intPut[0] == 1:\n",
        "        array[intPut[1]] = 1\n",
        "    elif intPut[0] == 2:\n",
        "        if intPut[1] in array.keys() and array.get(intPut[1]):\n",
        "            print(1)\n",
        "        else:\n",
        "            print(0)\n",
        "    else:\n",
        "        if intPut[1] in array.keys():\n",
        "            array.update({intPut[1]:0})\n",
        "        else:\n",
        "            continue"
      ],
      "execution_count": null,
      "outputs": []
    },
    {
      "cell_type": "markdown",
      "metadata": {
        "id": "ZBEyF_uodX7z"
      },
      "source": [
        "Vẫn chưa xanh, đã hỏi bạn Trần Gia Nghĩa lớp CS112.L21, bạn đó nói là kiểm soát dữ liệu đầu vào là được, có lẽ có 1 testcase dữ liệu đầu vào không theo đúng chuẩn đề bài yêu cầu"
      ]
    }
  ]
}