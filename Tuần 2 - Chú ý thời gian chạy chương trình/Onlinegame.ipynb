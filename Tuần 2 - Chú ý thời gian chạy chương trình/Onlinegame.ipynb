{
  "nbformat": 4,
  "nbformat_minor": 0,
  "metadata": {
    "colab": {
      "name": "Onlinegame.ipynb",
      "provenance": [],
      "collapsed_sections": [],
      "authorship_tag": "ABX9TyMNezhdN2VJd/6vkUIey4h8",
      "include_colab_link": true
    },
    "kernelspec": {
      "name": "python3",
      "display_name": "Python 3"
    },
    "language_info": {
      "name": "python"
    }
  },
  "cells": [
    {
      "cell_type": "markdown",
      "metadata": {
        "id": "view-in-github",
        "colab_type": "text"
      },
      "source": [
        "<a href=\"https://colab.research.google.com/github/dxmai/CS114.L21.KHCL/blob/main/Tu%E1%BA%A7n%202%20-%20Ch%C3%BA%20%C3%BD%20th%E1%BB%9Di%20gian%20ch%E1%BA%A1y%20ch%C6%B0%C6%A1ng%20tr%C3%ACnh/Onlinegame.ipynb\" target=\"_parent\"><img src=\"https://colab.research.google.com/assets/colab-badge.svg\" alt=\"Open In Colab\"/></a>"
      ]
    },
    {
      "cell_type": "markdown",
      "metadata": {
        "id": "HLxthnwfaaQm"
      },
      "source": [
        "ONLINE GAME"
      ]
    },
    {
      "cell_type": "code",
      "metadata": {
        "id": "VdVT74XtZsKB"
      },
      "source": [
        "array = {}\n",
        "\n",
        "while (True):\n",
        "    intPut = input()\n",
        "    query = int(intPut[0])\n",
        "    if query == 0:\n",
        "        break\n",
        "    query, index = map(int, intPut.split())\n",
        "    if query == 1:\n",
        "        array.update({index:1})\n",
        "    else:\n",
        "        if index in array.keys():\n",
        "            print(1)\n",
        "        else:\n",
        "            print(0)"
      ],
      "execution_count": null,
      "outputs": []
    },
    {
      "cell_type": "markdown",
      "metadata": {
        "id": "JWlTCwZTahBM"
      },
      "source": [
        "Lưu ý cá nhân: kiểu dữ liệu Dictionary"
      ]
    }
  ]
}