{
  "nbformat": 4,
  "nbformat_minor": 0,
  "metadata": {
    "colab": {
      "name": "Merge_sorted_array.ipynb",
      "provenance": [],
      "collapsed_sections": [],
      "authorship_tag": "ABX9TyNfsJrxHIwgkUbB0ByR4ACw",
      "include_colab_link": true
    },
    "kernelspec": {
      "name": "python3",
      "display_name": "Python 3"
    },
    "language_info": {
      "name": "python"
    }
  },
  "cells": [
    {
      "cell_type": "markdown",
      "metadata": {
        "id": "view-in-github",
        "colab_type": "text"
      },
      "source": [
        "<a href=\"https://colab.research.google.com/github/dxmai/CS114.L21.KHCL/blob/main/Tu%E1%BA%A7n%202%20-%20Ch%C3%BA%20%C3%BD%20th%E1%BB%9Di%20gian%20ch%E1%BA%A1y%20ch%C6%B0%C6%A1ng%20tr%C3%ACnh/Merge_sorted_array.ipynb\" target=\"_parent\"><img src=\"https://colab.research.google.com/assets/colab-badge.svg\" alt=\"Open In Colab\"/></a>"
      ]
    },
    {
      "cell_type": "markdown",
      "metadata": {
        "id": "MQJns4muXZat"
      },
      "source": [
        "MERGE SORTED ARRAY"
      ]
    },
    {
      "cell_type": "code",
      "metadata": {
        "id": "PLIYOEAHXTX1"
      },
      "source": [
        "sizeA, sizeB = map(int, input().split())\n",
        "\n",
        "arrayA = list(map(int, input().split()))\n",
        "arrayB = list(map(int, input().split()))\n",
        "\n",
        "ans = []\n",
        "indexA = 0\n",
        "indexB = 0\n",
        "\n",
        "while (indexA < sizeA and indexB < sizeB):\n",
        "    if arrayA[indexA] < arrayB[indexB]:\n",
        "        ans.append(arrayA[indexA])\n",
        "        indexA += 1\n",
        "    else:\n",
        "        ans.append(arrayB[indexB])\n",
        "        indexB += 1\n",
        "\n",
        "if indexA == sizeA:\n",
        "    for i in range (indexB, sizeB):\n",
        "        ans.append(arrayB[i])\n",
        "\n",
        "else:\n",
        "    for i in range (indexA, sizeA):\n",
        "        ans.append(arrayA[i])\n",
        "\n",
        "for i in ans:\n",
        "    print(i, end = ' ')"
      ],
      "execution_count": null,
      "outputs": []
    }
  ]
}