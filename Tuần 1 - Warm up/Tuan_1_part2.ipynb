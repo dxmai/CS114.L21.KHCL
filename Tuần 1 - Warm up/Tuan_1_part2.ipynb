{
  "nbformat": 4,
  "nbformat_minor": 0,
  "metadata": {
    "colab": {
      "name": "Tuan_1_part2.ipynb",
      "provenance": [],
      "collapsed_sections": [],
      "authorship_tag": "ABX9TyO8XyHVaO72JIU356vN16TI",
      "include_colab_link": true
    },
    "kernelspec": {
      "name": "python3",
      "display_name": "Python 3"
    },
    "language_info": {
      "name": "python"
    }
  },
  "cells": [
    {
      "cell_type": "markdown",
      "metadata": {
        "id": "view-in-github",
        "colab_type": "text"
      },
      "source": [
        "<a href=\"https://colab.research.google.com/github/dxmai/CS114.L21.KHCL/blob/main/Tu%E1%BA%A7n%201%20-%20Warm%20up/Tuan_1_part2.ipynb\" target=\"_parent\"><img src=\"https://colab.research.google.com/assets/colab-badge.svg\" alt=\"Open In Colab\"/></a>"
      ]
    },
    {
      "cell_type": "markdown",
      "metadata": {
        "id": "HMy4GgI9OAzz"
      },
      "source": [
        "TAM GIÁC"
      ]
    },
    {
      "cell_type": "code",
      "metadata": {
        "id": "xsDnjAxgNydQ"
      },
      "source": [
        "import math\n",
        "def KiemTraTamGiac(canh1, canh2, canh3):\n",
        "    if canh1 + canh2 > canh3 and canh2 + canh3 > canh1 and canh1 + canh3 > canh2:\n",
        "        return True\n",
        "    return False\n",
        "\n",
        "def TinhDienTich(canh1, canh2, canh3):\n",
        "    p = (canh1 + canh2 + canh3)/2\n",
        "    dienTich = math.sqrt(p * (p - canh1) * (p - canh2) * (p - canh3))\n",
        "    dienTich = round(dienTich, 2)\n",
        "    if dienTich == int(dienTich):\n",
        "        return int(dienTich)\n",
        "    else:\n",
        "        return dienTich\n",
        "\n",
        "canh1 = float(input())\n",
        "canh2 = float(input())\n",
        "canh3 = float(input())\n",
        "\n",
        "if KiemTraTamGiac(canh1, canh2, canh3) == False:\n",
        "    print(\"Khong phai tam giac\")\n",
        "else:\n",
        "    dienTich = TinhDienTich(canh1, canh2, canh3)\n",
        "    if canh1 == canh2 and canh2 == canh3:\n",
        "        print(\"Tam giac deu, dien tich =\", dienTich)\n",
        "    elif canh1 == canh2 or canh2 == canh3:\n",
        "        print(\"Tam giac can, dien tich =\", dienTich)\n",
        "    elif canh1 ** 2 == canh2 ** 2 + canh3 ** 2 or canh2 ** 2 == canh1 ** 1 + canh3 ** 2 or canh3 ** 2 == canh1 ** 2 + canh2 ** 2:\n",
        "        print(\"Tam giac vuong, dien tich =\", dienTich)\n",
        "    else:\n",
        "        print(\"Tam giac thuong, dien tich =\", dienTich)"
      ],
      "execution_count": null,
      "outputs": []
    },
    {
      "cell_type": "markdown",
      "metadata": {
        "id": "Cdn9hHk3OLS4"
      },
      "source": [
        "Chú ý các trường hợp, các biến có đúng vị trí hay không"
      ]
    },
    {
      "cell_type": "markdown",
      "metadata": {
        "id": "ap9drFZYOS8Y"
      },
      "source": [
        "ÁP SUẤT"
      ]
    },
    {
      "cell_type": "code",
      "metadata": {
        "id": "oOuq6VftOhap"
      },
      "source": [
        "from decimal import *\n",
        "getcontext().prec = 6\n",
        "\n",
        "pound = Decimal(input())\n",
        "kg = Decimal(0.453592)\n",
        "cm2 = Decimal(2.54) * Decimal(2.54)\n",
        "\n",
        "print((pound * (kg / cm2)).normalize())"
      ],
      "execution_count": null,
      "outputs": []
    },
    {
      "cell_type": "markdown",
      "metadata": {
        "id": "Jo7vL6IUOioj"
      },
      "source": [
        "Lưu ý cá nhân: Nhìn kỹ các giá trị trước khi thực hiện một phép toán nào đấy"
      ]
    },
    {
      "cell_type": "markdown",
      "metadata": {
        "id": "wOED-SwMOzpK"
      },
      "source": [
        "ĐƯỜNG SẮT"
      ]
    },
    {
      "cell_type": "code",
      "metadata": {
        "id": "B3xcMVV9O1Da"
      },
      "source": [
        "soGa, thoiGian = map(int, input().split())\n",
        "\n",
        "if (thoiGian // soGa) % 2 == 0:\n",
        "    ga = thoiGian % soGa\n",
        "else:\n",
        "    ga = soGa - thoiGian % soGa\n",
        "\n",
        "print(ga)"
      ],
      "execution_count": null,
      "outputs": []
    },
    {
      "cell_type": "markdown",
      "metadata": {
        "id": "nYZ35hH7PEVC"
      },
      "source": [
        "TASK"
      ]
    },
    {
      "cell_type": "code",
      "metadata": {
        "id": "W9EgJsy4PDAK"
      },
      "source": [
        "soHocSinh = int(input())\n",
        "soDeKT = int(input())\n",
        "hangAlice = int(input())\n",
        "viTriAlice = int(input())\n",
        "flag = True\n",
        "\n",
        "sttAlice = (hangAlice - 1) * 2 + viTriAlice\n",
        "sttBob = sttAlice - soDeKT\n",
        "\n",
        "if sttBob <= 0:\n",
        "    sttBob = sttAlice + soDeKT\n",
        "\n",
        "if sttBob > soHocSinh:\n",
        "    flag = False\n",
        "\n",
        "if flag == False:\n",
        "    print(-1)\n",
        "else:\n",
        "    if sttBob % 2 != 0:\n",
        "        hangBob = sttBob // 2 + 1\n",
        "        viTriBob = 1\n",
        "    else:\n",
        "        hangBob = sttBob // 2\n",
        "        viTriBob = 2\n",
        "    print(hangBob, viTriBob)"
      ],
      "execution_count": null,
      "outputs": []
    },
    {
      "cell_type": "markdown",
      "metadata": {
        "id": "yMNB9NPrO2Eq"
      },
      "source": [
        "Lưu ý cá nhân cho 2 bài Đường sắt và Task: Dùng toán học để giải chứ không nên chia trường hợp ra mà làm"
      ]
    }
  ]
}