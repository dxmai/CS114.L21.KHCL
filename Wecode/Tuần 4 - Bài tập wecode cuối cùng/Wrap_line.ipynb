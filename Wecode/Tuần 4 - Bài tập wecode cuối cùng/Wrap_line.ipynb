{
  "nbformat": 4,
  "nbformat_minor": 0,
  "metadata": {
    "colab": {
      "name": "Wrap_line.ipynb",
      "provenance": [],
      "collapsed_sections": [],
      "authorship_tag": "ABX9TyM5UmWW0QrJO1mscala615Y",
      "include_colab_link": true
    },
    "kernelspec": {
      "name": "python3",
      "display_name": "Python 3"
    },
    "language_info": {
      "name": "python"
    }
  },
  "cells": [
    {
      "cell_type": "markdown",
      "metadata": {
        "id": "view-in-github",
        "colab_type": "text"
      },
      "source": [
        "<a href=\"https://colab.research.google.com/github/dxmai/CS114.L21.KHCL/blob/main/Wecode/Tu%E1%BA%A7n%204%20-%20B%C3%A0i%20t%E1%BA%ADp%20wecode%20cu%E1%BB%91i%20c%C3%B9ng/Wrap_line.ipynb\" target=\"_parent\"><img src=\"https://colab.research.google.com/assets/colab-badge.svg\" alt=\"Open In Colab\"/></a>"
      ]
    },
    {
      "cell_type": "markdown",
      "metadata": {
        "id": "Ai5uAQn-rhBL"
      },
      "source": [
        "KHÔNG LÀM ĐƯỢC ĐIỂM TỐI ĐA"
      ]
    },
    {
      "cell_type": "markdown",
      "metadata": {
        "id": "8mBvs7t2rdEz"
      },
      "source": [
        "WRAP LINE"
      ]
    },
    {
      "cell_type": "code",
      "metadata": {
        "id": "ua4hxo1wra_i"
      },
      "source": [
        "from sys import stdin\n",
        "\n",
        "line = stdin.readline().split()\n",
        "space = int(stdin.readline())\n",
        "\n",
        "count = len(line)\n",
        "\n",
        "pos = 1\n",
        "start = 0\n",
        "words = 1\n",
        "\n",
        "string = [line[0]]\n",
        "length = len(line[0])\n",
        "start = 0\n",
        "\n",
        "while words <= len(line) and pos < count:\n",
        "    while length < space and pos < count:\n",
        "        string.append(line[pos])\n",
        "        length += len(line[pos]) + 1\n",
        "        pos += 1\n",
        "    length = 0\n",
        "\n",
        "    print(*string[start:pos+1], end = '\\n')\n",
        "    words = pos\n",
        "    #print(words, \"W\")\n",
        "    start = pos"
      ],
      "execution_count": null,
      "outputs": []
    }
  ]
}