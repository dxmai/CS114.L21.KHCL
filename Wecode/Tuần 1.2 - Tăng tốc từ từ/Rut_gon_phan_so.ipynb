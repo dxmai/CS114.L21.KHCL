{
  "nbformat": 4,
  "nbformat_minor": 0,
  "metadata": {
    "colab": {
      "name": "Rut_gon_phan_so.ipynb",
      "provenance": [],
      "collapsed_sections": [],
      "authorship_tag": "ABX9TyOz1We0bZhaXiZGIfJlr6ja",
      "include_colab_link": true
    },
    "kernelspec": {
      "name": "python3",
      "display_name": "Python 3"
    },
    "language_info": {
      "name": "python"
    }
  },
  "cells": [
    {
      "cell_type": "markdown",
      "metadata": {
        "id": "view-in-github",
        "colab_type": "text"
      },
      "source": [
        "<a href=\"https://colab.research.google.com/github/dxmai/CS114.L21.KHCL/blob/main/Tu%E1%BA%A7n%201.2%20-%20T%C4%83ng%20t%E1%BB%91c%20t%E1%BB%AB%20t%E1%BB%AB/Rut_gon_phan_so.ipynb\" target=\"_parent\"><img src=\"https://colab.research.google.com/assets/colab-badge.svg\" alt=\"Open In Colab\"/></a>"
      ]
    },
    {
      "cell_type": "markdown",
      "metadata": {
        "id": "9LEFEjVIW8HW"
      },
      "source": [
        "RÚT GỌN PHÂN SỐ"
      ]
    },
    {
      "cell_type": "code",
      "metadata": {
        "id": "XCA8XrYeW3tK"
      },
      "source": [
        "def findGCD(tuSo, mauSo):\n",
        "    while(tuSo != mauSo):\n",
        "        if tuSo > mauSo:\n",
        "            tuSo -= mauSo\n",
        "        else:\n",
        "            mauSo -= tuSo\n",
        "    return tuSo\n",
        "\n",
        "soPhanSo = int(input())\n",
        "count = 0\n",
        "while (count < soPhanSo):\n",
        "    tuSo, mauSo = map(int, input().split())\n",
        "\n",
        "    gcd = findGCD(tuSo, mauSo)\n",
        "    tuSo = tuSo // gcd\n",
        "    mauSo = mauSo // gcd\n",
        "\n",
        "    if mauSo == 1:\n",
        "        print(tuSo)\n",
        "    else:\n",
        "        print(tuSo, mauSo)\n",
        "\n",
        "    count += 1"
      ],
      "execution_count": null,
      "outputs": []
    }
  ]
}
