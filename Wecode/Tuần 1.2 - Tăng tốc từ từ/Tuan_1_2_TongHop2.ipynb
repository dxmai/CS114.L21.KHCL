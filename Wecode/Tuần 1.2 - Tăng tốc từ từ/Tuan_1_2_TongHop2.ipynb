{
  "nbformat": 4,
  "nbformat_minor": 0,
  "metadata": {
    "colab": {
      "name": "Tuan_1_2_TongHop2.ipynb",
      "provenance": [],
      "authorship_tag": "ABX9TyNYbgWm9wGuBCf8z2rvbg09",
      "include_colab_link": true
    },
    "kernelspec": {
      "name": "python3",
      "display_name": "Python 3"
    },
    "language_info": {
      "name": "python"
    }
  },
  "cells": [
    {
      "cell_type": "markdown",
      "metadata": {
        "id": "view-in-github",
        "colab_type": "text"
      },
      "source": [
        "<a href=\"https://colab.research.google.com/github/dxmai/CS114.L21.KHCL/blob/main/Tu%E1%BA%A7n%201.2%20-%20T%C4%83ng%20t%E1%BB%91c%20t%E1%BB%AB%20t%E1%BB%AB/Tuan_1_2_TongHop2.ipynb\" target=\"_parent\"><img src=\"https://colab.research.google.com/assets/colab-badge.svg\" alt=\"Open In Colab\"/></a>"
      ]
    },
    {
      "cell_type": "markdown",
      "metadata": {
        "id": "_HKP0-NIWAXm"
      },
      "source": [
        "XẾP QUE DIÊM"
      ]
    },
    {
      "cell_type": "code",
      "metadata": {
        "id": "iKNHQdrpVpTf"
      },
      "source": [
        "soTestcase = int(input())\n",
        "count = 0\n",
        "\n",
        "while (count < soTestcase):\n",
        "    soQueDiem = int(input())\n",
        "    k = 0\n",
        "\n",
        "    while (soQueDiem % 2 != 0 or soQueDiem == 2):\n",
        "        k += 1\n",
        "        soQueDiem += 1\n",
        "    print(k)\n",
        "\n",
        "    count += 1"
      ],
      "execution_count": null,
      "outputs": []
    },
    {
      "cell_type": "markdown",
      "metadata": {
        "id": "47R2cfccWI2-"
      },
      "source": [
        "KIỂM TRA CHUỖI"
      ]
    },
    {
      "cell_type": "code",
      "metadata": {
        "id": "TiMikC0WWKZg"
      },
      "source": [
        "nguyenAm = ['a', 'o', 'y', 'e', 'u', 'i']\n",
        "\n",
        "def KiemTraNguyenAm(char):\n",
        "    for i in nguyenAm:\n",
        "        if char == i:\n",
        "            return True\n",
        "    return False\n",
        "\n",
        "string = input()\n",
        "string = string.lower()\n",
        "ans = \"\"\n",
        "\n",
        "for i in string:\n",
        "    if KiemTraNguyenAm(i) == False:\n",
        "        ans += '.'\n",
        "        ans += i\n",
        "print(ans)"
      ],
      "execution_count": null,
      "outputs": []
    },
    {
      "cell_type": "markdown",
      "metadata": {
        "id": "1OqAAOOkWPQL"
      },
      "source": [
        "Lưu ý cá nhân: hàm lower()"
      ]
    },
    {
      "cell_type": "markdown",
      "metadata": {
        "id": "xyEmV378WUGs"
      },
      "source": [
        "CHUỖI NGHỊCH ĐẢO"
      ]
    },
    {
      "cell_type": "code",
      "metadata": {
        "id": "T8U9OQI5WaET"
      },
      "source": [
        "string1 = input()\n",
        "string2 = input()\n",
        "\n",
        "index1 = 0\n",
        "index2 = -1\n",
        "\n",
        "flag = True\n",
        "\n",
        "while (index1 < len(string1)):\n",
        "    if string1[index1] != string2[index2]:\n",
        "        flag = False\n",
        "        break\n",
        "    index1 += 1\n",
        "    index2 -= 1\n",
        "\n",
        "if flag:\n",
        "    print(\"YES\")\n",
        "else:\n",
        "    print(\"NO\")"
      ],
      "execution_count": null,
      "outputs": []
    },
    {
      "cell_type": "markdown",
      "metadata": {
        "id": "XhxiaM6tWi27"
      },
      "source": [
        "BÁN HÀNG"
      ]
    },
    {
      "cell_type": "code",
      "metadata": {
        "id": "w-kPDd9WWk-z"
      },
      "source": [
        "soTestcase = int(input())\n",
        "count = 0\n",
        "\n",
        "while(count < soTestcase):\n",
        "    n = int(input())\n",
        "    array = list(map(int, input().split()))\n",
        "\n",
        "    sum = 0\n",
        "    for i in array:\n",
        "        sum += i\n",
        "\n",
        "    toiThieu = sum // len(array)\n",
        "    if (toiThieu * len(array) < sum):\n",
        "        toiThieu += 1\n",
        "\n",
        "    print(toiThieu)\n",
        "    count += 1"
      ],
      "execution_count": null,
      "outputs": []
    }
  ]
}
