{
  "nbformat": 4,
  "nbformat_minor": 0,
  "metadata": {
    "colab": {
      "name": "Dem_node_la.ipynb",
      "provenance": [],
      "collapsed_sections": [],
      "authorship_tag": "ABX9TyMQx8q1f4pqHvXY9ZsvbrBA",
      "include_colab_link": true
    },
    "kernelspec": {
      "name": "python3",
      "display_name": "Python 3"
    },
    "language_info": {
      "name": "python"
    }
  },
  "cells": [
    {
      "cell_type": "markdown",
      "metadata": {
        "id": "view-in-github",
        "colab_type": "text"
      },
      "source": [
        "<a href=\"https://colab.research.google.com/github/dxmai/CS114.L21.KHCL/blob/main/Wecode/Tu%E1%BA%A7n%203%20-%20%C3%94n%20ti%E1%BA%BFp%20c%E1%BA%A5u%20tr%C3%BAc%20d%E1%BB%AF%20li%E1%BB%87u/Dem_node_la.ipynb\" target=\"_parent\"><img src=\"https://colab.research.google.com/assets/colab-badge.svg\" alt=\"Open In Colab\"/></a>"
      ]
    },
    {
      "cell_type": "markdown",
      "metadata": {
        "id": "StXvHCa-j6bc"
      },
      "source": [
        "ĐẾM NODE LÁ"
      ]
    },
    {
      "cell_type": "code",
      "metadata": {
        "id": "61AmKWafj1m9"
      },
      "source": [
        "from sys import stdin\n",
        "class Node:\n",
        "    def __init__(self, x = 0, left = None, right = None):\n",
        "        self.data = x\n",
        "        self.left = left\n",
        "        self.right = right\n",
        "\n",
        "    def AddToNode(self, x):\n",
        "        if x < self.data:\n",
        "            if self.left == None:\n",
        "                node = Node(x)\n",
        "                self.left = node\n",
        "            else:\n",
        "                self.left.AddToNode(x)\n",
        "        elif x > self.data:\n",
        "            if self.right == None:\n",
        "                node = Node(x)\n",
        "                self.right = node\n",
        "            else:\n",
        "                self.right.AddToNode(x)\n",
        "\n",
        "class BST:\n",
        "    def __init__(self):\n",
        "        self.root = None\n",
        "\n",
        "    def AddToTree(self, x):\n",
        "        if self.root == None:\n",
        "            node = Node(x)\n",
        "            self.root = node\n",
        "        else:\n",
        "            self.root.AddToNode(x)\n",
        "\n",
        "    def getLeafCount(self, node):\n",
        "        if node is None:\n",
        "            return 0\n",
        "        if (node.left is None and node.right is None):\n",
        "            return 1\n",
        "        else:\n",
        "            return self.getLeafCount(node.left) + self.getLeafCount(node.right)\n",
        "\n",
        "array = BST()\n",
        "\n",
        "while (True):\n",
        "    nhap = int(stdin.readline())\n",
        "    if nhap == 0:\n",
        "        break\n",
        "    else:\n",
        "        array.AddToTree(nhap)\n",
        "print(array.getLeafCount(array.root))"
      ],
      "execution_count": null,
      "outputs": []
    },
    {
      "cell_type": "markdown",
      "metadata": {
        "id": "ko7C7nl3kNfK"
      },
      "source": [
        "Tham khảo ở: https://www.geeksforgeeks.org/write-a-c-program-to-get-count-of-leaf-nodes-in-a-binary-tree/"
      ]
    }
  ]
}