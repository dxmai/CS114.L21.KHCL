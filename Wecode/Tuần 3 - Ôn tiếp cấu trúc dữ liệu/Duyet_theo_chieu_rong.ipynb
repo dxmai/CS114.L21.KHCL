{
  "nbformat": 4,
  "nbformat_minor": 0,
  "metadata": {
    "colab": {
      "name": "Duyet_theo_chieu_rong.ipynb",
      "provenance": [],
      "collapsed_sections": [],
      "authorship_tag": "ABX9TyM1P8KWOm36QsPGse8Ac2J1",
      "include_colab_link": true
    },
    "kernelspec": {
      "name": "python3",
      "display_name": "Python 3"
    },
    "language_info": {
      "name": "python"
    }
  },
  "cells": [
    {
      "cell_type": "markdown",
      "metadata": {
        "id": "view-in-github",
        "colab_type": "text"
      },
      "source": [
        "<a href=\"https://colab.research.google.com/github/dxmai/CS114.L21.KHCL/blob/main/Wecode/Tu%E1%BA%A7n%203%20-%20%C3%94n%20ti%E1%BA%BFp%20c%E1%BA%A5u%20tr%C3%BAc%20d%E1%BB%AF%20li%E1%BB%87u/Duyet_theo_chieu_rong.ipynb\" target=\"_parent\"><img src=\"https://colab.research.google.com/assets/colab-badge.svg\" alt=\"Open In Colab\"/></a>"
      ]
    },
    {
      "cell_type": "markdown",
      "metadata": {
        "id": "FEUFjF4jnrfD"
      },
      "source": [
        "DUYỆT THEO CHIỀU RỘNG"
      ]
    },
    {
      "cell_type": "code",
      "metadata": {
        "id": "SuNZQCsUniGG"
      },
      "source": [
        "from sys import stdin\n",
        "from queue import Queue\n",
        "\n",
        "class Node:\n",
        "    def __init__(self, value):\n",
        "        self.data = value\n",
        "        self.left = None\n",
        "        self.right = None\n",
        "\n",
        "    def AddToNode(self, x):\n",
        "        if x < self.data:\n",
        "            if self.left == None:\n",
        "                node = Node(x)\n",
        "                self.left = node\n",
        "            else:\n",
        "                self.left.AddToNode(x)\n",
        "        elif x > self.data:\n",
        "            if self.right == None:\n",
        "                node = Node(x)\n",
        "                self.right = node\n",
        "            else:\n",
        "                self.right.AddToNode(x)\n",
        "\n",
        "class BST:\n",
        "    def __init__(self):\n",
        "        self.root = None\n",
        "\n",
        "    def AddToTree(self, x):\n",
        "        if self.root == None:\n",
        "            node = Node(x)\n",
        "            self.root = node\n",
        "        else:\n",
        "            self.root.AddToNode(x)\n",
        "\n",
        "    def printLevelOrder(self, root):\n",
        "        q = Queue()\n",
        "        q.put(root)\n",
        "        times = 1\n",
        "        while (not q.empty()):\n",
        "            temp = q.get()\n",
        "            if temp == None:\n",
        "                continue\n",
        "            print(temp.data, end = ' ')\n",
        "            q.put(temp.left)\n",
        "            q.put(temp.right)\n",
        "\n",
        "\n",
        "array = BST()\n",
        "count = 0\n",
        "while (True):\n",
        "    nhap = int(stdin.readline())\n",
        "    if nhap == 0:\n",
        "        break\n",
        "    array.AddToTree(nhap)\n",
        "    count += 1\n",
        "\n",
        "array.printLevelOrder(array.root)"
      ],
      "execution_count": null,
      "outputs": []
    },
    {
      "cell_type": "markdown",
      "metadata": {
        "id": "21AMLPUUoTrz"
      },
      "source": [
        "Tham khảo ở: https://www.askpython.com/python/examples/level-order-binary-tree"
      ]
    }
  ]
}