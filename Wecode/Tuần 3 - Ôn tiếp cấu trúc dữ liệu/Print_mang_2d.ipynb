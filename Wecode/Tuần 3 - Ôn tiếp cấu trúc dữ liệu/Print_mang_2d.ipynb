{
  "nbformat": 4,
  "nbformat_minor": 0,
  "metadata": {
    "colab": {
      "name": "Print_mang_2d.ipynb",
      "provenance": [],
      "authorship_tag": "ABX9TyOvI8TWGM8oUKPFRLx8IgZy",
      "include_colab_link": true
    },
    "kernelspec": {
      "name": "python3",
      "display_name": "Python 3"
    },
    "language_info": {
      "name": "python"
    }
  },
  "cells": [
    {
      "cell_type": "markdown",
      "metadata": {
        "id": "view-in-github",
        "colab_type": "text"
      },
      "source": [
        "<a href=\"https://colab.research.google.com/github/dxmai/CS114.L21.KHCL/blob/main/Wecode/Tu%E1%BA%A7n%203%20-%20%C3%94n%20ti%E1%BA%BFp%20c%E1%BA%A5u%20tr%C3%BAc%20d%E1%BB%AF%20li%E1%BB%87u/Print_mang_2d.ipynb\" target=\"_parent\"><img src=\"https://colab.research.google.com/assets/colab-badge.svg\" alt=\"Open In Colab\"/></a>"
      ]
    },
    {
      "cell_type": "markdown",
      "metadata": {
        "id": "n84VM021pMsT"
      },
      "source": [
        "KHÔNG ĐƯỢC ĐIỂM TỐI ĐA. CẦN ĐIỀU CHỈNH LẠI"
      ]
    },
    {
      "cell_type": "markdown",
      "metadata": {
        "id": "81OsGUnBpJp8"
      },
      "source": [
        "PRINT MẢNG 2D"
      ]
    },
    {
      "cell_type": "code",
      "metadata": {
        "id": "ygCfEd4IpAOd"
      },
      "source": [
        "from sys import stdin, stdout\n",
        "\n",
        "def FindMaxOnLine(array):\n",
        "    ans = array[0]\n",
        "    for i in array[1:]:\n",
        "        if len(str(ans)) < len(str(i)):\n",
        "            ans = i\n",
        "    return ans\n",
        "\n",
        "hang, cot = stdin.readline().split()\n",
        "array = []\n",
        "for i in range(int(hang)):\n",
        "    array.append(list(map(int, stdin.readline().split())))\n",
        "\n",
        "dis = []\n",
        "maxLine = []\n",
        "ans = [[0] * int(hang) for _ in range(int(cot))]\n",
        "\n",
        "for i in range(len(array)):\n",
        "   for j in range(len(array[i])):\n",
        "       ans[j][i] = array[i][j]\n",
        "\n",
        "for i in range(int(cot)):\n",
        "    maxLine.append(len(str(FindMaxOnLine(ans[i]))))\n",
        "\n",
        "for i in array:\n",
        "    for j in i:\n",
        "        dis.append(len(str(j)))\n",
        "\n",
        "index = 0\n",
        "indexLine = 0\n",
        "\n",
        "for i in range(len(array)):\n",
        "    for j in array[i]:\n",
        "        temp = dis[index]\n",
        "        while temp < maxLine[indexLine]:\n",
        "            stdout.write(' ')\n",
        "            temp += 1\n",
        "        indexLine += 1\n",
        "        if indexLine == int(cot):\n",
        "            indexLine = 0\n",
        "        if (index + 1) % int(cot) == 0:\n",
        "            stdout.write(str(j) + '\\n')\n",
        "        else:\n",
        "            stdout.write(str(j) + ' ')\n",
        "        index += 1"
      ],
      "execution_count": null,
      "outputs": []
    }
  ]
}