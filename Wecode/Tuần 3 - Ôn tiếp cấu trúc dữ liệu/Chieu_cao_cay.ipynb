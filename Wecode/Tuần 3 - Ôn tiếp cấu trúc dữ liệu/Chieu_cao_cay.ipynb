{
  "nbformat": 4,
  "nbformat_minor": 0,
  "metadata": {
    "colab": {
      "name": "Chieu_cao_cay.ipynb",
      "provenance": [],
      "collapsed_sections": [],
      "authorship_tag": "ABX9TyMRgdYyZPQhnJVozzu4je1N",
      "include_colab_link": true
    },
    "kernelspec": {
      "name": "python3",
      "display_name": "Python 3"
    },
    "language_info": {
      "name": "python"
    }
  },
  "cells": [
    {
      "cell_type": "markdown",
      "metadata": {
        "id": "view-in-github",
        "colab_type": "text"
      },
      "source": [
        "<a href=\"https://colab.research.google.com/github/dxmai/CS114.L21.KHCL/blob/main/Wecode/Tu%E1%BA%A7n%203%20-%20%C3%94n%20ti%E1%BA%BFp%20c%E1%BA%A5u%20tr%C3%BAc%20d%E1%BB%AF%20li%E1%BB%87u/Chieu_cao_cay.ipynb\" target=\"_parent\"><img src=\"https://colab.research.google.com/assets/colab-badge.svg\" alt=\"Open In Colab\"/></a>"
      ]
    },
    {
      "cell_type": "markdown",
      "metadata": {
        "id": "TUtYc04wl34s"
      },
      "source": [
        "CHIỀU CAO CÂY"
      ]
    },
    {
      "cell_type": "code",
      "metadata": {
        "id": "NvYvk2_hlfqp"
      },
      "source": [
        "from sys import stdin\n",
        "from collections import deque\n",
        "\n",
        "class Node:\n",
        "    def __init__(self, x = 0, left = None, right = None):\n",
        "        self.data = x\n",
        "        self.left = left\n",
        "        self.right = right\n",
        "\n",
        "    def AddToNode(self, x):\n",
        "        if x < self.data:\n",
        "            if self.left == None:\n",
        "                node = Node(x)\n",
        "                self.left = node\n",
        "            else:\n",
        "                self.left.AddToNode(x)\n",
        "        elif x > self.data:\n",
        "            if self.right == None:\n",
        "                node = Node(x)\n",
        "                self.right = node\n",
        "            else:\n",
        "                self.right.AddToNode(x)\n",
        "\n",
        "class BST:\n",
        "    def __init__(self):\n",
        "        self.root = None\n",
        "\n",
        "    def AddToTree(self, x):\n",
        "        if self.root == None:\n",
        "            node = Node(x)\n",
        "            self.root = node\n",
        "        else:\n",
        "            self.root.AddToNode(x)\n",
        "\n",
        "    def Get_Height(self, root):\n",
        "        if root is None:\n",
        "            return 0;\n",
        "        else:\n",
        "            return (1 + max(self.Get_Height(root.left), self.Get_Height(root.right)))\n",
        "\n",
        "array = BST()\n",
        "linkedList = deque()\n",
        "while (True):\n",
        "    nhap = [int(i) for i in stdin.readline().split()]\n",
        "    if nhap[0] == 3:\n",
        "        break\n",
        "    elif nhap[0] == 0:\n",
        "        linkedList.appendleft(nhap[1])\n",
        "    elif nhap[0] == 1:\n",
        "        linkedList.append(nhap[1])\n",
        "    else:\n",
        "        if nhap[1] in linkedList:\n",
        "            pos = linkedList.index(nhap[1]) + 1\n",
        "            linkedList.insert(pos, nhap[2])\n",
        "        else:\n",
        "            linkedList.appendleft(nhap[2])\n",
        "for i in linkedList:\n",
        "    array.AddToTree(i)\n",
        "print(array.Get_Height(array.root))"
      ],
      "execution_count": null,
      "outputs": []
    },
    {
      "cell_type": "markdown",
      "metadata": {
        "id": "wz9Dfc2bmyly"
      },
      "source": [
        "Tham khảo ở: https://www.techiedelight.com/calculate-height-binary-tree-iterative-recursive/"
      ]
    }
  ]
}