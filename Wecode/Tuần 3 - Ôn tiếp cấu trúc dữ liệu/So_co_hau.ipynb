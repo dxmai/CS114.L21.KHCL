{
  "nbformat": 4,
  "nbformat_minor": 0,
  "metadata": {
    "colab": {
      "name": "So_co_hau.ipynb",
      "provenance": [],
      "collapsed_sections": [],
      "authorship_tag": "ABX9TyN1kwgJ40iNPBE6i67WjBDB",
      "include_colab_link": true
    },
    "kernelspec": {
      "name": "python3",
      "display_name": "Python 3"
    },
    "language_info": {
      "name": "python"
    }
  },
  "cells": [
    {
      "cell_type": "markdown",
      "metadata": {
        "id": "view-in-github",
        "colab_type": "text"
      },
      "source": [
        "<a href=\"https://colab.research.google.com/github/dxmai/CS114.L21.KHCL/blob/main/Wecode/Tu%E1%BA%A7n%203%20-%20%C3%94n%20ti%E1%BA%BFp%20c%E1%BA%A5u%20tr%C3%BAc%20d%E1%BB%AF%20li%E1%BB%87u/So_co_hau.ipynb\" target=\"_parent\"><img src=\"https://colab.research.google.com/assets/colab-badge.svg\" alt=\"Open In Colab\"/></a>"
      ]
    },
    {
      "cell_type": "markdown",
      "metadata": {
        "id": "7PvowouPotG0"
      },
      "source": [
        "SỐ CÓ HẬU"
      ]
    },
    {
      "cell_type": "code",
      "metadata": {
        "id": "5XX1Cl3coqab"
      },
      "source": [
        "from sys import stdin\n",
        "\n",
        "hau, gioiHan = map(int, stdin.readline().split())\n",
        "\n",
        "k = str(hau)\n",
        "if hau >= 1 and hau <= gioiHan:\n",
        "    count = 0\n",
        "    temp = pow(10, len(k))\n",
        "    index = gioiHan // temp\n",
        "    while index >= 0:\n",
        "        total = (index * temp) + hau\n",
        "        if total <= gioiHan:\n",
        "            total = index + 1\n",
        "            break\n",
        "        else:\n",
        "            count += 1\n",
        "            total = index - count\n",
        "        index -= 1\n",
        "\n",
        "print(total)"
      ],
      "execution_count": null,
      "outputs": []
    }
  ]
}