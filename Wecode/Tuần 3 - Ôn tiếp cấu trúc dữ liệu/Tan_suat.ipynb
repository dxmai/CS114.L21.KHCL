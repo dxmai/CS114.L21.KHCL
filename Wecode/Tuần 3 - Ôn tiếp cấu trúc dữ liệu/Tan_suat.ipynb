{
  "nbformat": 4,
  "nbformat_minor": 0,
  "metadata": {
    "colab": {
      "name": "Tan_suat.ipynb",
      "provenance": [],
      "collapsed_sections": [],
      "authorship_tag": "ABX9TyOC3ZR5GHNZNg/M3/cU3uU+",
      "include_colab_link": true
    },
    "kernelspec": {
      "name": "python3",
      "display_name": "Python 3"
    },
    "language_info": {
      "name": "python"
    }
  },
  "cells": [
    {
      "cell_type": "markdown",
      "metadata": {
        "id": "view-in-github",
        "colab_type": "text"
      },
      "source": [
        "<a href=\"https://colab.research.google.com/github/dxmai/CS114.L21.KHCL/blob/main/Wecode/Tu%E1%BA%A7n%203%20-%20%C3%94n%20ti%E1%BA%BFp%20c%E1%BA%A5u%20tr%C3%BAc%20d%E1%BB%AF%20li%E1%BB%87u/Tan_suat.ipynb\" target=\"_parent\"><img src=\"https://colab.research.google.com/assets/colab-badge.svg\" alt=\"Open In Colab\"/></a>"
      ]
    },
    {
      "cell_type": "markdown",
      "metadata": {
        "id": "CIXc7Qz5jft6"
      },
      "source": [
        "TẦN SUẤT"
      ]
    },
    {
      "cell_type": "code",
      "metadata": {
        "id": "4HqfPCzGjdEU"
      },
      "source": [
        "from collections import deque\n",
        "\n",
        "testCases = int(input())\n",
        "count = 0\n",
        "while count < testCases:\n",
        "    array = deque()\n",
        "    size, soK = input().split()\n",
        "    nhap = input().split()\n",
        "    for x in nhap:\n",
        "        array.append(x)\n",
        "    print(array.count(soK))\n",
        "    count += 1"
      ],
      "execution_count": null,
      "outputs": []
    }
  ]
}