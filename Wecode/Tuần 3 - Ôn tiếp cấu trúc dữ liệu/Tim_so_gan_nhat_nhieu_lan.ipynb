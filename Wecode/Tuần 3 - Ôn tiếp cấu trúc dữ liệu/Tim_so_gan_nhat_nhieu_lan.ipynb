{
  "nbformat": 4,
  "nbformat_minor": 0,
  "metadata": {
    "colab": {
      "name": "Tim_so_gan_nhat_nhieu_lan.ipynb",
      "provenance": [],
      "collapsed_sections": [],
      "authorship_tag": "ABX9TyMNWmpVunYB7JBeelp8idcr",
      "include_colab_link": true
    },
    "kernelspec": {
      "name": "python3",
      "display_name": "Python 3"
    },
    "language_info": {
      "name": "python"
    }
  },
  "cells": [
    {
      "cell_type": "markdown",
      "metadata": {
        "id": "view-in-github",
        "colab_type": "text"
      },
      "source": [
        "<a href=\"https://colab.research.google.com/github/dxmai/CS114.L21.KHCL/blob/main/Wecode/Tu%E1%BA%A7n%203%20-%20%C3%94n%20ti%E1%BA%BFp%20c%E1%BA%A5u%20tr%C3%BAc%20d%E1%BB%AF%20li%E1%BB%87u/Tim_so_gan_nhat_nhieu_lan.ipynb\" target=\"_parent\"><img src=\"https://colab.research.google.com/assets/colab-badge.svg\" alt=\"Open In Colab\"/></a>"
      ]
    },
    {
      "cell_type": "markdown",
      "metadata": {
        "id": "Zau5eRxhpn1a"
      },
      "source": [
        "KHÔNG ĐƯỢC ĐIỂM TỐI ĐA"
      ]
    },
    {
      "cell_type": "markdown",
      "metadata": {
        "id": "PzalWbpkpldT"
      },
      "source": [
        "TÌM SỐ GẦN NHẤT NHIỀU LẦN"
      ]
    },
    {
      "cell_type": "code",
      "metadata": {
        "id": "PoRtJYrGpdyf"
      },
      "source": [
        "import bisect\n",
        "size = int(input())\n",
        "\n",
        "array = list(map(int, input().split()))\n",
        "while True:\n",
        "    nhap = input()\n",
        "    if not nhap:\n",
        "        break\n",
        "    ans = []\n",
        "\n",
        "    soK, soSoSanh = map(int, nhap.split())\n",
        "\n",
        "    viTriTrai = bisect.bisect_left(array, soSoSanh) - 1\n",
        "    viTriPhai = viTriTrai + 1\n",
        "    count = 0\n",
        "\n",
        "    while viTriTrai >= 0 and viTriPhai < size and count < soK:\n",
        "        if soSoSanh - array[viTriTrai] <= array[viTriPhai] - soSoSanh:\n",
        "            ans.append(array[viTriTrai])\n",
        "            count += 1\n",
        "            viTriTrai -= 1\n",
        "        else:\n",
        "            ans.append(array[viTriPhai])\n",
        "            count += 1\n",
        "            viTriPhai += 1\n",
        "\n",
        "    while viTriTrai >= 0 and count < soK:\n",
        "        ans.append(array[viTriTrai])\n",
        "        count += 1\n",
        "        viTriTrai -= 1\n",
        "    while viTriPhai < size and count < soK:\n",
        "        ans.append(array[viTriPhai])\n",
        "        count += 1\n",
        "        viTriPhai += 1\n",
        "\n",
        "    ans.sort()\n",
        "    print(ans[0], ans[-1])"
      ],
      "execution_count": null,
      "outputs": []
    }
  ]
}