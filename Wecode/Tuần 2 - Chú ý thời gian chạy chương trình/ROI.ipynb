{
  "nbformat": 4,
  "nbformat_minor": 0,
  "metadata": {
    "colab": {
      "name": "ROI.ipynb",
      "provenance": [],
      "collapsed_sections": [],
      "authorship_tag": "ABX9TyOUlBIgaKLa+xc+P2oqAdsR",
      "include_colab_link": true
    },
    "kernelspec": {
      "name": "python3",
      "display_name": "Python 3"
    },
    "language_info": {
      "name": "python"
    }
  },
  "cells": [
    {
      "cell_type": "markdown",
      "metadata": {
        "id": "view-in-github",
        "colab_type": "text"
      },
      "source": [
        "<a href=\"https://colab.research.google.com/github/dxmai/CS114.L21.KHCL/blob/main/Tu%E1%BA%A7n%202%20-%20Ch%C3%BA%20%C3%BD%20th%E1%BB%9Di%20gian%20ch%E1%BA%A1y%20ch%C6%B0%C6%A1ng%20tr%C3%ACnh/ROI.ipynb\" target=\"_parent\"><img src=\"https://colab.research.google.com/assets/colab-badge.svg\" alt=\"Open In Colab\"/></a>"
      ]
    },
    {
      "cell_type": "markdown",
      "metadata": {
        "id": "WZmO-vJHYijz"
      },
      "source": [
        "ROI"
      ]
    },
    {
      "cell_type": "code",
      "metadata": {
        "id": "WojWHz68YhGw"
      },
      "source": [
        "chieuCao, chieuRong = map(int, input().split())\n",
        "\n",
        "hinhAnh = []\n",
        "ans = [[0] * chieuRong for _ in range(chieuCao)]\n",
        "\n",
        "for i in range(chieuCao):\n",
        "    canhNgang = list(map(int, input().split()))\n",
        "    hinhAnh.append(canhNgang)\n",
        "\n",
        "top, left, bottom, right = map(int, input().split())\n",
        "\n",
        "for i in range(top, bottom + 1):\n",
        "    ans[i][left:right+1] = hinhAnh[i][left:right+1]\n",
        "\n",
        "for i in range(len(ans)):\n",
        "    print(*ans[i], sep = ' ')"
      ],
      "execution_count": null,
      "outputs": []
    },
    {
      "cell_type": "markdown",
      "metadata": {
        "id": "3FAXTzqcYlMT"
      },
      "source": [
        "Lưu ý cá nhân: Numpy cũng là 1 cách cài đặt để giải bài toán này."
      ]
    }
  ]
}
