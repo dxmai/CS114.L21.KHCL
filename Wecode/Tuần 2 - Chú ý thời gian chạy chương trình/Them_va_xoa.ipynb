{
  "nbformat": 4,
  "nbformat_minor": 0,
  "metadata": {
    "colab": {
      "name": "Them_va_xoa.ipynb",
      "provenance": [],
      "collapsed_sections": [],
      "authorship_tag": "ABX9TyOqY3XfGdkHteOBaKnG87KM",
      "include_colab_link": true
    },
    "kernelspec": {
      "name": "python3",
      "display_name": "Python 3"
    },
    "language_info": {
      "name": "python"
    }
  },
  "cells": [
    {
      "cell_type": "markdown",
      "metadata": {
        "id": "view-in-github",
        "colab_type": "text"
      },
      "source": [
        "<a href=\"https://colab.research.google.com/github/dxmai/CS114.L21.KHCL/blob/main/Tu%E1%BA%A7n%202%20-%20Ch%C3%BA%20%C3%BD%20th%E1%BB%9Di%20gian%20ch%E1%BA%A1y%20ch%C6%B0%C6%A1ng%20tr%C3%ACnh/Them_va_xoa.ipynb\" target=\"_parent\"><img src=\"https://colab.research.google.com/assets/colab-badge.svg\" alt=\"Open In Colab\"/></a>"
      ]
    },
    {
      "cell_type": "markdown",
      "metadata": {
        "id": "2PjHSqT4clEW"
      },
      "source": [
        "THÊM VÀ XÓA"
      ]
    },
    {
      "cell_type": "code",
      "metadata": {
        "id": "845h_COtciA1"
      },
      "source": [
        "from collections import deque\n",
        "from sys import stdin\n",
        "#Dùng stdin sẽ đọc dữ liệu nhanh hơn, đã đi hỏi bạn Khánh :v \n",
        "\n",
        "array = deque()\n",
        "\n",
        "while (True):\n",
        "    nhap = [int(i) for i in stdin.readline().split()]\n",
        "    if nhap[0] == 6:\n",
        "        break\n",
        "    elif nhap[0] == 5:\n",
        "        if array:\n",
        "            array.popleft()\n",
        "    elif nhap[0] == 0:\n",
        "        array.appendleft(nhap[1])\n",
        "    elif nhap[0] == 1:\n",
        "        array.append(nhap[1])\n",
        "    elif nhap[0] == 3 and nhap[1] in array:\n",
        "        array.remove(nhap[1])\n",
        "    elif nhap[0] == 4:\n",
        "        temp = array.copy()\n",
        "        index = 0\n",
        "        for i in temp:\n",
        "            if i == nhap[1]:\n",
        "                del array[index]\n",
        "                index -= 1\n",
        "            index += 1\n",
        "    elif nhap[0] == 2 and nhap[1] in array:\n",
        "        pos = array.index(nhap[1]) + 1\n",
        "        array.insert(pos, nhap[2])\n",
        "    elif nhap[0] == 2:\n",
        "        array.appendleft(nhap[2])\n",
        "if array:\n",
        "    print(*array, sep = ' ')\n",
        "else:\n",
        "    print('blank')"
      ],
      "execution_count": null,
      "outputs": []
    },
    {
      "cell_type": "markdown",
      "metadata": {
        "id": "Ne6PWL_lcnlM"
      },
      "source": [
        "Kiểu dữ liệu dequeu: thao tác thêm xóa nhanh hơn, tiện hơn\n",
        "\n",
        "Tham khảo thêm ở: https://docs.python.org/3/library/collections.html"
      ]
    }
  ]
}
