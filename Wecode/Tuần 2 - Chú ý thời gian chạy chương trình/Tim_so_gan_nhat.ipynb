{
  "nbformat": 4,
  "nbformat_minor": 0,
  "metadata": {
    "colab": {
      "name": "Tim_so_gan_nhat.ipynb",
      "provenance": [],
      "collapsed_sections": [],
      "authorship_tag": "ABX9TyMrIb90uI278f1dnvmcrnPD",
      "include_colab_link": true
    },
    "kernelspec": {
      "name": "python3",
      "display_name": "Python 3"
    },
    "language_info": {
      "name": "python"
    }
  },
  "cells": [
    {
      "cell_type": "markdown",
      "metadata": {
        "id": "view-in-github",
        "colab_type": "text"
      },
      "source": [
        "<a href=\"https://colab.research.google.com/github/dxmai/CS114.L21.KHCL/blob/main/Tu%E1%BA%A7n%202%20-%20Ch%C3%BA%20%C3%BD%20th%E1%BB%9Di%20gian%20ch%E1%BA%A1y%20ch%C6%B0%C6%A1ng%20tr%C3%ACnh/Tim_so_gan_nhat.ipynb\" target=\"_parent\"><img src=\"https://colab.research.google.com/assets/colab-badge.svg\" alt=\"Open In Colab\"/></a>"
      ]
    },
    {
      "cell_type": "markdown",
      "metadata": {
        "id": "O4n8fWEEbGuV"
      },
      "source": [
        "TÌM SỐ GẦN NHẤT"
      ]
    },
    {
      "cell_type": "code",
      "metadata": {
        "id": "H1A1TFk6bFY3"
      },
      "source": [
        "import bisect\n",
        "size = int(input())\n",
        "\n",
        "array = list(map(int, input().split()))\n",
        "ans = []\n",
        "\n",
        "soK, soSoSanh = map(int, input().split())\n",
        "\n",
        "viTriTrai = bisect.bisect_left(array, soSoSanh) - 1\n",
        "viTriPhai = viTriTrai + 1\n",
        "count = 0\n",
        "\n",
        "while viTriTrai >= 0 and viTriPhai < size and count < soK:\n",
        "    if soSoSanh - array[viTriTrai] <= array[viTriPhai] - soSoSanh:\n",
        "        ans.append(array[viTriTrai])\n",
        "        count += 1\n",
        "        viTriTrai -= 1\n",
        "    else:\n",
        "        ans.append(array[viTriPhai])\n",
        "        count += 1\n",
        "        viTriPhai += 1\n",
        "\n",
        "while viTriTrai >= 0 and count < soK:\n",
        "    ans.append(array[viTriTrai])\n",
        "    count += 1\n",
        "    viTriTrai -= 1\n",
        "while viTriPhai < size and count < soK:\n",
        "    ans.append(array[viTriPhai])\n",
        "    count += 1\n",
        "    viTriPhai += 1\n",
        "\n",
        "ans.sort()\n",
        "print(*ans, sep = ' ')"
      ],
      "execution_count": null,
      "outputs": []
    },
    {
      "cell_type": "markdown",
      "metadata": {
        "id": "o3N33TeBbNPT"
      },
      "source": [
        "Lưu ý cá nhân: thư viện bisect hỗ trợ tìm kiếm nhị phân binary search\n",
        "\n",
        "Tham khảo thêm ở: https://docs.python.org/3/library/bisect.html"
      ]
    }
  ]
}
